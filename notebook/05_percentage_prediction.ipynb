{
 "cells": [
  {
   "cell_type": "code",
   "execution_count": null,
   "metadata": {
    "collapsed": false
   },
   "outputs": [],
   "source": [
    "# This chunk of code make it possible to use src functions\n",
    "import sys\n",
    "import os\n",
    "module_path = os.path.abspath(os.path.join('../src'))\n",
    "\n",
    "if module_path not in sys.path:\n",
    "    sys.path.append(module_path)\n",
    "import warnings\n",
    "warnings.filterwarnings('ignore')\n",
    "    \n",
    "from dsproject import dsproject\n",
    "import pandas as pd\n",
    "from model import *\n",
    "\n",
    "dsp = dsproject()"
   ]
  },
  {
   "cell_type": "code",
   "execution_count": null,
   "metadata": {
    "collapsed": false
   },
   "outputs": [],
   "source": [
    "from sklearn.preprocessing import StandardScaler\n",
    "import numpy as np\n",
    "train = dsp.read_table(train_dataset + '_group1_prediction', 'output')\n",
    "train.loc[train['Percentage']>1] = 1.0\n",
    "train = train.loc[train['group1_prediction']==0]"
   ]
  },
  {
   "cell_type": "code",
   "execution_count": null,
   "metadata": {
    "collapsed": true
   },
   "outputs": [],
   "source": [
    "def preprocess_percentage(df, scaler=None):\n",
    "    if not scaler:\n",
    "        scaler = StandardScaler().fit(df['Percentage'])\n",
    "    df['Percentage_trans'] = scaler.transform(df['Percentage'])\n",
    "    return df, scaler"
   ]
  },
  {
   "cell_type": "code",
   "execution_count": null,
   "metadata": {
    "collapsed": false
   },
   "outputs": [],
   "source": [
    "#train, scaler = preprocess_percentage(train)\n",
    "\n",
    "%matplotlib inline\n",
    "import seaborn as sns\n",
    "sns.distplot(train['Percentage'])"
   ]
  },
  {
   "cell_type": "code",
   "execution_count": null,
   "metadata": {
    "collapsed": false
   },
   "outputs": [],
   "source": [
    "validate = dsp.read_table(validate_dataset + '_group5_prediction', 'output')\n",
    "validate.loc[validate['Percentage']>1] = 1.0\n",
    "#validate, scaler = preprocess_percentage(validate, scaler=scaler)\n",
    "validate = validate.loc[validate['group1_prediction']==0]"
   ]
  },
  {
   "cell_type": "code",
   "execution_count": null,
   "metadata": {
    "collapsed": false
   },
   "outputs": [],
   "source": [
    "score = dsp.read_table(score_dataset + '_group5_prediction', 'output')\n",
    "score.loc[score['Percentage']>1] = 1.0"
   ]
  },
  {
   "cell_type": "code",
   "execution_count": null,
   "metadata": {
    "collapsed": false
   },
   "outputs": [],
   "source": [
    "x, y, col_to_drop_numeric, col_to_drop_cat = feature_selection(train, 'Percentage', func_numeric=f_regression, func_cat=f_regression)\n",
    "x_validate, y_validate, _, _ = feature_selection(validate, 'Percentage', col_to_drop_numeric, col_to_drop_cat, func_numeric=f_regression, func_cat=f_regression)"
   ]
  },
  {
   "cell_type": "code",
   "execution_count": null,
   "metadata": {
    "collapsed": true
   },
   "outputs": [],
   "source": [
    "from sklearn.ensemble import RandomForestRegressor as RFR\n",
    "from sklearn.linear_model import LinearRegression as LR\n",
    "from sklearn.cross_validation import train_test_split\n",
    "from sklearn.metrics import mean_squared_error\n",
    "from math import sqrt\n",
    "\n",
    "def test_model(model, x_train, x_test, y_train, y_test):\n",
    "    model.fit(x_train, y_train)\n",
    "    yhat = model.predict(x_test)\n",
    "    result = sqrt(mean_squared_error(y_test, yhat))\n",
    "    print(\"Error of prediction : %2.3f\" % result)\n",
    "    return model\n",
    "\n",
    "def train_regressor(x, y):\n",
    "    estim = {'LR': LR(n_jobs=-1), \n",
    "             'RFR': RFR(n_estimators=50, n_jobs=-1, oob_score=True, min_samples_leaf=10, random_state=42)}\n",
    "    x_train, x_test, y_train, y_test = train_test_split(x, y, test_size=0.2)\n",
    "\n",
    "    mod = {}\n",
    "    for key, value in estim.items():\n",
    "        mod[key] = test_model(value, x_train, x_test, y_train, y_test)\n",
    "    return mod, (x_train, x_test, y_train, y_test)"
   ]
  },
  {
   "cell_type": "code",
   "execution_count": null,
   "metadata": {
    "collapsed": true
   },
   "outputs": [],
   "source": [
    "def validate_model(model, x, y):\n",
    "    yhat = model.predict(x_test)\n",
    "    result = sqrt(mean_squared_error(y_test, yhat))\n",
    "    print(\"Error of prediction : %2.3f\" % result)\n",
    "    return result"
   ]
  },
  {
   "cell_type": "code",
   "execution_count": null,
   "metadata": {
    "collapsed": false
   },
   "outputs": [],
   "source": [
    "modr1, (x_train, x_test, y_train, y_test) = train_regressor(x, y)"
   ]
  },
  {
   "cell_type": "code",
   "execution_count": null,
   "metadata": {
    "collapsed": false
   },
   "outputs": [],
   "source": [
    "validate_model(modr1['RFR'], x_validate, y_validate)"
   ]
  },
  {
   "cell_type": "markdown",
   "metadata": {},
   "source": [
    "Customer values"
   ]
  },
  {
   "cell_type": "code",
   "execution_count": null,
   "metadata": {
    "collapsed": false
   },
   "outputs": [],
   "source": [
    "yhat = modr1['RFR'].predict(x_validate)"
   ]
  },
  {
   "cell_type": "code",
   "execution_count": null,
   "metadata": {
    "collapsed": false
   },
   "outputs": [],
   "source": [
    "%matplotlib inline\n",
    "sns.distplot(yhat)"
   ]
  },
  {
   "cell_type": "code",
   "execution_count": null,
   "metadata": {
    "collapsed": false
   },
   "outputs": [],
   "source": [
    "sns.regplot(yhat, validate['Percentage'])"
   ]
  },
  {
   "cell_type": "code",
   "execution_count": null,
   "metadata": {
    "collapsed": false
   },
   "outputs": [],
   "source": [
    "from sklearn.metrics import r2_score\n",
    "r2_score(validate['Percentage'], yhat)"
   ]
  },
  {
   "cell_type": "code",
   "execution_count": null,
   "metadata": {
    "collapsed": false
   },
   "outputs": [],
   "source": [
    "from scipy.stats import spearmanr, pearsonr\n",
    "spearmanr(validate['Percentage'], yhat)"
   ]
  },
  {
   "cell_type": "code",
   "execution_count": null,
   "metadata": {
    "collapsed": false
   },
   "outputs": [],
   "source": [
    "pearsonr(validate['Percentage'], yhat)"
   ]
  },
  {
   "cell_type": "code",
   "execution_count": null,
   "metadata": {
    "collapsed": true
   },
   "outputs": [],
   "source": []
  }
 ],
 "metadata": {
  "anaconda-cloud": {},
  "kernelspec": {
   "display_name": "Python [default]",
   "language": "python",
   "name": "python3"
  },
  "language_info": {
   "codemirror_mode": {
    "name": "ipython",
    "version": 3
   },
   "file_extension": ".py",
   "mimetype": "text/x-python",
   "name": "python",
   "nbconvert_exporter": "python",
   "pygments_lexer": "ipython3",
   "version": "3.5.2"
  }
 },
 "nbformat": 4,
 "nbformat_minor": 1
}
