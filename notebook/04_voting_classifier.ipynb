{
 "cells": [
  {
   "cell_type": "code",
   "execution_count": 1,
   "metadata": {
    "collapsed": false
   },
   "outputs": [
    {
     "name": "stderr",
     "output_type": "stream",
     "text": [
      "//anaconda/lib/python3.5/site-packages/sklearn/cross_validation.py:44: DeprecationWarning: This module was deprecated in version 0.18 in favor of the model_selection module into which all the refactored classes and functions are moved. Also note that the interface of the new CV iterators are different from that of this module. This module will be removed in 0.20.\n",
      "  \"This module will be removed in 0.20.\", DeprecationWarning)\n"
     ]
    }
   ],
   "source": [
    "# This chunk of code make it possible to use src functions\n",
    "import sys\n",
    "import os\n",
    "module_path = os.path.abspath(os.path.join('../src'))\n",
    "\n",
    "if module_path not in sys.path:\n",
    "    sys.path.append(module_path)\n",
    "import warnings\n",
    "warnings.filterwarnings('ignore')\n",
    "    \n",
    "from dsproject import dsproject\n",
    "import pandas as pd\n",
    "from model import *\n",
    "\n",
    "dsp = dsproject()"
   ]
  },
  {
   "cell_type": "code",
   "execution_count": 2,
   "metadata": {
    "collapsed": false
   },
   "outputs": [],
   "source": [
    "train = dsp.read_table(train_dataset + '_group1_prediction', 'output')\n",
    "nongroup1_train = train.loc[train['group1_prediction']==0]"
   ]
  },
  {
   "cell_type": "code",
   "execution_count": 3,
   "metadata": {
    "collapsed": false
   },
   "outputs": [],
   "source": [
    "validate = dsp.read_table(validate_dataset + '_group1_prediction', 'output')\n",
    "nongroup1_validate = validate.loc[validate['group1_prediction']==0]"
   ]
  },
  {
   "cell_type": "code",
   "execution_count": 4,
   "metadata": {
    "collapsed": false
   },
   "outputs": [],
   "source": [
    "score = dsp.read_table(score_dataset + '_group1_prediction', 'output')\n",
    "nongroup1_score = score.loc[score['group1_prediction']==0]"
   ]
  },
  {
   "cell_type": "code",
   "execution_count": 5,
   "metadata": {
    "collapsed": false
   },
   "outputs": [
    {
     "name": "stdout",
     "output_type": "stream",
     "text": [
      "['AR_RSK_GRD', 'LAST_DLQ_MO', 'CRN_CYC_AMT', 'NON_AUTO_PYMT_AMT']\n",
      "['E_MAIL_F', 'AFF_MBR_TP_ID', 'DLQ_ST_ID', 'INCM_RNG_ID', 'AU_ID', 'IP_LCS_TP_ID', 'IS_PNP_CARD_F', 'NAT_ID', 'IDENTN_TP_ID', 'CST_TP_ID', 'PRVT_WLTH_F', 'IS_INACT_ST_P8M_F', 'IS_STFF_F', 'CARD_TP', 'GND_ID', 'RACE_ID', 'COLL_BR_NBR', 'IS_CLCB_F', 'OCP_ID', 'IS_CARD_VLD_F', 'CC_ST_ID', 'AFF_MBR_ORG_ID', 'SALUT_EN', 'NPL_F', 'MBL_PH_F']\n"
     ]
    }
   ],
   "source": [
    "x, y, col_to_drop_numeric, col_to_drop_cat = feature_selection(nongroup1_train, 'group5')\n",
    "x_validate, y_validate, _, _ = feature_selection(nongroup1_validate, 'group5', col_to_drop_numeric, col_to_drop_cat)"
   ]
  },
  {
   "cell_type": "code",
   "execution_count": 6,
   "metadata": {
    "collapsed": true
   },
   "outputs": [],
   "source": [
    "x_train, x_test, y_train, y_test = train_test_split(x, y, test_size=0.2)"
   ]
  },
  {
   "cell_type": "code",
   "execution_count": 7,
   "metadata": {
    "collapsed": true
   },
   "outputs": [],
   "source": [
    "import numpy as np\n",
    "\n",
    "def balanced_subsample(y):\n",
    "    subsample = []\n",
    "    n_smp = len(y[y==1].index)\n",
    "    \n",
    "    for label in y.value_counts().index:\n",
    "        samples = y[y == label].index.values\n",
    "        index_range = range(samples.shape[0])\n",
    "        indexes = np.random.choice(index_range, size=n_smp, replace=False)\n",
    "        subsample += samples[indexes].tolist()\n",
    "\n",
    "    return subsample"
   ]
  },
  {
   "cell_type": "code",
   "execution_count": 8,
   "metadata": {
    "collapsed": false
   },
   "outputs": [
    {
     "name": "stdout",
     "output_type": "stream",
     "text": [
      "Estimator 0 Subsample\n",
      "             precision    recall  f1-score   support\n",
      "\n",
      "          0       0.87      0.85      0.86      8202\n",
      "          1       0.85      0.88      0.86      8202\n",
      "\n",
      "avg / total       0.86      0.86      0.86     16404\n",
      "\n",
      "Estimator 0 Whole Set\n",
      "             precision    recall  f1-score   support\n",
      "\n",
      "          0       0.99      0.76      0.86    101307\n",
      "          1       0.23      0.88      0.36      8202\n",
      "\n",
      "avg / total       0.93      0.77      0.82    109509\n",
      "\n",
      "Estimator 1 Subsample\n",
      "             precision    recall  f1-score   support\n",
      "\n",
      "          0       0.88      0.84      0.86      8202\n",
      "          1       0.85      0.89      0.87      8202\n",
      "\n",
      "avg / total       0.86      0.86      0.86     16404\n",
      "\n",
      "Estimator 1 Whole Set\n",
      "             precision    recall  f1-score   support\n",
      "\n",
      "          0       0.99      0.75      0.86    101307\n",
      "          1       0.23      0.89      0.36      8202\n",
      "\n",
      "avg / total       0.93      0.76      0.82    109509\n",
      "\n",
      "Estimator 2 Subsample\n",
      "             precision    recall  f1-score   support\n",
      "\n",
      "          0       0.88      0.85      0.87      8202\n",
      "          1       0.86      0.88      0.87      8202\n",
      "\n",
      "avg / total       0.87      0.87      0.87     16404\n",
      "\n",
      "Estimator 2 Whole Set\n",
      "             precision    recall  f1-score   support\n",
      "\n",
      "          0       0.99      0.76      0.86    101307\n",
      "          1       0.23      0.88      0.37      8202\n",
      "\n",
      "avg / total       0.93      0.77      0.82    109509\n",
      "\n",
      "Estimator 3 Subsample\n",
      "             precision    recall  f1-score   support\n",
      "\n",
      "          0       0.88      0.84      0.86      8202\n",
      "          1       0.84      0.89      0.86      8202\n",
      "\n",
      "avg / total       0.86      0.86      0.86     16404\n",
      "\n",
      "Estimator 3 Whole Set\n",
      "             precision    recall  f1-score   support\n",
      "\n",
      "          0       0.99      0.75      0.85    101307\n",
      "          1       0.22      0.89      0.36      8202\n",
      "\n",
      "avg / total       0.93      0.76      0.82    109509\n",
      "\n",
      "Estimator 4 Subsample\n",
      "             precision    recall  f1-score   support\n",
      "\n",
      "          0       0.88      0.85      0.87      8202\n",
      "          1       0.86      0.88      0.87      8202\n",
      "\n",
      "avg / total       0.87      0.87      0.87     16404\n",
      "\n",
      "Estimator 4 Whole Set\n",
      "             precision    recall  f1-score   support\n",
      "\n",
      "          0       0.99      0.76      0.86    101307\n",
      "          1       0.23      0.88      0.36      8202\n",
      "\n",
      "avg / total       0.93      0.77      0.82    109509\n",
      "\n"
     ]
    }
   ],
   "source": [
    "estimators = {}\n",
    "nvoters = 5\n",
    "for i in range(nvoters):\n",
    "    subsample = balanced_subsample(y_train)\n",
    "    x_sub = x_train.loc[subsample]\n",
    "    y_sub = y_train.loc[subsample]\n",
    "    model = RFC(n_estimators=50, n_jobs=-1, oob_score=True, min_samples_leaf=10)\n",
    "    model.fit(x_sub, y_sub)\n",
    "    estimators[i] = model\n",
    "    print(\"Estimator \" + str(i) + \" Subsample\")\n",
    "    validate_model(estimators[i], x_sub, y_sub)\n",
    "    print(\"Estimator \" + str(i) + \" Whole Set\")\n",
    "    validate_model(estimators[i], x_train, y_train)"
   ]
  },
  {
   "cell_type": "code",
   "execution_count": 9,
   "metadata": {
    "collapsed": true
   },
   "outputs": [],
   "source": [
    "from sklearn.metrics import accuracy_score, confusion_matrix\n",
    "def count_votes(x, y, threshold=0.75):\n",
    "    votes = []\n",
    "    ps = []\n",
    "    for i in range(nvoters):\n",
    "        y_hat = estimators[i].predict(x)\n",
    "        votes.append(list(y_hat))\n",
    "        p = estimators[i].predict_proba(x)\n",
    "        ps.append(list(p))\n",
    "    votes = np.array(votes, dtype=int)\n",
    "    sum_votes = votes.sum(axis=0)/nvoters\n",
    "    total_votes = np.array(sum_votes>threshold, dtype=int)\n",
    "    total_ps = np.array(ps, dtype=float).mean(axis=0)\n",
    "    if y is not None:\n",
    "        accuracy_score(total_votes, y)\n",
    "\n",
    "        result = classification_report(y, total_votes)\n",
    "        print(result)\n",
    "    return total_votes, total_ps"
   ]
  },
  {
   "cell_type": "code",
   "execution_count": 10,
   "metadata": {
    "collapsed": false
   },
   "outputs": [
    {
     "name": "stdout",
     "output_type": "stream",
     "text": [
      "Result : group5_voting test\n",
      "             precision    recall  f1-score   support\n",
      "\n",
      "          0       0.98      0.72      0.83     25227\n",
      "          1       0.20      0.83      0.33      2151\n",
      "\n",
      "avg / total       0.92      0.73      0.79     27378\n",
      "\n",
      "Result : group5_voting validate\n",
      "             precision    recall  f1-score   support\n",
      "\n",
      "          0       0.98      0.74      0.85     40315\n",
      "          1       0.21      0.83      0.34      3372\n",
      "\n",
      "avg / total       0.92      0.75      0.81     43687\n",
      "\n"
     ]
    }
   ],
   "source": [
    "threshold = 0.2\n",
    "print('Result : group5_voting test')\n",
    "total_votes, total_ps = count_votes(x_test, y_test, threshold)\n",
    "print('Result : group5_voting validate')\n",
    "total_votes_validate, total_ps_validate = count_votes(x_validate, y_validate, threshold)"
   ]
  },
  {
   "cell_type": "code",
   "execution_count": 11,
   "metadata": {
    "collapsed": false
   },
   "outputs": [
    {
     "name": "stdout",
     "output_type": "stream",
     "text": [
      "Using only one classifier with validate set.\n",
      "             precision    recall  f1-score   support\n",
      "\n",
      "          0       0.98      0.76      0.86     40315\n",
      "          1       0.22      0.80      0.34      3372\n",
      "\n",
      "avg / total       0.92      0.76      0.82     43687\n",
      "\n"
     ]
    }
   ],
   "source": [
    "print(\"Using only one classifier with validate set.\")\n",
    "\n",
    "yhat = estimators[1].predict(x_validate)\n",
    "print(classification_report(y_validate, yhat))"
   ]
  },
  {
   "cell_type": "code",
   "execution_count": 12,
   "metadata": {
    "collapsed": true
   },
   "outputs": [],
   "source": [
    "x_score, y_score, _, _ = feature_selection(nongroup1_score, None, col_to_drop_numeric, col_to_drop_cat)"
   ]
  },
  {
   "cell_type": "code",
   "execution_count": 13,
   "metadata": {
    "collapsed": false
   },
   "outputs": [],
   "source": [
    "total_votes_score, total_ps_score = count_votes(x_score, None, threshold)"
   ]
  },
  {
   "cell_type": "code",
   "execution_count": 21,
   "metadata": {
    "collapsed": false
   },
   "outputs": [
    {
     "name": "stdout",
     "output_type": "stream",
     "text": [
      "             precision    recall  f1-score   support\n",
      "\n",
      "          0       0.99      0.73      0.84    126534\n",
      "          1       0.21      0.89      0.34     10353\n",
      "\n",
      "avg / total       0.93      0.74      0.80    136887\n",
      "\n"
     ]
    }
   ],
   "source": [
    "total_votes, total_ps = count_votes(x, y, threshold)\n",
    "nongroup1_train['group5_prediction'] = total_votes\n",
    "nongroup1_train['group5_probability'] = total_ps[:,1]\n",
    "dsp.write_table(nongroup1_train, train_dataset + '_group5_prediction', 'output')"
   ]
  },
  {
   "cell_type": "code",
   "execution_count": 14,
   "metadata": {
    "collapsed": false
   },
   "outputs": [],
   "source": [
    "nongroup1_validate['group5_prediction'] = total_votes_validate\n",
    "nongroup1_validate['group5_probability'] = total_ps_validate[:,1]\n",
    "dsp.write_table(nongroup1_validate, validate_dataset + '_group5_prediction', 'output')"
   ]
  },
  {
   "cell_type": "code",
   "execution_count": 15,
   "metadata": {
    "collapsed": true
   },
   "outputs": [],
   "source": [
    "nongroup1_score['group5_prediction'] = total_votes_score\n",
    "nongroup1_score['group5_probability'] = total_ps_score[:,1]\n",
    "dsp.write_table(nongroup1_score, score_dataset + '_group5_prediction', 'output')"
   ]
  },
  {
   "cell_type": "code",
   "execution_count": 16,
   "metadata": {
    "collapsed": false
   },
   "outputs": [
    {
     "name": "stdout",
     "output_type": "stream",
     "text": [
      "                       column_name  feature_importance\n",
      "110                     CR_ASES_ID            0.160033\n",
      "45    NBR_DYS_NOT_PY_8DYS_LAST_1MO            0.053835\n",
      "7              NBR_DLQ_ST_1_29_P3M            0.053470\n",
      "33    NBR_DYS_NOT_PY_3DYS_LAST_1MO            0.039536\n",
      "11                     AR_RSK_SCOR            0.032777\n",
      "35                 CST_WST_RSK_IND            0.029431\n",
      "78              CC_STMT_RET_RSN_ID            0.026393\n",
      "30                 AR_RSK_PERF_IND            0.021698\n",
      "20                 AV_PYMT_RTO_P6M            0.019592\n",
      "15   NBR_DYS_NOT_PY_30DYS_LAST_8MO            0.017747\n",
      "31        PYMT_PREV_BAL_AV_3MO_PCT            0.015882\n",
      "87                       MISC_CODE            0.015495\n",
      "27              AV_LMT_USG_RTO_P6M            0.013737\n",
      "22                    CST_WST_SCOR            0.013364\n",
      "32                   LAST_PRCH_DYS            0.013216\n"
     ]
    }
   ],
   "source": [
    "make_feature_importance_table(estimators[1], x_train, 'feature_importance_group5')"
   ]
  },
  {
   "cell_type": "code",
   "execution_count": 17,
   "metadata": {
    "collapsed": false
   },
   "outputs": [],
   "source": [
    "dsp.write_table(nongroup1_validate, validate_dataset + '_group5_prediction', 'output')"
   ]
  },
  {
   "cell_type": "code",
   "execution_count": 18,
   "metadata": {
    "collapsed": false
   },
   "outputs": [],
   "source": [
    "dsp.write_table(nongroup1_score, score_dataset + '_group5_prediction', 'output')"
   ]
  },
  {
   "cell_type": "code",
   "execution_count": null,
   "metadata": {
    "collapsed": true
   },
   "outputs": [],
   "source": []
  }
 ],
 "metadata": {
  "anaconda-cloud": {},
  "kernelspec": {
   "display_name": "Python [default]",
   "language": "python",
   "name": "python3"
  },
  "language_info": {
   "codemirror_mode": {
    "name": "ipython",
    "version": 3
   },
   "file_extension": ".py",
   "mimetype": "text/x-python",
   "name": "python",
   "nbconvert_exporter": "python",
   "pygments_lexer": "ipython3",
   "version": "3.5.2"
  }
 },
 "nbformat": 4,
 "nbformat_minor": 1
}
