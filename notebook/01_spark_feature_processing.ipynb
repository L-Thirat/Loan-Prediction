{
 "cells": [
  {
   "cell_type": "code",
   "execution_count": null,
   "metadata": {
    "collapsed": false
   },
   "outputs": [],
   "source": [
    "# This chunk of code make it possible to use src functions\n",
    "import sys\n",
    "import os\n",
    "module_path = os.path.abspath(os.path.join('../src'))\n",
    "\n",
    "if module_path not in sys.path:\n",
    "    sys.path.append(module_path)\n",
    "import warnings\n",
    "warnings.filterwarnings('ignore')\n",
    "    \n",
    "from DSProject import DSProject\n",
    "import pandas as pd\n",
    "from model import *\n",
    "\n",
    "dsp = DSProject()"
   ]
  },
  {
   "cell_type": "code",
   "execution_count": null,
   "metadata": {
    "collapsed": false
   },
   "outputs": [],
   "source": [
    "df = dsp.read_table(train_dataset, 'feature')"
   ]
  },
  {
   "cell_type": "markdown",
   "metadata": {},
   "source": [
    "Check training data prior to preprocessing"
   ]
  },
  {
   "cell_type": "code",
   "execution_count": null,
   "metadata": {
    "collapsed": false
   },
   "outputs": [],
   "source": [
    "print(df['Group'].value_counts()*100/len(df.index))"
   ]
  },
  {
   "cell_type": "code",
   "execution_count": null,
   "metadata": {
    "collapsed": false
   },
   "outputs": [],
   "source": [
    "print(df['Range_day'].value_counts())"
   ]
  },
  {
   "cell_type": "code",
   "execution_count": null,
   "metadata": {
    "collapsed": true
   },
   "outputs": [],
   "source": [
    "df = df.loc[df['Group'].isin([1,3,5])]\n",
    "df = df.loc[df['Range_day']==1]"
   ]
  },
  {
   "cell_type": "code",
   "execution_count": null,
   "metadata": {
    "collapsed": false
   },
   "outputs": [],
   "source": [
    "total = len(df.index)\n",
    "missing_columns = []\n",
    "for column in df.columns:\n",
    "    if df[column].isnull().sum()/total > 0.80:\n",
    "        missing_columns.append(column)\n",
    "    if len(df[column].unique().tolist()) < 2:\n",
    "        missing_columns.append(column)\n",
    "print(missing_columns)\n",
    "df = df.drop(missing_columns, axis=1)"
   ]
  },
  {
   "cell_type": "code",
   "execution_count": null,
   "metadata": {
    "collapsed": false
   },
   "outputs": [],
   "source": [
    "col_to_drop = list(set(df.columns).intersection(set(index_columns + delete_columns + date_columns)))\n",
    "print(col_to_drop)\n",
    "df = df.drop(col_to_drop, axis=1)"
   ]
  },
  {
   "cell_type": "code",
   "execution_count": null,
   "metadata": {
    "collapsed": true
   },
   "outputs": [],
   "source": [
    "def get_intersect_columns(df, column_list):\n",
    "    return list(set(df.columns).intersection(set(column_list)))\n",
    "category_columns = get_intersect_columns(df, category_columns)\n",
    "numeric_columns = get_intersect_columns(df, numeric_columns)\n",
    "min_max_columns = get_intersect_columns(df, min_max_columns)\n",
    "log1p_columns = get_intersect_columns(df, log1p_columns)"
   ]
  },
  {
   "cell_type": "code",
   "execution_count": null,
   "metadata": {
    "collapsed": false
   },
   "outputs": [],
   "source": [
    "from sklearn import preprocessing\n",
    "from sklearn.preprocessing import StandardScaler\n",
    "import numpy as np\n",
    "\n",
    "def feature_processing(df):\n",
    "    # numeric columns\n",
    "    for column in log1p_columns:\n",
    "        df[column] = np.log(df[column]+1)\n",
    "    for column in min_max_columns:\n",
    "        df[column] = df[column]/df[column].unique().max()\n",
    "    for column in numeric_columns:\n",
    "        df[column] = df[column].fillna(df[column].dropna().mean())\n",
    "    \n",
    "    scaler = StandardScaler().fit(df[numeric_columns])\n",
    "    df[numeric_columns] = scaler.transform(df[numeric_columns])\n",
    "    \n",
    "    # categorical columns\n",
    "    labenc = preprocessing.LabelEncoder()\n",
    "    for column in category_columns:\n",
    "        df[column] = labenc.fit_transform(df[column].tolist())\n",
    "    return df"
   ]
  },
  {
   "cell_type": "code",
   "execution_count": null,
   "metadata": {
    "collapsed": false
   },
   "outputs": [],
   "source": [
    "df = feature_processing(df)"
   ]
  },
  {
   "cell_type": "code",
   "execution_count": null,
   "metadata": {
    "collapsed": false
   },
   "outputs": [],
   "source": [
    "df[['group1', 'group3', 'group5']] = pd.get_dummies(df['Group'])"
   ]
  },
  {
   "cell_type": "code",
   "execution_count": null,
   "metadata": {
    "collapsed": false
   },
   "outputs": [],
   "source": [
    "dsp.write_table(df, train_dataset + '_processed', 'feature')"
   ]
  },
  {
   "cell_type": "markdown",
   "metadata": {},
   "source": [
    "process validate dataset"
   ]
  },
  {
   "cell_type": "code",
   "execution_count": null,
   "metadata": {
    "collapsed": false
   },
   "outputs": [],
   "source": [
    "df_validate = dsp.read_table(validate_dataset, 'feature')\n",
    "df_validate = df_validate.loc[df_validate['Group'].isin([1,3,5])]\n",
    "df_validate = df_validate.loc[df_validate['Range_day']==1]\n",
    "df_validate = df_validate.drop(missing_columns + col_to_drop, axis=1)\n",
    "df_validate = feature_processing(df_validate)\n",
    "df_validate[['group1', 'group3', 'group5']] = pd.get_dummies(df_validate['Group'])\n",
    "dsp.write_table(df_validate, validate_dataset + '_processed', 'feature')"
   ]
  },
  {
   "cell_type": "code",
   "execution_count": null,
   "metadata": {
    "collapsed": false
   },
   "outputs": [],
   "source": [
    "df_score = dsp.read_table(score_dataset, 'feature')\n",
    "df_score = df_score.drop(missing_columns + col_to_drop, axis=1)\n",
    "df_score = feature_processing(df_score)\n",
    "dsp.write_table(df_score, score_dataset + '_processed', 'feature')"
   ]
  },
  {
   "cell_type": "code",
   "execution_count": null,
   "metadata": {
    "collapsed": true
   },
   "outputs": [],
   "source": [
    "import pickle\n",
    "\n",
    "with open('../pkl/column_list.pickle', 'wb') as f:\n",
    "    pickle.dump([numeric_columns, category_columns], f)"
   ]
  }
 ],
 "metadata": {
  "anaconda-cloud": {},
  "kernelspec": {
   "display_name": "Python [default]",
   "language": "python",
   "name": "python3"
  },
  "language_info": {
   "codemirror_mode": {
    "name": "ipython",
    "version": 3
   },
   "file_extension": ".py",
   "mimetype": "text/x-python",
   "name": "python",
   "nbconvert_exporter": "python",
   "pygments_lexer": "ipython3",
   "version": "3.5.2"
  }
 },
 "nbformat": 4,
 "nbformat_minor": 1
}
