{
 "cells": [
  {
   "cell_type": "code",
   "execution_count": null,
   "metadata": {
    "collapsed": false
   },
   "outputs": [],
   "source": [
    "# This chunk of code make it possible to use src functions\n",
    "import sys\n",
    "import os\n",
    "module_path = os.path.abspath(os.path.join('../src'))\n",
    "\n",
    "if module_path not in sys.path:\n",
    "    sys.path.append(module_path)\n",
    "import warnings\n",
    "warnings.filterwarnings('ignore')\n",
    "    \n",
    "from dsproject import dsproject\n",
    "import pandas as pd\n",
    "from model import *\n",
    "\n",
    "dsp = dsproject()"
   ]
  },
  {
   "cell_type": "code",
   "execution_count": null,
   "metadata": {
    "collapsed": true
   },
   "outputs": [],
   "source": [
    "headers = 'HASH_IP_ID|HASH_LPM_CST_ID|HASH_AR_ID|FileDate|Next_FileDate|Previous_FileDate|Group|Payment|Percentage|Month|EFF_DT|END_DT|BRTH_DT|ESTB_DT|DEATH_DT|SALUT_EN|IDENTN_TP_ID|IP_LCS_TP_ID|IP_LCS_EFF_DT|CST_LCS_TP_ID|CST_LCS_EFF_DT|IDV_LCS_TP_ID|IDV_LCS_SHRT_DSC|IDV_LCS_EFF_DT|IP_MRG_ST_TP_ID|IP_MRG_ST_SHRT_DSC|IP_MRG_DT|CR_ASES_ID|CST_SEG_ID|CST_SUB_SEG_ID|CST_SUB_SEG_SHRT_DSC|CST_DUAL_SEG_ID|CST_DUAL_SUB_SEG_ID|CST_DUAL_SUB_SEG_SHRT_DSC|CST_TP_ID|ED_LVL_ID|GND_ID|INCM_RNG_ID|MAR_ST_TP_ID|NAT_ID|RLG_ID|RLG_SHRT_DSC|RACE_ID|OCP_ID|OCP_GRP_ID|IDV_PROF_TP_ID|RM_ID|MGR_ID|DRCTR_ID|SEG_HD_ID|CST_SPRS_F|CST_SPRS_SHRT_DSC|HM_PH_SPRS_F|HM_PH_SPRS_SHRT_DSC|OFFC_PH_SPRS_F|OFFC_PH_SPRS_SHRT_DSC|MBL_PH_SPRS_F|MBL_PH_SPRS_SHRT_DSC|EMAIL_SPRS_F|EMAIL_SPRS_SHRT_DSC|DRC_MAIL_SPRS_F|DRC_MAIL_SPRS_SHRT_DSC|TELE_MKT_SPRS_F|TELE_MKT_SPRS_SHRT_DSC|SMS_SPRS_F|SMS_SPRS_SHRT_DSC|OFFC_ADR_UNCTC_F|OFFC_ADR_UNCTC_RSN_ID|OFFC_ADR_UNCTC_RSN_SHRT_DSC|OFFC_ADR_UNCTC_STMP_DT|WRK_ADR_UNCTC_F|WRK_ADR_UNCTC_RSN_ID|WRK_ADR_UNCTC_RSN_SHRT_DSC|WRK_ADR_UNCTC_STMP_DT|CTC_ADR_UNCTC_F|CTC_ADR_UNCTC_RSN_ID|CTC_ADR_UNCTC_RSN_SHRT_DSC|CTC_ADR_UNCTC_STMP_DT|HM_PH_UNCTC_F|HM_PH_UNCTC_RSN_ID|HM_PH_UNCTC_RSN_SHRT_DSC|HM_PH_UNCTC_STMP_DT|WRK_PH_UNCTC_F|WRK_PH_UNCTC_RSN_ID|WRK_PH_UNCTC_RSN_SHRT_DSC|WRK_PH_UNCTC_STMP_DT|MBL_PH_UNCTC_F|MBL_PH_UNCTC_RSN_ID|MBL_PH_UNCTC_RSN_SHRT_DSC|MBL_PH_UNCTC_STMP_DT|FAX_UNCTC_F|FAX_UNCTC_RSN_ID|FAX_UNCTC_RSN_SHRT_DSC|FAX_UNCTC_STMP_DT|PSN_E_MAIL_UNCTC_F|PSN_E_MAIL_UNCTC_RSN_ID|PSN_E_MAIL_UNCTC_RSN_SHRT_DSC|PSN_E_MAIL_UNCTC_STMP_DT|WRK_E_MAIL_UNCTC_F|WRK_E_MAIL_UNCTC_RSN_ID|WRK_E_MAIL_UNCTC_RSN_SHRT_DSC|WRK_E_MAIL_UNCTC_STMP_DT|MBL_PH_F|E_MAIL_F|CONSND_KA_F|CONSND_KF_F|CONSND_KL_F|CONSND_KS_F|KBNK_STFF_F|PRVT_WLTH_F|BOT_IDY_CL_ID|KBNK_IDY_CL_ID|ORIG_BR_NBR|IP_TP_ID|OFFC_ADR_LO_ID|OFFC_ADR_RGON_ID|CTC_ADR_LO_ID|CTC_ADR_RGON_ID|KBNK_EMPE_ID|APL_CC_MO_INCM_AMT|HSHOLD_NBR_DPND_CHL|CC_STMT_RET_RSN_ID|CC_STMT_RET_RSN_SHRT_DSC|EFF_CST_DT|END_CST_DT|ORG_REV_AMT|PortFolio|ProductName|OSPRINCIPLE|OSAMT|BILLCycle|Card_Type_New|Range_day|CC_TP_ID|BILL_CYC_ID|CRN_DLQ_ST|LAST_PRCH_DYS|LAST_DLQ_MO|LAST_PYMT_DYS|AR_AGE_MO|BAL_LMT_PCT|BAL_AV_LMT_3MO_PCT|CASH_ADV_AV_LMT_3MO_PCT|PYMT_PREV_BAL_AV_3MO_PCT|NBR_DYS_NOT_PY_3DYS_LAST_1MO|NBR_DYS_NOT_PY_8DYS_LAST_1MO|NBR_DYS_NOT_PY_30DYS_LAST_3MO|NBR_DYS_NOT_PY_30DYS_LAST_8MO|NBR_DYS_NOT_PY_60DAY_LAST_6MO|CARD_TP|CARD_LVL|AR_APL_SCOR|CST_WST_SCOR|CST_WST_RSK_IND|CST_WST_RSK_GRD_IND|CST_BAL_AV_LMT_3MO_PCT|AR_RSK_SCOR_ID|AR_RSK_SCOR|AR_RSK_GRD|AR_RSK_PERF_IND|AR_GOOD_BAD_SCOR|AR_GOOD_BAD_CODE|NBR_DLQ_ST_30_59_P3M|NBR_DLQ_ST_1_29_P3M|NBR_OLMT_ST_P3M|NBR_OLMT_ST_P6M|AV_CASH_ADV_AMT_P6M|AV_PYMT_RTO_P6M|AV_LMT_USG_RTO_P6M|NBR_DLQ_ST_60_89_P6M|NBR_FULL_PYMT_P6M|NBR_PART_PYMT_P6M|IS_INACT_ST_P8M_F|CST_WRST_DLQ_ST|AR_LVL_IND|OTSND_BAL_AMT|ACR_INT_AMT|AR_SCR_TP_ID|FSVC_TMT_OUTC_TP_ID|FSVC_LMT_TP_ID|FSVC_RPYMT_TP_ID|RSTC_DFCLT_LVL_ID|FSVC_PDA_SEG_ID|FSVC_UTLZ_SEG_ID|FSVC_UTLZ_RNG_ID|PTNL_ESR_RNG_ID|PHOTO_F|PD_ID|CST_ORG_NBR|AU_ID|ALT_CST_ORG_NBR|BLC_CODE_ID|BLC_DT|ALT_BLC_CODE_ID|ALT_BLC_CODE_DT|ALT_CST_EXP_DT|OPN_DT|MAT_DT|LAST_PRCH_DT|LAST_ADV_DT|LAST_CASH_PYMT_DT|LAST_RTL_PYMT_DT|PYMT_DUE_DT|LAST_MNT_DT|NBR_RQS|PRJ_ID|MN_PYMT_F|CRN_DUE|TAMT_DUE|CRN_STMT_BAL|PREV_STMT_BAL|ORIG_CCY_ID|CARD_CGY_ID|CARD_TP_ID|IS_PNP_CARD_F|PNP_CARD_ITRV_ID|CC_ST_ID|IS_STFF_F|CR_LMT_AMT|PYMT_MTH_ID|NBR_PNP_CARD|RSPL_DEPT_ID|MISC_CODE|NPL_DT|NPL_F|IS_CARD_VLD_F|COLL_BR_NBR|CLT_TP_ID|IS_CLCB_F|CLOSE_DT|CRT_DT|OWN_BR|AC_GRP_ID|AFF_CODE|AFF_MBR_TP_REL_YR|AFF_MBR_ORG_GRP_ID|AFF_MBR_TP_ID|AFF_MBR_ORG_ID|ACT_PYMT_ITRV_ID|AMT_RNG_ID|COLL_RSN_CODE|DLQ_DAY_ITRV_ID|LAST_PYMT_ITRV_ID|COLL_ID|INT_BILL_NOT_PAID_AMT|NON_AUTO_PYMT_AMT|CRN_CYC_AMT|DLQ_DYS|NBR_MO_SNC_LAST_PYMT|DLQ_ST_ID1|DLQ_ST_ID2|DLQ_ST_ID3|DLQ_ST_ID4|DLQ_ST_ID5|DLQ_ST_ID6|DLQ_ST_ID7|DLQ_ST_ID8|DLQ_ST_ID9|DLQ_ST_ID10|DLQ_ST_ID11|DLQ_ST_ID12|DLQ_ST_ID13|DLQ_ST_ID14|DLQ_ST_ID15|DLQ_ST_ID16|DLQ_ST_ID17|DLQ_ST_ID18|DLQ_ST_ID19|DLQ_ST_ID20|DLQ_ST_ID21|DLQ_ST_ID22|DLQ_ST_ID23|DLQ_ST_ID24|PAST_DUE_AMT|ACR_INT_RTL_AMT|ACR_INT_CASH_ADV_AMT|II_AMT|ACR_MISC_MEMO_AMT|ACR_INT_RTL_YTD_AMT|ACR_INT_CASH_ADV_YTD_AMT|BNS_BUCK_BAL|BNS_BUCK_USED|BNS_BUCK_RNG_ID|CRN_BAL_AMT_RNG_ID|PAST_DUE_AMT_RNG_ID|CR_LMT_AMT_RNG_ID|RTL_AMT|CASH_ADV_AMT|PAST_DUE_LT30_AMT|PAST_DUE_30_AMT|CASH_ADV_FEE_AMT|CR_LMT_TEMP_EFF_DT|CR_LMT_TEMP_END_DT|IS_GOOD_PYMT_F|DLQ_ST_ID|AR_SEG_SZ'\n",
    "headers = headers.split('|')"
   ]
  },
  {
   "cell_type": "code",
   "execution_count": null,
   "metadata": {
    "collapsed": true
   },
   "outputs": [],
   "source": [
    "dsp.data_directory = os.path.join(os.path.dirname(dsp.data_directory), 'csv')"
   ]
  },
  {
   "cell_type": "code",
   "execution_count": null,
   "metadata": {
    "collapsed": true
   },
   "outputs": [],
   "source": [
    "def convert_spark_file(filename):\n",
    "    df = pd.read_csv(os.path.join(dsp.data_directory, filename + '.csv'), names=headers)\n",
    "    return df"
   ]
  },
  {
   "cell_type": "code",
   "execution_count": null,
   "metadata": {
    "collapsed": false
   },
   "outputs": [],
   "source": [
    "def convert_spark_files(filenames):\n",
    "    df1 = pd.DataFrame()\n",
    "    for filename in filenames:\n",
    "        df = convert_spark_file(filename)\n",
    "        if df1.empty:\n",
    "            df1 = df\n",
    "        else:\n",
    "            df1 = df1.append(df)"
   ]
  },
  {
   "cell_type": "code",
   "execution_count": null,
   "metadata": {
    "collapsed": false
   },
   "outputs": [],
   "source": [
    "df = convert_spark_file(train_dataset)\n",
    "dsp.write_table(df, train_dataset, 'feature')\n",
    "print(df['FileDate'].min() + ' - ' + df['FileDate'].max())"
   ]
  },
  {
   "cell_type": "code",
   "execution_count": null,
   "metadata": {
    "collapsed": false
   },
   "outputs": [],
   "source": [
    "df = convert_spark_file(validate_dataset)\n",
    "dsp.write_table(df, validate_dataset, 'feature')\n",
    "print(df['FileDate'].min() + ' - ' + df['FileDate'].max())"
   ]
  },
  {
   "cell_type": "code",
   "execution_count": null,
   "metadata": {
    "collapsed": false
   },
   "outputs": [],
   "source": [
    "df = convert_spark_file(score_dataset)\n",
    "dsp.write_table(df, score_dataset, 'feature')\n",
    "print(df['FileDate'].min() + ' - ' + df['FileDate'].max())"
   ]
  },
  {
   "cell_type": "code",
   "execution_count": null,
   "metadata": {
    "collapsed": false
   },
   "outputs": [],
   "source": [
    "len(df.columns)"
   ]
  },
  {
   "cell_type": "code",
   "execution_count": null,
   "metadata": {
    "collapsed": true
   },
   "outputs": [],
   "source": []
  }
 ],
 "metadata": {
  "anaconda-cloud": {},
  "kernelspec": {
   "display_name": "Python [default]",
   "language": "python",
   "name": "python3"
  },
  "language_info": {
   "codemirror_mode": {
    "name": "ipython",
    "version": 3
   },
   "file_extension": ".py",
   "mimetype": "text/x-python",
   "name": "python",
   "nbconvert_exporter": "python",
   "pygments_lexer": "ipython3",
   "version": "3.5.2"
  }
 },
 "nbformat": 4,
 "nbformat_minor": 1
}
