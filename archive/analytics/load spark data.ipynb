{
 "cells": [
  {
   "cell_type": "code",
   "execution_count": 1,
   "metadata": {
    "collapsed": true
   },
   "outputs": [],
   "source": [
    "# This chunk of code make it possible to use src functions\n",
    "import sys\n",
    "import os\n",
    "module_path = os.path.abspath(os.path.join('../src'))\n",
    "\n",
    "if module_path not in sys.path:\n",
    "    sys.path.append(module_path)\n",
    "    \n",
    "from DSProject import DSProject\n",
    "\n",
    "dsp = DSProject()"
   ]
  },
  {
   "cell_type": "code",
   "execution_count": 2,
   "metadata": {
    "collapsed": true
   },
   "outputs": [],
   "source": [
    "headers = 'HASH_IP_ID|HASH_LPM_CST_ID|HASH_AR_ID|FileDate|Next_FileDate|Previous_FileDate|Group|Payment|Percentage|Month|EFF_DT|END_DT|BRTH_DT|ESTB_DT|DEATH_DT|SALUT_EN|IDENTN_TP_ID|IP_LCS_TP_ID|IP_LCS_EFF_DT|CST_LCS_TP_ID|CST_LCS_EFF_DT|IDV_LCS_TP_ID|IDV_LCS_SHRT_DSC|IDV_LCS_EFF_DT|IP_MRG_ST_TP_ID|IP_MRG_ST_SHRT_DSC|IP_MRG_DT|CR_ASES_ID|CST_SEG_ID|CST_SUB_SEG_ID|CST_SUB_SEG_SHRT_DSC|CST_DUAL_SEG_ID|CST_DUAL_SUB_SEG_ID|CST_DUAL_SUB_SEG_SHRT_DSC|CST_TP_ID|ED_LVL_ID|GND_ID|INCM_RNG_ID|MAR_ST_TP_ID|NAT_ID|RLG_ID|RLG_SHRT_DSC|RACE_ID|OCP_ID|OCP_GRP_ID|IDV_PROF_TP_ID|RM_ID|MGR_ID|DRCTR_ID|SEG_HD_ID|CST_SPRS_F|CST_SPRS_SHRT_DSC|HM_PH_SPRS_F|HM_PH_SPRS_SHRT_DSC|OFFC_PH_SPRS_F|OFFC_PH_SPRS_SHRT_DSC|MBL_PH_SPRS_F|MBL_PH_SPRS_SHRT_DSC|EMAIL_SPRS_F|EMAIL_SPRS_SHRT_DSC|DRC_MAIL_SPRS_F|DRC_MAIL_SPRS_SHRT_DSC|TELE_MKT_SPRS_F|TELE_MKT_SPRS_SHRT_DSC|SMS_SPRS_F|SMS_SPRS_SHRT_DSC|OFFC_ADR_UNCTC_F|OFFC_ADR_UNCTC_RSN_ID|OFFC_ADR_UNCTC_RSN_SHRT_DSC|OFFC_ADR_UNCTC_STMP_DT|WRK_ADR_UNCTC_F|WRK_ADR_UNCTC_RSN_ID|WRK_ADR_UNCTC_RSN_SHRT_DSC|WRK_ADR_UNCTC_STMP_DT|CTC_ADR_UNCTC_F|CTC_ADR_UNCTC_RSN_ID|CTC_ADR_UNCTC_RSN_SHRT_DSC|CTC_ADR_UNCTC_STMP_DT|HM_PH_UNCTC_F|HM_PH_UNCTC_RSN_ID|HM_PH_UNCTC_RSN_SHRT_DSC|HM_PH_UNCTC_STMP_DT|WRK_PH_UNCTC_F|WRK_PH_UNCTC_RSN_ID|WRK_PH_UNCTC_RSN_SHRT_DSC|WRK_PH_UNCTC_STMP_DT|MBL_PH_UNCTC_F|MBL_PH_UNCTC_RSN_ID|MBL_PH_UNCTC_RSN_SHRT_DSC|MBL_PH_UNCTC_STMP_DT|FAX_UNCTC_F|FAX_UNCTC_RSN_ID|FAX_UNCTC_RSN_SHRT_DSC|FAX_UNCTC_STMP_DT|PSN_E_MAIL_UNCTC_F|PSN_E_MAIL_UNCTC_RSN_ID|PSN_E_MAIL_UNCTC_RSN_SHRT_DSC|PSN_E_MAIL_UNCTC_STMP_DT|WRK_E_MAIL_UNCTC_F|WRK_E_MAIL_UNCTC_RSN_ID|WRK_E_MAIL_UNCTC_RSN_SHRT_DSC|WRK_E_MAIL_UNCTC_STMP_DT|MBL_PH_F|E_MAIL_F|CONSND_KA_F|CONSND_KF_F|CONSND_KL_F|CONSND_KS_F|KBNK_STFF_F|PRVT_WLTH_F|BOT_IDY_CL_ID|KBNK_IDY_CL_ID|ORIG_BR_NBR|IP_TP_ID|OFFC_ADR_LO_ID|OFFC_ADR_RGON_ID|CTC_ADR_LO_ID|CTC_ADR_RGON_ID|KBNK_EMPE_ID|APL_CC_MO_INCM_AMT|HSHOLD_NBR_DPND_CHL|CC_STMT_RET_RSN_ID|CC_STMT_RET_RSN_SHRT_DSC|EFF_CST_DT|END_CST_DT|ORG_REV_AMT|PortFolio|ProductName|OSPRINCIPLE|OSAMT|BILLCycle|Card_Type_New|Range_day|CC_TP_ID|BILL_CYC_ID|CRN_DLQ_ST|LAST_PRCH_DYS|LAST_DLQ_MO|LAST_PYMT_DYS|AR_AGE_MO|BAL_LMT_PCT|BAL_AV_LMT_3MO_PCT|CASH_ADV_AV_LMT_3MO_PCT|PYMT_PREV_BAL_AV_3MO_PCT|NBR_DYS_NOT_PY_3DYS_LAST_1MO|NBR_DYS_NOT_PY_8DYS_LAST_1MO|NBR_DYS_NOT_PY_30DYS_LAST_3MO|NBR_DYS_NOT_PY_30DYS_LAST_8MO|NBR_DYS_NOT_PY_60DAY_LAST_6MO|CARD_TP|CARD_LVL|AR_APL_SCOR|CST_WST_SCOR|CST_WST_RSK_IND|CST_WST_RSK_GRD_IND|CST_BAL_AV_LMT_3MO_PCT|AR_RSK_SCOR_ID|AR_RSK_SCOR|AR_RSK_GRD|AR_RSK_PERF_IND|AR_GOOD_BAD_SCOR|AR_GOOD_BAD_CODE|NBR_DLQ_ST_30_59_P3M|NBR_DLQ_ST_1_29_P3M|NBR_OLMT_ST_P3M|NBR_OLMT_ST_P6M|AV_CASH_ADV_AMT_P6M|AV_PYMT_RTO_P6M|AV_LMT_USG_RTO_P6M|NBR_DLQ_ST_60_89_P6M|NBR_FULL_PYMT_P6M|NBR_PART_PYMT_P6M|IS_INACT_ST_P8M_F|CST_WRST_DLQ_ST|AR_LVL_IND|OTSND_BAL_AMT|ACR_INT_AMT|AR_SCR_TP_ID|FSVC_TMT_OUTC_TP_ID|FSVC_LMT_TP_ID|FSVC_RPYMT_TP_ID|RSTC_DFCLT_LVL_ID|FSVC_PDA_SEG_ID|FSVC_UTLZ_SEG_ID|FSVC_UTLZ_RNG_ID|PTNL_ESR_RNG_ID|PHOTO_F|PD_ID|CST_ORG_NBR|AU_ID|ALT_CST_ORG_NBR|BLC_CODE_ID|BLC_DT|ALT_BLC_CODE_ID|ALT_BLC_CODE_DT|ALT_CST_EXP_DT|OPN_DT|MAT_DT|LAST_PRCH_DT|LAST_ADV_DT|LAST_CASH_PYMT_DT|LAST_RTL_PYMT_DT|PYMT_DUE_DT|LAST_MNT_DT|NBR_RQS|PRJ_ID|MN_PYMT_F|CRN_DUE|TAMT_DUE|CRN_STMT_BAL|PREV_STMT_BAL|ORIG_CCY_ID|CARD_CGY_ID|CARD_TP_ID|IS_PNP_CARD_F|PNP_CARD_ITRV_ID|CC_ST_ID|IS_STFF_F|CR_LMT_AMT|PYMT_MTH_ID|NBR_PNP_CARD|RSPL_DEPT_ID|MISC_CODE|NPL_DT|NPL_F|IS_CARD_VLD_F|COLL_BR_NBR|CLT_TP_ID|IS_CLCB_F|CLOSE_DT|CRT_DT|OWN_BR|AC_GRP_ID|AFF_CODE|AFF_MBR_TP_REL_YR|AFF_MBR_ORG_GRP_ID|AFF_MBR_TP_ID|AFF_MBR_ORG_ID|ACT_PYMT_ITRV_ID|AMT_RNG_ID|COLL_RSN_CODE|DLQ_DAY_ITRV_ID|LAST_PYMT_ITRV_ID|COLL_ID|INT_BILL_NOT_PAID_AMT|NON_AUTO_PYMT_AMT|CRN_CYC_AMT|DLQ_DYS|NBR_MO_SNC_LAST_PYMT|DLQ_ST_ID1|DLQ_ST_ID2|DLQ_ST_ID3|DLQ_ST_ID4|DLQ_ST_ID5|DLQ_ST_ID6|DLQ_ST_ID7|DLQ_ST_ID8|DLQ_ST_ID9|DLQ_ST_ID10|DLQ_ST_ID11|DLQ_ST_ID12|DLQ_ST_ID13|DLQ_ST_ID14|DLQ_ST_ID15|DLQ_ST_ID16|DLQ_ST_ID17|DLQ_ST_ID18|DLQ_ST_ID19|DLQ_ST_ID20|DLQ_ST_ID21|DLQ_ST_ID22|DLQ_ST_ID23|DLQ_ST_ID24|PAST_DUE_AMT|ACR_INT_RTL_AMT|ACR_INT_CASH_ADV_AMT|II_AMT|ACR_MISC_MEMO_AMT|ACR_INT_RTL_YTD_AMT|ACR_INT_CASH_ADV_YTD_AMT|BNS_BUCK_BAL|BNS_BUCK_USED|BNS_BUCK_RNG_ID|CRN_BAL_AMT_RNG_ID|PAST_DUE_AMT_RNG_ID|CR_LMT_AMT_RNG_ID|RTL_AMT|CASH_ADV_AMT|PAST_DUE_LT30_AMT|PAST_DUE_30_AMT|CASH_ADV_FEE_AMT|CR_LMT_TEMP_EFF_DT|CR_LMT_TEMP_END_DT|IS_GOOD_PYMT_F|DLQ_ST_ID|AR_SEG_SZ'\n",
    "headers = headers.split('|')"
   ]
  },
  {
   "cell_type": "code",
   "execution_count": 3,
   "metadata": {
    "collapsed": false
   },
   "outputs": [],
   "source": [
    "dsp.data_directory = os.path.join(os.path.dirname(dsp.data_directory), 'csv')"
   ]
  },
  {
   "cell_type": "code",
   "execution_count": 4,
   "metadata": {
    "collapsed": false
   },
   "outputs": [
    {
     "name": "stderr",
     "output_type": "stream",
     "text": [
      "//anaconda/lib/python3.5/site-packages/IPython/core/interactiveshell.py:2717: DtypeWarning: Columns (14,21,24,25,26,105,119,124) have mixed types. Specify dtype option on import or set low_memory=False.\n",
      "  interactivity=interactivity, compiler=compiler, result=result)\n"
     ]
    }
   ],
   "source": [
    "import pandas as pd\n",
    "df = pd.read_csv(dsp.data_directory + '/sample_aggregated_data.csv', names=headers)"
   ]
  },
  {
   "cell_type": "code",
   "execution_count": 31,
   "metadata": {
    "collapsed": false
   },
   "outputs": [],
   "source": [
    "dsp.write_table(df, 'aggregated_data', 'feature')"
   ]
  },
  {
   "cell_type": "code",
   "execution_count": 5,
   "metadata": {
    "collapsed": false
   },
   "outputs": [
    {
     "data": {
      "text/html": [
       "<div>\n",
       "<style>\n",
       "    .dataframe thead tr:only-child th {\n",
       "        text-align: right;\n",
       "    }\n",
       "\n",
       "    .dataframe thead th {\n",
       "        text-align: left;\n",
       "    }\n",
       "\n",
       "    .dataframe tbody tr th {\n",
       "        vertical-align: top;\n",
       "    }\n",
       "</style>\n",
       "<table border=\"1\" class=\"dataframe\">\n",
       "  <thead>\n",
       "    <tr style=\"text-align: right;\">\n",
       "      <th></th>\n",
       "      <th>HASH_IP_ID</th>\n",
       "      <th>HASH_LPM_CST_ID</th>\n",
       "      <th>HASH_AR_ID</th>\n",
       "      <th>FileDate</th>\n",
       "      <th>Next_FileDate</th>\n",
       "      <th>Previous_FileDate</th>\n",
       "      <th>Group</th>\n",
       "      <th>Payment</th>\n",
       "      <th>Percentage</th>\n",
       "      <th>Month</th>\n",
       "      <th>...</th>\n",
       "      <th>RTL_AMT</th>\n",
       "      <th>CASH_ADV_AMT</th>\n",
       "      <th>PAST_DUE_LT30_AMT</th>\n",
       "      <th>PAST_DUE_30_AMT</th>\n",
       "      <th>CASH_ADV_FEE_AMT</th>\n",
       "      <th>CR_LMT_TEMP_EFF_DT</th>\n",
       "      <th>CR_LMT_TEMP_END_DT</th>\n",
       "      <th>IS_GOOD_PYMT_F</th>\n",
       "      <th>DLQ_ST_ID</th>\n",
       "      <th>AR_SEG_SZ</th>\n",
       "    </tr>\n",
       "  </thead>\n",
       "  <tbody>\n",
       "    <tr>\n",
       "      <th>0</th>\n",
       "      <td>-5334451834602009645</td>\n",
       "      <td>476517407667040770</td>\n",
       "      <td>-1109438975428726511</td>\n",
       "      <td>2016-06-06</td>\n",
       "      <td>2016-07-07</td>\n",
       "      <td>2016-05-10</td>\n",
       "      <td>5</td>\n",
       "      <td>0.0</td>\n",
       "      <td>0.000000</td>\n",
       "      <td>201606</td>\n",
       "      <td>...</td>\n",
       "      <td>2430.510010</td>\n",
       "      <td>0.000000</td>\n",
       "      <td>0.000000</td>\n",
       "      <td>0.0</td>\n",
       "      <td>0.0</td>\n",
       "      <td>NaN</td>\n",
       "      <td>NaN</td>\n",
       "      <td>Y</td>\n",
       "      <td>0</td>\n",
       "      <td>MI</td>\n",
       "    </tr>\n",
       "    <tr>\n",
       "      <th>1</th>\n",
       "      <td>7629049208955915566</td>\n",
       "      <td>6176936307177199189</td>\n",
       "      <td>-1144442469018664942</td>\n",
       "      <td>2016-06-06</td>\n",
       "      <td>2016-07-07</td>\n",
       "      <td>2016-05-10</td>\n",
       "      <td>3</td>\n",
       "      <td>27600.0</td>\n",
       "      <td>0.093194</td>\n",
       "      <td>201606</td>\n",
       "      <td>...</td>\n",
       "      <td>0.000000</td>\n",
       "      <td>296156.593750</td>\n",
       "      <td>0.000000</td>\n",
       "      <td>0.0</td>\n",
       "      <td>1050.0</td>\n",
       "      <td>NaN</td>\n",
       "      <td>NaN</td>\n",
       "      <td>Y</td>\n",
       "      <td>0</td>\n",
       "      <td>MI</td>\n",
       "    </tr>\n",
       "    <tr>\n",
       "      <th>2</th>\n",
       "      <td>3479387648310889265</td>\n",
       "      <td>4163062378878951442</td>\n",
       "      <td>-1148091933728151992</td>\n",
       "      <td>2016-06-14</td>\n",
       "      <td>2016-07-14</td>\n",
       "      <td>2016-05-13</td>\n",
       "      <td>1</td>\n",
       "      <td>10000.0</td>\n",
       "      <td>0.335584</td>\n",
       "      <td>201606</td>\n",
       "      <td>...</td>\n",
       "      <td>26069.849609</td>\n",
       "      <td>3728.939941</td>\n",
       "      <td>0.000000</td>\n",
       "      <td>0.0</td>\n",
       "      <td>150.0</td>\n",
       "      <td>NaN</td>\n",
       "      <td>NaN</td>\n",
       "      <td>Y</td>\n",
       "      <td>204</td>\n",
       "      <td>MI</td>\n",
       "    </tr>\n",
       "    <tr>\n",
       "      <th>3</th>\n",
       "      <td>3834255690863807798</td>\n",
       "      <td>-2907765801240779607</td>\n",
       "      <td>-1153727039400174719</td>\n",
       "      <td>2016-06-14</td>\n",
       "      <td>2016-07-14</td>\n",
       "      <td>2016-05-13</td>\n",
       "      <td>1</td>\n",
       "      <td>5000.0</td>\n",
       "      <td>0.215802</td>\n",
       "      <td>201606</td>\n",
       "      <td>...</td>\n",
       "      <td>25169.339844</td>\n",
       "      <td>0.000000</td>\n",
       "      <td>2309.300049</td>\n",
       "      <td>0.0</td>\n",
       "      <td>0.0</td>\n",
       "      <td>NaN</td>\n",
       "      <td>NaN</td>\n",
       "      <td>N</td>\n",
       "      <td>0</td>\n",
       "      <td>MI</td>\n",
       "    </tr>\n",
       "    <tr>\n",
       "      <th>4</th>\n",
       "      <td>7370400936022439641</td>\n",
       "      <td>4753692654665886953</td>\n",
       "      <td>-1163400326805683760</td>\n",
       "      <td>2016-06-06</td>\n",
       "      <td>2016-07-07</td>\n",
       "      <td>2016-05-10</td>\n",
       "      <td>1</td>\n",
       "      <td>5119.0</td>\n",
       "      <td>0.445853</td>\n",
       "      <td>201606</td>\n",
       "      <td>...</td>\n",
       "      <td>11481.360352</td>\n",
       "      <td>0.000000</td>\n",
       "      <td>0.000000</td>\n",
       "      <td>0.0</td>\n",
       "      <td>0.0</td>\n",
       "      <td>NaN</td>\n",
       "      <td>NaN</td>\n",
       "      <td>Y</td>\n",
       "      <td>0</td>\n",
       "      <td>PC</td>\n",
       "    </tr>\n",
       "  </tbody>\n",
       "</table>\n",
       "<p>5 rows × 296 columns</p>\n",
       "</div>"
      ],
      "text/plain": [
       "            HASH_IP_ID      HASH_LPM_CST_ID           HASH_AR_ID    FileDate  \\\n",
       "0 -5334451834602009645   476517407667040770 -1109438975428726511  2016-06-06   \n",
       "1  7629049208955915566  6176936307177199189 -1144442469018664942  2016-06-06   \n",
       "2  3479387648310889265  4163062378878951442 -1148091933728151992  2016-06-14   \n",
       "3  3834255690863807798 -2907765801240779607 -1153727039400174719  2016-06-14   \n",
       "4  7370400936022439641  4753692654665886953 -1163400326805683760  2016-06-06   \n",
       "\n",
       "  Next_FileDate Previous_FileDate  Group  Payment  Percentage   Month  \\\n",
       "0    2016-07-07        2016-05-10      5      0.0    0.000000  201606   \n",
       "1    2016-07-07        2016-05-10      3  27600.0    0.093194  201606   \n",
       "2    2016-07-14        2016-05-13      1  10000.0    0.335584  201606   \n",
       "3    2016-07-14        2016-05-13      1   5000.0    0.215802  201606   \n",
       "4    2016-07-07        2016-05-10      1   5119.0    0.445853  201606   \n",
       "\n",
       "     ...          RTL_AMT   CASH_ADV_AMT PAST_DUE_LT30_AMT PAST_DUE_30_AMT  \\\n",
       "0    ...      2430.510010       0.000000          0.000000             0.0   \n",
       "1    ...         0.000000  296156.593750          0.000000             0.0   \n",
       "2    ...     26069.849609    3728.939941          0.000000             0.0   \n",
       "3    ...     25169.339844       0.000000       2309.300049             0.0   \n",
       "4    ...     11481.360352       0.000000          0.000000             0.0   \n",
       "\n",
       "  CASH_ADV_FEE_AMT CR_LMT_TEMP_EFF_DT  CR_LMT_TEMP_END_DT  IS_GOOD_PYMT_F  \\\n",
       "0              0.0                NaN                 NaN               Y   \n",
       "1           1050.0                NaN                 NaN               Y   \n",
       "2            150.0                NaN                 NaN               Y   \n",
       "3              0.0                NaN                 NaN               N   \n",
       "4              0.0                NaN                 NaN               Y   \n",
       "\n",
       "   DLQ_ST_ID AR_SEG_SZ  \n",
       "0          0        MI  \n",
       "1          0        MI  \n",
       "2        204        MI  \n",
       "3          0        MI  \n",
       "4          0        PC  \n",
       "\n",
       "[5 rows x 296 columns]"
      ]
     },
     "execution_count": 5,
     "metadata": {},
     "output_type": "execute_result"
    }
   ],
   "source": [
    "df.head()"
   ]
  },
  {
   "cell_type": "code",
   "execution_count": 32,
   "metadata": {
    "collapsed": false
   },
   "outputs": [
    {
     "data": {
      "text/plain": [
       "296"
      ]
     },
     "execution_count": 32,
     "metadata": {},
     "output_type": "execute_result"
    }
   ],
   "source": [
    "len(df.columns)"
   ]
  },
  {
   "cell_type": "code",
   "execution_count": 7,
   "metadata": {
    "collapsed": true
   },
   "outputs": [],
   "source": [
    "numeric_columns = ['NBR_DLQ_ST_30_59_P3M', 'OSPRINCIPLE', 'AR_RSK_SCOR', 'AR_RSK_GRD', 'AV_CASH_ADV_AMT_P6M',\n",
    "                       'DLQ_DYS', 'OTSND_BAL_AMT', 'PAST_DUE_LT30_AMT', 'BAL_LMT_PCT', 'CST_WST_SCOR', 'LAST_DLQ_MO',\n",
    "                       'NBR_DYS_NOT_PY_3DYS_LAST_1MO', 'CST_BAL_AV_LMT_3MO_PCT', 'TAMT_DUE', 'CASH_ADV_AV_LMT_3MO_PCT',\n",
    "                       'PYMT_PREV_BAL_AV_3MO_PCT', 'CASH_ADV_FEE_AMT', 'CRN_CYC_AMT', 'AR_GOOD_BAD_SCOR',\n",
    "                       'NBR_DYS_NOT_PY_30DYS_LAST_3MO', 'ACR_INT_CASH_ADV_YTD_AMT', 'NBR_PART_PYMT_P6M',\n",
    "                       'BAL_AV_LMT_3MO_PCT', 'AR_AGE_MO', 'ACR_INT_AMT', 'II_AMT', 'CST_WST_RSK_IND', 'LAST_PRCH_DYS',\n",
    "                       'AV_LMT_USG_RTO_P6M', 'ACR_INT_CASH_ADV_AMT', 'NBR_MO_SNC_LAST_PYMT', 'NBR_OLMT_ST_P6M',\n",
    "                       'ACR_INT_RTL_YTD_AMT', 'OSAMT', 'CRN_STMT_BAL', 'PAST_DUE_30_AMT', 'PAST_DUE_AMT',\n",
    "                       'NBR_FULL_PYMT_P6M', 'NBR_OLMT_ST_P3M', 'NBR_DYS_NOT_PY_8DYS_LAST_1MO', 'PREV_STMT_BAL',\n",
    "                       'AR_RSK_PERF_IND', 'CASH_ADV_AMT', 'ACR_INT_RTL_AMT', 'NON_AUTO_PYMT_AMT', 'AV_PYMT_RTO_P6M',\n",
    "                       'OWN_BR', 'INT_BILL_NOT_PAID_AMT', 'NBR_DYS_NOT_PY_30DYS_LAST_8MO', 'RTL_AMT',\n",
    "                       'NBR_DLQ_ST_1_29_P3M', 'CR_LMT_AMT']"
   ]
  },
  {
   "cell_type": "code",
   "execution_count": 28,
   "metadata": {
    "collapsed": false
   },
   "outputs": [],
   "source": [
    "summary = pd.DataFrame(columns=['column_name', 'n_unique_value', 'samples', 'frequency'])\n",
    "j=0\n",
    "for column in numeric_columns:\n",
    "    s = {}\n",
    "    j = j+1\n",
    "    s['column_name'] = column\n",
    "    unique_values = df[column].unique().tolist()\n",
    "    s['n_unique_value'] = len(unique_values)\n",
    "    vcounts = df[column].value_counts()/len(df.index)\n",
    "    if len(unique_values) < 5:\n",
    "        a = [str(i) for i in unique_values]\n",
    "        s['samples'] = ', '.join(a)\n",
    "        s['frequency'] = str(vcounts.to_dict())\n",
    "    else:\n",
    "        unique_values = unique_values[0:5]\n",
    "        a = [str(i) for i in unique_values]\n",
    "        s['samples'] = ', '.join(a)\n",
    "        s['frequency'] = str(vcounts.iloc[0:5].to_dict())\n",
    "    \n",
    "    sd = pd.DataFrame(s, index=[j])\n",
    "    summary = summary.append(sd)"
   ]
  },
  {
   "cell_type": "code",
   "execution_count": 29,
   "metadata": {
    "collapsed": false
   },
   "outputs": [],
   "source": [
    "dsp.write_table(summary, 'numerical_column_summary', 'meta')"
   ]
  },
  {
   "cell_type": "code",
   "execution_count": 16,
   "metadata": {
    "collapsed": false
   },
   "outputs": [],
   "source": []
  },
  {
   "cell_type": "code",
   "execution_count": 24,
   "metadata": {
    "collapsed": false
   },
   "outputs": [
    {
     "data": {
      "text/plain": [
       "'{100000.0: 3406, 50000.0: 2487, 80000.0: 1677, 200000.0: 2137, 30000.0: 2040}'"
      ]
     },
     "execution_count": 24,
     "metadata": {},
     "output_type": "execute_result"
    }
   ],
   "source": []
  },
  {
   "cell_type": "code",
   "execution_count": null,
   "metadata": {
    "collapsed": true
   },
   "outputs": [],
   "source": []
  }
 ],
 "metadata": {
  "anaconda-cloud": {},
  "kernelspec": {
   "display_name": "Python [default]",
   "language": "python",
   "name": "python3"
  },
  "language_info": {
   "codemirror_mode": {
    "name": "ipython",
    "version": 3
   },
   "file_extension": ".py",
   "mimetype": "text/x-python",
   "name": "python",
   "nbconvert_exporter": "python",
   "pygments_lexer": "ipython3",
   "version": "3.5.2"
  }
 },
 "nbformat": 4,
 "nbformat_minor": 1
}
