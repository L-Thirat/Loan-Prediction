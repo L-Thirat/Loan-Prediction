{
 "cells": [
  {
   "cell_type": "code",
   "execution_count": 1,
   "metadata": {
    "collapsed": false
   },
   "outputs": [],
   "source": [
    "# This chunk of code make it possible to use src functions\n",
    "import sys\n",
    "import os\n",
    "module_path = os.path.abspath(os.path.join('../src'))\n",
    "if module_path not in sys.path:\n",
    "    sys.path.append(module_path)\n",
    "    \n",
    "from DSProject import DSProject\n",
    "\n",
    "dsp = DSProject()"
   ]
  },
  {
   "cell_type": "markdown",
   "metadata": {},
   "source": [
    "# Read in files and clean up"
   ]
  },
  {
   "cell_type": "code",
   "execution_count": 2,
   "metadata": {
    "collapsed": false
   },
   "outputs": [
    {
     "ename": "AttributeError",
     "evalue": "'DSProject' object has no attribute 'readPreprocessedData'",
     "output_type": "error",
     "traceback": [
      "\u001b[0;31m---------------------------------------------------------------------------\u001b[0m",
      "\u001b[0;31mAttributeError\u001b[0m                            Traceback (most recent call last)",
      "\u001b[0;32m<ipython-input-2-84bbc5ab683f>\u001b[0m in \u001b[0;36m<module>\u001b[0;34m()\u001b[0m\n\u001b[0;32m----> 1\u001b[0;31m \u001b[0mLA\u001b[0m \u001b[0;34m=\u001b[0m \u001b[0mdsp\u001b[0m\u001b[0;34m.\u001b[0m\u001b[0mreadPreprocessedData\u001b[0m\u001b[0;34m(\u001b[0m\u001b[0;34m'ListAction'\u001b[0m\u001b[0;34m)\u001b[0m\u001b[0;34m\u001b[0m\u001b[0m\n\u001b[0m",
      "\u001b[0;31mAttributeError\u001b[0m: 'DSProject' object has no attribute 'readPreprocessedData'"
     ]
    }
   ],
   "source": [
    "LA = dsp.readPreprocessedData('ListAction')"
   ]
  },
  {
   "cell_type": "code",
   "execution_count": 3,
   "metadata": {
    "collapsed": false
   },
   "outputs": [
    {
     "name": "stderr",
     "output_type": "stream",
     "text": [
      "//anaconda/lib/python3.5/site-packages/IPython/core/interactiveshell.py:2821: DtypeWarning: Columns (10) have mixed types. Specify dtype option on import or set low_memory=False.\n",
      "  if self.run_code(code, result):\n"
     ]
    }
   ],
   "source": [
    "db = dsp.readPreprocessedData('DB_SOC')"
   ]
  },
  {
   "cell_type": "code",
   "execution_count": 10,
   "metadata": {
    "collapsed": false
   },
   "outputs": [
    {
     "ename": "TypeError",
     "evalue": "cannot convert the series to <class 'int'>",
     "output_type": "error",
     "traceback": [
      "\u001b[0;31m---------------------------------------------------------------------------\u001b[0m",
      "\u001b[0;31mTypeError\u001b[0m                                 Traceback (most recent call last)",
      "\u001b[0;32m<ipython-input-10-02e9a830ff07>\u001b[0m in \u001b[0;36m<module>\u001b[0;34m()\u001b[0m\n\u001b[0;32m----> 1\u001b[0;31m \u001b[0mLA\u001b[0m\u001b[0;34m[\u001b[0m\u001b[0;34m'date'\u001b[0m\u001b[0;34m]\u001b[0m \u001b[0;34m=\u001b[0m \u001b[0mpd\u001b[0m\u001b[0;34m.\u001b[0m\u001b[0mdatetime\u001b[0m\u001b[0;34m(\u001b[0m\u001b[0mLA\u001b[0m\u001b[0;34m[\u001b[0m\u001b[0;34m'FDTACTIONDATE'\u001b[0m\u001b[0;34m]\u001b[0m\u001b[0;34m,\u001b[0m \u001b[0;34m'%Y^m%d %H:%M%S'\u001b[0m\u001b[0;34m)\u001b[0m\u001b[0;34m\u001b[0m\u001b[0m\n\u001b[0m",
      "\u001b[0;32m//anaconda/lib/python3.5/site-packages/pandas/core/series.py\u001b[0m in \u001b[0;36mwrapper\u001b[0;34m(self)\u001b[0m\n\u001b[1;32m     95\u001b[0m             \u001b[0;32mreturn\u001b[0m \u001b[0mconverter\u001b[0m\u001b[0;34m(\u001b[0m\u001b[0mself\u001b[0m\u001b[0;34m.\u001b[0m\u001b[0miloc\u001b[0m\u001b[0;34m[\u001b[0m\u001b[0;36m0\u001b[0m\u001b[0;34m]\u001b[0m\u001b[0;34m)\u001b[0m\u001b[0;34m\u001b[0m\u001b[0m\n\u001b[1;32m     96\u001b[0m         raise TypeError(\"cannot convert the series to \"\n\u001b[0;32m---> 97\u001b[0;31m                         \"{0}\".format(str(converter)))\n\u001b[0m\u001b[1;32m     98\u001b[0m \u001b[0;34m\u001b[0m\u001b[0m\n\u001b[1;32m     99\u001b[0m     \u001b[0;32mreturn\u001b[0m \u001b[0mwrapper\u001b[0m\u001b[0;34m\u001b[0m\u001b[0m\n",
      "\u001b[0;31mTypeError\u001b[0m: cannot convert the series to <class 'int'>"
     ]
    }
   ],
   "source": [
    "LA['date'] = pd.datetime(LA['FDTACTIONDATE'], '%Y-%m-%d %H:%M:%S')"
   ]
  },
  {
   "cell_type": "code",
   "execution_count": 9,
   "metadata": {
    "collapsed": false
   },
   "outputs": [
    {
     "data": {
      "text/plain": [
       "0          2015-10-05 08:50:22\n",
       "1          2015-10-05 08:50:38\n",
       "2          2015-10-05 09:38:27\n",
       "3          2015-10-05 09:38:33\n",
       "4          2015-10-05 09:39:32\n",
       "5          2015-10-05 08:57:03\n",
       "6          2015-10-05 08:58:00\n",
       "7          2015-10-05 08:58:32\n",
       "8          2015-10-05 09:39:41\n",
       "9          2015-10-05 09:39:46\n",
       "10         2015-10-05 09:40:13\n",
       "11         2015-10-05 09:17:08\n",
       "12         2015-10-05 09:16:37\n",
       "13         2015-10-05 08:35:04\n",
       "14         2015-10-05 09:20:44\n",
       "15         2015-10-05 09:22:44\n",
       "16         2015-10-05 09:17:21\n",
       "17         2015-10-05 09:20:18\n",
       "18         2015-10-05 09:20:27\n",
       "19         2015-10-05 09:20:27\n",
       "20         2015-10-05 09:20:27\n",
       "21         2015-10-05 08:57:39\n",
       "22         2015-10-05 08:57:39\n",
       "23         2015-10-05 08:57:39\n",
       "24         2015-10-05 08:57:39\n",
       "25         2015-10-05 09:43:43\n",
       "26         2015-10-05 09:43:43\n",
       "27         2015-10-05 09:23:36\n",
       "28         2015-10-05 09:23:36\n",
       "29         2015-10-05 09:24:09\n",
       "                  ...         \n",
       "2270550    2016-04-01 17:06:32\n",
       "2270551    2016-04-01 17:29:05\n",
       "2270552    2016-04-01 17:29:05\n",
       "2270553    2016-04-01 17:29:16\n",
       "2270554    2016-04-01 17:29:16\n",
       "2270555    2016-04-01 17:31:49\n",
       "2270556    2016-04-01 17:13:52\n",
       "2270557    2016-04-01 17:14:07\n",
       "2270558    2016-04-01 17:14:34\n",
       "2270559    2016-04-01 17:14:36\n",
       "2270560    2016-04-01 17:15:01\n",
       "2270561    2016-04-01 17:21:47\n",
       "2270562    2016-04-01 17:18:13\n",
       "2270563    2016-04-01 17:18:48\n",
       "2270564    2016-04-01 17:18:48\n",
       "2270565    2016-04-01 17:13:21\n",
       "2270566    2016-04-01 17:13:38\n",
       "2270567    2016-04-01 17:13:48\n",
       "2270568    2016-04-01 17:13:48\n",
       "2270569    2016-04-01 17:14:11\n",
       "2270570    2016-04-01 17:23:17\n",
       "2270571    2016-04-01 17:15:49\n",
       "2270572    2016-04-01 17:16:00\n",
       "2270573    2016-04-01 17:16:48\n",
       "2270574    2016-04-01 17:16:49\n",
       "2270575    2016-04-01 17:25:28\n",
       "2270576    2016-04-01 17:25:28\n",
       "2270577    2016-04-01 17:25:45\n",
       "2270578    2016-04-01 17:17:46\n",
       "2270579    2016-04-01 17:17:51\n",
       "Name: FDTACTIONDATE, Length: 2270580, dtype: object"
      ]
     },
     "execution_count": 9,
     "metadata": {},
     "output_type": "execute_result"
    }
   ],
   "source": [
    "LA['FDTACTIONDATE']"
   ]
  },
  {
   "cell_type": "code",
   "execution_count": 4,
   "metadata": {
    "collapsed": false
   },
   "outputs": [
    {
     "ename": "KeyError",
     "evalue": "'FileDate_month'",
     "output_type": "error",
     "traceback": [
      "\u001b[0;31m---------------------------------------------------------------------------\u001b[0m",
      "\u001b[0;31mKeyError\u001b[0m                                  Traceback (most recent call last)",
      "\u001b[0;32m//anaconda/lib/python3.5/site-packages/pandas/core/indexes/base.py\u001b[0m in \u001b[0;36mget_loc\u001b[0;34m(self, key, method, tolerance)\u001b[0m\n\u001b[1;32m   2441\u001b[0m             \u001b[0;32mtry\u001b[0m\u001b[0;34m:\u001b[0m\u001b[0;34m\u001b[0m\u001b[0m\n\u001b[0;32m-> 2442\u001b[0;31m                 \u001b[0;32mreturn\u001b[0m \u001b[0mself\u001b[0m\u001b[0;34m.\u001b[0m\u001b[0m_engine\u001b[0m\u001b[0;34m.\u001b[0m\u001b[0mget_loc\u001b[0m\u001b[0;34m(\u001b[0m\u001b[0mkey\u001b[0m\u001b[0;34m)\u001b[0m\u001b[0;34m\u001b[0m\u001b[0m\n\u001b[0m\u001b[1;32m   2443\u001b[0m             \u001b[0;32mexcept\u001b[0m \u001b[0mKeyError\u001b[0m\u001b[0;34m:\u001b[0m\u001b[0;34m\u001b[0m\u001b[0m\n",
      "\u001b[0;32mpandas/_libs/index.pyx\u001b[0m in \u001b[0;36mpandas._libs.index.IndexEngine.get_loc (pandas/_libs/index.c:5280)\u001b[0;34m()\u001b[0m\n",
      "\u001b[0;32mpandas/_libs/index.pyx\u001b[0m in \u001b[0;36mpandas._libs.index.IndexEngine.get_loc (pandas/_libs/index.c:5126)\u001b[0;34m()\u001b[0m\n",
      "\u001b[0;32mpandas/_libs/hashtable_class_helper.pxi\u001b[0m in \u001b[0;36mpandas._libs.hashtable.PyObjectHashTable.get_item (pandas/_libs/hashtable.c:20523)\u001b[0;34m()\u001b[0m\n",
      "\u001b[0;32mpandas/_libs/hashtable_class_helper.pxi\u001b[0m in \u001b[0;36mpandas._libs.hashtable.PyObjectHashTable.get_item (pandas/_libs/hashtable.c:20477)\u001b[0;34m()\u001b[0m\n",
      "\u001b[0;31mKeyError\u001b[0m: 'FileDate_month'",
      "\nDuring handling of the above exception, another exception occurred:\n",
      "\u001b[0;31mKeyError\u001b[0m                                  Traceback (most recent call last)",
      "\u001b[0;32m<ipython-input-4-0032ecdcd66e>\u001b[0m in \u001b[0;36m<module>\u001b[0;34m()\u001b[0m\n\u001b[1;32m      7\u001b[0m \u001b[0mLA\u001b[0m\u001b[0;34m[\u001b[0m\u001b[0;34m'Hours'\u001b[0m\u001b[0;34m]\u001b[0m \u001b[0;34m=\u001b[0m \u001b[0mpd\u001b[0m\u001b[0;34m.\u001b[0m\u001b[0mDatetimeIndex\u001b[0m\u001b[0;34m(\u001b[0m\u001b[0mLA\u001b[0m\u001b[0;34m[\u001b[0m\u001b[0;34m'FDTACTIONDATE'\u001b[0m\u001b[0;34m]\u001b[0m\u001b[0;34m)\u001b[0m\u001b[0;34m.\u001b[0m\u001b[0mhour\u001b[0m\u001b[0;34m\u001b[0m\u001b[0m\n\u001b[1;32m      8\u001b[0m \u001b[0;34m\u001b[0m\u001b[0m\n\u001b[0;32m----> 9\u001b[0;31m \u001b[0mmerge\u001b[0m \u001b[0;34m=\u001b[0m \u001b[0mpd\u001b[0m\u001b[0;34m.\u001b[0m\u001b[0mmerge\u001b[0m\u001b[0;34m(\u001b[0m\u001b[0mLA\u001b[0m\u001b[0;34m,\u001b[0m \u001b[0mdb\u001b[0m\u001b[0;34m,\u001b[0m \u001b[0mhow\u001b[0m \u001b[0;34m=\u001b[0m \u001b[0;34m'left'\u001b[0m\u001b[0;34m,\u001b[0m \u001b[0mon\u001b[0m \u001b[0;34m=\u001b[0m \u001b[0;34m[\u001b[0m\u001b[0;34m'HASH_AR_ID'\u001b[0m\u001b[0;34m,\u001b[0m\u001b[0;34m'HASH_LPM_CST_ID'\u001b[0m\u001b[0;34m,\u001b[0m\u001b[0;34m'FileDate_month'\u001b[0m\u001b[0;34m,\u001b[0m\u001b[0;34m'FileDate_year'\u001b[0m\u001b[0;34m]\u001b[0m\u001b[0;34m)\u001b[0m\u001b[0;34m\u001b[0m\u001b[0m\n\u001b[0m",
      "\u001b[0;32m//anaconda/lib/python3.5/site-packages/pandas/core/reshape/merge.py\u001b[0m in \u001b[0;36mmerge\u001b[0;34m(left, right, how, on, left_on, right_on, left_index, right_index, sort, suffixes, copy, indicator)\u001b[0m\n\u001b[1;32m     51\u001b[0m                          \u001b[0mright_on\u001b[0m\u001b[0;34m=\u001b[0m\u001b[0mright_on\u001b[0m\u001b[0;34m,\u001b[0m \u001b[0mleft_index\u001b[0m\u001b[0;34m=\u001b[0m\u001b[0mleft_index\u001b[0m\u001b[0;34m,\u001b[0m\u001b[0;34m\u001b[0m\u001b[0m\n\u001b[1;32m     52\u001b[0m                          \u001b[0mright_index\u001b[0m\u001b[0;34m=\u001b[0m\u001b[0mright_index\u001b[0m\u001b[0;34m,\u001b[0m \u001b[0msort\u001b[0m\u001b[0;34m=\u001b[0m\u001b[0msort\u001b[0m\u001b[0;34m,\u001b[0m \u001b[0msuffixes\u001b[0m\u001b[0;34m=\u001b[0m\u001b[0msuffixes\u001b[0m\u001b[0;34m,\u001b[0m\u001b[0;34m\u001b[0m\u001b[0m\n\u001b[0;32m---> 53\u001b[0;31m                          copy=copy, indicator=indicator)\n\u001b[0m\u001b[1;32m     54\u001b[0m     \u001b[0;32mreturn\u001b[0m \u001b[0mop\u001b[0m\u001b[0;34m.\u001b[0m\u001b[0mget_result\u001b[0m\u001b[0;34m(\u001b[0m\u001b[0;34m)\u001b[0m\u001b[0;34m\u001b[0m\u001b[0m\n\u001b[1;32m     55\u001b[0m \u001b[0;34m\u001b[0m\u001b[0m\n",
      "\u001b[0;32m//anaconda/lib/python3.5/site-packages/pandas/core/reshape/merge.py\u001b[0m in \u001b[0;36m__init__\u001b[0;34m(self, left, right, how, on, left_on, right_on, axis, left_index, right_index, sort, suffixes, copy, indicator)\u001b[0m\n\u001b[1;32m    556\u001b[0m         (self.left_join_keys,\n\u001b[1;32m    557\u001b[0m          \u001b[0mself\u001b[0m\u001b[0;34m.\u001b[0m\u001b[0mright_join_keys\u001b[0m\u001b[0;34m,\u001b[0m\u001b[0;34m\u001b[0m\u001b[0m\n\u001b[0;32m--> 558\u001b[0;31m          self.join_names) = self._get_merge_keys()\n\u001b[0m\u001b[1;32m    559\u001b[0m \u001b[0;34m\u001b[0m\u001b[0m\n\u001b[1;32m    560\u001b[0m         \u001b[0;31m# validate the merge keys dtypes. We may need to coerce\u001b[0m\u001b[0;34m\u001b[0m\u001b[0;34m\u001b[0m\u001b[0m\n",
      "\u001b[0;32m//anaconda/lib/python3.5/site-packages/pandas/core/reshape/merge.py\u001b[0m in \u001b[0;36m_get_merge_keys\u001b[0;34m(self)\u001b[0m\n\u001b[1;32m    808\u001b[0m                     \u001b[0;32mif\u001b[0m \u001b[0;32mnot\u001b[0m \u001b[0mis_rkey\u001b[0m\u001b[0;34m(\u001b[0m\u001b[0mrk\u001b[0m\u001b[0;34m)\u001b[0m\u001b[0;34m:\u001b[0m\u001b[0;34m\u001b[0m\u001b[0m\n\u001b[1;32m    809\u001b[0m                         \u001b[0;32mif\u001b[0m \u001b[0mrk\u001b[0m \u001b[0;32mis\u001b[0m \u001b[0;32mnot\u001b[0m \u001b[0;32mNone\u001b[0m\u001b[0;34m:\u001b[0m\u001b[0;34m\u001b[0m\u001b[0m\n\u001b[0;32m--> 810\u001b[0;31m                             \u001b[0mright_keys\u001b[0m\u001b[0;34m.\u001b[0m\u001b[0mappend\u001b[0m\u001b[0;34m(\u001b[0m\u001b[0mright\u001b[0m\u001b[0;34m[\u001b[0m\u001b[0mrk\u001b[0m\u001b[0;34m]\u001b[0m\u001b[0;34m.\u001b[0m\u001b[0m_values\u001b[0m\u001b[0;34m)\u001b[0m\u001b[0;34m\u001b[0m\u001b[0m\n\u001b[0m\u001b[1;32m    811\u001b[0m                         \u001b[0;32melse\u001b[0m\u001b[0;34m:\u001b[0m\u001b[0;34m\u001b[0m\u001b[0m\n\u001b[1;32m    812\u001b[0m                             \u001b[0;31m# work-around for merge_asof(right_index=True)\u001b[0m\u001b[0;34m\u001b[0m\u001b[0;34m\u001b[0m\u001b[0m\n",
      "\u001b[0;32m//anaconda/lib/python3.5/site-packages/pandas/core/frame.py\u001b[0m in \u001b[0;36m__getitem__\u001b[0;34m(self, key)\u001b[0m\n\u001b[1;32m   1962\u001b[0m             \u001b[0;32mreturn\u001b[0m \u001b[0mself\u001b[0m\u001b[0;34m.\u001b[0m\u001b[0m_getitem_multilevel\u001b[0m\u001b[0;34m(\u001b[0m\u001b[0mkey\u001b[0m\u001b[0;34m)\u001b[0m\u001b[0;34m\u001b[0m\u001b[0m\n\u001b[1;32m   1963\u001b[0m         \u001b[0;32melse\u001b[0m\u001b[0;34m:\u001b[0m\u001b[0;34m\u001b[0m\u001b[0m\n\u001b[0;32m-> 1964\u001b[0;31m             \u001b[0;32mreturn\u001b[0m \u001b[0mself\u001b[0m\u001b[0;34m.\u001b[0m\u001b[0m_getitem_column\u001b[0m\u001b[0;34m(\u001b[0m\u001b[0mkey\u001b[0m\u001b[0;34m)\u001b[0m\u001b[0;34m\u001b[0m\u001b[0m\n\u001b[0m\u001b[1;32m   1965\u001b[0m \u001b[0;34m\u001b[0m\u001b[0m\n\u001b[1;32m   1966\u001b[0m     \u001b[0;32mdef\u001b[0m \u001b[0m_getitem_column\u001b[0m\u001b[0;34m(\u001b[0m\u001b[0mself\u001b[0m\u001b[0;34m,\u001b[0m \u001b[0mkey\u001b[0m\u001b[0;34m)\u001b[0m\u001b[0;34m:\u001b[0m\u001b[0;34m\u001b[0m\u001b[0m\n",
      "\u001b[0;32m//anaconda/lib/python3.5/site-packages/pandas/core/frame.py\u001b[0m in \u001b[0;36m_getitem_column\u001b[0;34m(self, key)\u001b[0m\n\u001b[1;32m   1969\u001b[0m         \u001b[0;31m# get column\u001b[0m\u001b[0;34m\u001b[0m\u001b[0;34m\u001b[0m\u001b[0m\n\u001b[1;32m   1970\u001b[0m         \u001b[0;32mif\u001b[0m \u001b[0mself\u001b[0m\u001b[0;34m.\u001b[0m\u001b[0mcolumns\u001b[0m\u001b[0;34m.\u001b[0m\u001b[0mis_unique\u001b[0m\u001b[0;34m:\u001b[0m\u001b[0;34m\u001b[0m\u001b[0m\n\u001b[0;32m-> 1971\u001b[0;31m             \u001b[0;32mreturn\u001b[0m \u001b[0mself\u001b[0m\u001b[0;34m.\u001b[0m\u001b[0m_get_item_cache\u001b[0m\u001b[0;34m(\u001b[0m\u001b[0mkey\u001b[0m\u001b[0;34m)\u001b[0m\u001b[0;34m\u001b[0m\u001b[0m\n\u001b[0m\u001b[1;32m   1972\u001b[0m \u001b[0;34m\u001b[0m\u001b[0m\n\u001b[1;32m   1973\u001b[0m         \u001b[0;31m# duplicate columns & possible reduce dimensionality\u001b[0m\u001b[0;34m\u001b[0m\u001b[0;34m\u001b[0m\u001b[0m\n",
      "\u001b[0;32m//anaconda/lib/python3.5/site-packages/pandas/core/generic.py\u001b[0m in \u001b[0;36m_get_item_cache\u001b[0;34m(self, item)\u001b[0m\n\u001b[1;32m   1643\u001b[0m         \u001b[0mres\u001b[0m \u001b[0;34m=\u001b[0m \u001b[0mcache\u001b[0m\u001b[0;34m.\u001b[0m\u001b[0mget\u001b[0m\u001b[0;34m(\u001b[0m\u001b[0mitem\u001b[0m\u001b[0;34m)\u001b[0m\u001b[0;34m\u001b[0m\u001b[0m\n\u001b[1;32m   1644\u001b[0m         \u001b[0;32mif\u001b[0m \u001b[0mres\u001b[0m \u001b[0;32mis\u001b[0m \u001b[0;32mNone\u001b[0m\u001b[0;34m:\u001b[0m\u001b[0;34m\u001b[0m\u001b[0m\n\u001b[0;32m-> 1645\u001b[0;31m             \u001b[0mvalues\u001b[0m \u001b[0;34m=\u001b[0m \u001b[0mself\u001b[0m\u001b[0;34m.\u001b[0m\u001b[0m_data\u001b[0m\u001b[0;34m.\u001b[0m\u001b[0mget\u001b[0m\u001b[0;34m(\u001b[0m\u001b[0mitem\u001b[0m\u001b[0;34m)\u001b[0m\u001b[0;34m\u001b[0m\u001b[0m\n\u001b[0m\u001b[1;32m   1646\u001b[0m             \u001b[0mres\u001b[0m \u001b[0;34m=\u001b[0m \u001b[0mself\u001b[0m\u001b[0;34m.\u001b[0m\u001b[0m_box_item_values\u001b[0m\u001b[0;34m(\u001b[0m\u001b[0mitem\u001b[0m\u001b[0;34m,\u001b[0m \u001b[0mvalues\u001b[0m\u001b[0;34m)\u001b[0m\u001b[0;34m\u001b[0m\u001b[0m\n\u001b[1;32m   1647\u001b[0m             \u001b[0mcache\u001b[0m\u001b[0;34m[\u001b[0m\u001b[0mitem\u001b[0m\u001b[0;34m]\u001b[0m \u001b[0;34m=\u001b[0m \u001b[0mres\u001b[0m\u001b[0;34m\u001b[0m\u001b[0m\n",
      "\u001b[0;32m//anaconda/lib/python3.5/site-packages/pandas/core/internals.py\u001b[0m in \u001b[0;36mget\u001b[0;34m(self, item, fastpath)\u001b[0m\n\u001b[1;32m   3588\u001b[0m \u001b[0;34m\u001b[0m\u001b[0m\n\u001b[1;32m   3589\u001b[0m             \u001b[0;32mif\u001b[0m \u001b[0;32mnot\u001b[0m \u001b[0misnull\u001b[0m\u001b[0;34m(\u001b[0m\u001b[0mitem\u001b[0m\u001b[0;34m)\u001b[0m\u001b[0;34m:\u001b[0m\u001b[0;34m\u001b[0m\u001b[0m\n\u001b[0;32m-> 3590\u001b[0;31m                 \u001b[0mloc\u001b[0m \u001b[0;34m=\u001b[0m \u001b[0mself\u001b[0m\u001b[0;34m.\u001b[0m\u001b[0mitems\u001b[0m\u001b[0;34m.\u001b[0m\u001b[0mget_loc\u001b[0m\u001b[0;34m(\u001b[0m\u001b[0mitem\u001b[0m\u001b[0;34m)\u001b[0m\u001b[0;34m\u001b[0m\u001b[0m\n\u001b[0m\u001b[1;32m   3591\u001b[0m             \u001b[0;32melse\u001b[0m\u001b[0;34m:\u001b[0m\u001b[0;34m\u001b[0m\u001b[0m\n\u001b[1;32m   3592\u001b[0m                 \u001b[0mindexer\u001b[0m \u001b[0;34m=\u001b[0m \u001b[0mnp\u001b[0m\u001b[0;34m.\u001b[0m\u001b[0marange\u001b[0m\u001b[0;34m(\u001b[0m\u001b[0mlen\u001b[0m\u001b[0;34m(\u001b[0m\u001b[0mself\u001b[0m\u001b[0;34m.\u001b[0m\u001b[0mitems\u001b[0m\u001b[0;34m)\u001b[0m\u001b[0;34m)\u001b[0m\u001b[0;34m[\u001b[0m\u001b[0misnull\u001b[0m\u001b[0;34m(\u001b[0m\u001b[0mself\u001b[0m\u001b[0;34m.\u001b[0m\u001b[0mitems\u001b[0m\u001b[0;34m)\u001b[0m\u001b[0;34m]\u001b[0m\u001b[0;34m\u001b[0m\u001b[0m\n",
      "\u001b[0;32m//anaconda/lib/python3.5/site-packages/pandas/core/indexes/base.py\u001b[0m in \u001b[0;36mget_loc\u001b[0;34m(self, key, method, tolerance)\u001b[0m\n\u001b[1;32m   2442\u001b[0m                 \u001b[0;32mreturn\u001b[0m \u001b[0mself\u001b[0m\u001b[0;34m.\u001b[0m\u001b[0m_engine\u001b[0m\u001b[0;34m.\u001b[0m\u001b[0mget_loc\u001b[0m\u001b[0;34m(\u001b[0m\u001b[0mkey\u001b[0m\u001b[0;34m)\u001b[0m\u001b[0;34m\u001b[0m\u001b[0m\n\u001b[1;32m   2443\u001b[0m             \u001b[0;32mexcept\u001b[0m \u001b[0mKeyError\u001b[0m\u001b[0;34m:\u001b[0m\u001b[0;34m\u001b[0m\u001b[0m\n\u001b[0;32m-> 2444\u001b[0;31m                 \u001b[0;32mreturn\u001b[0m \u001b[0mself\u001b[0m\u001b[0;34m.\u001b[0m\u001b[0m_engine\u001b[0m\u001b[0;34m.\u001b[0m\u001b[0mget_loc\u001b[0m\u001b[0;34m(\u001b[0m\u001b[0mself\u001b[0m\u001b[0;34m.\u001b[0m\u001b[0m_maybe_cast_indexer\u001b[0m\u001b[0;34m(\u001b[0m\u001b[0mkey\u001b[0m\u001b[0;34m)\u001b[0m\u001b[0;34m)\u001b[0m\u001b[0;34m\u001b[0m\u001b[0m\n\u001b[0m\u001b[1;32m   2445\u001b[0m \u001b[0;34m\u001b[0m\u001b[0m\n\u001b[1;32m   2446\u001b[0m         \u001b[0mindexer\u001b[0m \u001b[0;34m=\u001b[0m \u001b[0mself\u001b[0m\u001b[0;34m.\u001b[0m\u001b[0mget_indexer\u001b[0m\u001b[0;34m(\u001b[0m\u001b[0;34m[\u001b[0m\u001b[0mkey\u001b[0m\u001b[0;34m]\u001b[0m\u001b[0;34m,\u001b[0m \u001b[0mmethod\u001b[0m\u001b[0;34m=\u001b[0m\u001b[0mmethod\u001b[0m\u001b[0;34m,\u001b[0m \u001b[0mtolerance\u001b[0m\u001b[0;34m=\u001b[0m\u001b[0mtolerance\u001b[0m\u001b[0;34m)\u001b[0m\u001b[0;34m\u001b[0m\u001b[0m\n",
      "\u001b[0;32mpandas/_libs/index.pyx\u001b[0m in \u001b[0;36mpandas._libs.index.IndexEngine.get_loc (pandas/_libs/index.c:5280)\u001b[0;34m()\u001b[0m\n",
      "\u001b[0;32mpandas/_libs/index.pyx\u001b[0m in \u001b[0;36mpandas._libs.index.IndexEngine.get_loc (pandas/_libs/index.c:5126)\u001b[0;34m()\u001b[0m\n",
      "\u001b[0;32mpandas/_libs/hashtable_class_helper.pxi\u001b[0m in \u001b[0;36mpandas._libs.hashtable.PyObjectHashTable.get_item (pandas/_libs/hashtable.c:20523)\u001b[0;34m()\u001b[0m\n",
      "\u001b[0;32mpandas/_libs/hashtable_class_helper.pxi\u001b[0m in \u001b[0;36mpandas._libs.hashtable.PyObjectHashTable.get_item (pandas/_libs/hashtable.c:20477)\u001b[0;34m()\u001b[0m\n",
      "\u001b[0;31mKeyError\u001b[0m: 'FileDate_month'"
     ]
    }
   ],
   "source": [
    "from datetime import datetime\n",
    "import pandas as pd\n",
    "\n",
    "LA['FileDate_day'] = pd.DatetimeIndex(LA['FDTACTIONDATE']).day\n",
    "LA['FileDate_month'] = pd.DatetimeIndex(LA['FDTACTIONDATE']).month\n",
    "LA['FileDate_year'] = pd.DatetimeIndex(LA['FDTACTIONDATE']).year\n",
    "LA['Hours'] = pd.DatetimeIndex(LA['FDTACTIONDATE']).hour\n",
    "\n",
    "merge = pd.merge(LA, db, how = 'left', on = ['HASH_AR_ID','HASH_LPM_CST_ID','FileDate_month','FileDate_year'])"
   ]
  },
  {
   "cell_type": "code",
   "execution_count": 23,
   "metadata": {
    "collapsed": false
   },
   "outputs": [],
   "source": [
    "merge = merge.drop(['FSZCOLLECTORCODE', 'FSZCOLLECTORSUP'], axis = 1)"
   ]
  },
  {
   "cell_type": "code",
   "execution_count": 24,
   "metadata": {
    "collapsed": false
   },
   "outputs": [],
   "source": [
    "#drop all with NaN\n",
    "\n",
    "merge = merge.dropna(axis = 0, how='any')\n",
    "\n"
   ]
  },
  {
   "cell_type": "markdown",
   "metadata": {},
   "source": [
    "## Create new features"
   ]
  },
  {
   "cell_type": "code",
   "execution_count": 25,
   "metadata": {
    "collapsed": false
   },
   "outputs": [],
   "source": [
    "merge['Days_past'] = (merge['FileDate_day'] - merge['BILLCycle'])\n",
    "merge.head()\n",
    "\n",
    "merge['Days_past'] = merge['Days_past'].apply(lambda x: x+30 if x < 0 else x)\n"
   ]
  },
  {
   "cell_type": "code",
   "execution_count": 26,
   "metadata": {
    "collapsed": false
   },
   "outputs": [],
   "source": [
    "b1 = merge.loc[merge['Range_day'] == 1]\n",
    "b2 = merge.loc[merge['Range_day'] == 2]\n",
    "b3 = merge.loc[merge['Range_day'] == 3]\n",
    "\n",
    "b_list = [b1,b2,b3]"
   ]
  },
  {
   "cell_type": "markdown",
   "metadata": {},
   "source": [
    "# Feature Selection"
   ]
  },
  {
   "cell_type": "code",
   "execution_count": 27,
   "metadata": {
    "collapsed": true
   },
   "outputs": [],
   "source": [
    "category_columns = [\n",
    "       'FDTACTIONDATE', 'FDTRESULTDATE', 'Hours',\n",
    "       'FISRNO', 'ACTION_DESC', 'ACTIONCOLL', 'StampDate', 'HASH_LPM_CST_ID',\n",
    "       'HASH_AR_ID', 'FileDate_month', 'FileDate_year', 'Unnamed: 0_y',\n",
    "       'Month', 'FileDate', 'PortFolio', 'ProductName',\n",
    "       'BILLCycle', 'Group', 'Range_day', 'Card Type New', 'New_Handle']\n",
    "numeric_columns = ['OSAMT', 'OSPRINCIPLE', 'Days_past']"
   ]
  },
  {
   "cell_type": "code",
   "execution_count": 28,
   "metadata": {
    "collapsed": false
   },
   "outputs": [
    {
     "name": "stderr",
     "output_type": "stream",
     "text": [
      "/anaconda/lib/python3.6/site-packages/ipykernel/__main__.py:6: SettingWithCopyWarning: \n",
      "A value is trying to be set on a copy of a slice from a DataFrame.\n",
      "Try using .loc[row_indexer,col_indexer] = value instead\n",
      "\n",
      "See the caveats in the documentation: http://pandas.pydata.org/pandas-docs/stable/indexing.html#indexing-view-versus-copy\n"
     ]
    }
   ],
   "source": [
    "from sklearn import preprocessing\n",
    "labenc = preprocessing.LabelEncoder()\n",
    "\n",
    "for b in b_list:\n",
    "    for column in category_columns:\n",
    "        b[column] = labenc.fit_transform(b[column].tolist())"
   ]
  },
  {
   "cell_type": "code",
   "execution_count": 29,
   "metadata": {
    "collapsed": true
   },
   "outputs": [],
   "source": [
    "y_onehot_b1 = pd.get_dummies(b1['FResultcategory'])\n",
    "y_onehot_b2 = pd.get_dummies(b2['FResultcategory'])\n",
    "y_onehot_b3 = pd.get_dummies(b3['FResultcategory'])\n",
    "\n",
    "y_list = [y_onehot_b1,y_onehot_b2,y_onehot_b3]\n",
    "\n",
    "\n",
    "\n",
    "data_num = [(b1[numeric_columns],y_onehot_b1),(b2[numeric_columns],y_onehot_b2),(b3[numeric_columns],y_onehot_b3)]\n",
    "\n",
    "data_nom = [(b1[category_columns],y_onehot_b1),(b2[category_columns],y_onehot_b2),(b3[category_columns],y_onehot_b3)]\n",
    "\n",
    "\n",
    "\n"
   ]
  },
  {
   "cell_type": "code",
   "execution_count": 30,
   "metadata": {
    "collapsed": true
   },
   "outputs": [],
   "source": [
    "from sklearn.feature_selection import chi2, f_classif\n",
    "import numpy as np\n",
    "\n",
    "def test_feature(x, y, func=f_classif):\n",
    "    f_group1 = func(x, y)\n",
    "    f_group1_table = pd.DataFrame(np.array([list(x.columns), f_group1[0], f_group1[1]]).T,\n",
    "                                  columns=['column_name', 'f_value', 'p_value'])\n",
    "    f_group1_table['f_value'] = f_group1_table['f_value'].astype(np.float64)\n",
    "    f_group1_table['p_value'] = f_group1_table['p_value'].astype(np.float64)\n",
    "    col_to_drop = f_group1_table.loc[f_group1_table['p_value'] > 0.001]['column_name'].tolist()\n",
    "    return f_group1_table, col_to_drop"
   ]
  },
  {
   "cell_type": "code",
   "execution_count": 31,
   "metadata": {
    "collapsed": false
   },
   "outputs": [],
   "source": [
    "df_numeric = []\n",
    "\n",
    "for d in data_num:\n",
    "    b,y = d[0], d[1]\n",
    "    result_table, col_to_drop = test_feature(b, y['PTP'])\n",
    "    df_numeric1 = b.drop(col_to_drop, axis=1)\n",
    "    df_numeric.append(df_numeric1)"
   ]
  },
  {
   "cell_type": "code",
   "execution_count": 32,
   "metadata": {
    "collapsed": false
   },
   "outputs": [],
   "source": [
    "df_nominal = []\n",
    "\n",
    "for d in data_nom:\n",
    "\n",
    "    \n",
    "    b,y = d[0], d[1]\n",
    "    result_table, col_to_drop = test_feature(b, y['PTP'],chi2)\n",
    "    df_cat1 = b.drop(col_to_drop, axis=1)\n",
    "    df_nominal.append(df_cat1)\n"
   ]
  },
  {
   "cell_type": "code",
   "execution_count": 33,
   "metadata": {
    "collapsed": false
   },
   "outputs": [],
   "source": [
    "df_nominal[0] = pd.get_dummies(df_nominal[0], columns = ['Hours','ACTIONCOLL', 'Group'])\n",
    "df_nominal[1] = pd.get_dummies(df_nominal[1], columns = ['Hours','ACTIONCOLL', 'Group'])\n",
    "df_nominal[2] = pd.get_dummies(df_nominal[2], columns = ['Hours','ACTIONCOLL', 'Group'])"
   ]
  },
  {
   "cell_type": "code",
   "execution_count": 34,
   "metadata": {
    "collapsed": false
   },
   "outputs": [],
   "source": [
    "x = []\n",
    "\n",
    "for i in range(3):\n",
    "    x.append(pd.concat([df_nominal[i],df_numeric[i]],axis = 1))\n"
   ]
  },
  {
   "cell_type": "code",
   "execution_count": 35,
   "metadata": {
    "collapsed": false
   },
   "outputs": [],
   "source": [
    "col = ['OSAMT', 'FISRNO','OSPRINCIPLE','ACTION_DESC', 'FDTACTIONDATE', 'HASH_LPM_CST_ID', 'HASH_AR_ID',\n",
    "       'FDTRESULTDATE', 'Unnamed: 0_y', 'ProductName', 'New_Handle']\n",
    "\n",
    "for i in range(3):\n",
    "    x[i] = x[i].drop(col, axis = 1)"
   ]
  },
  {
   "cell_type": "markdown",
   "metadata": {},
   "source": [
    "# Models"
   ]
  },
  {
   "cell_type": "code",
   "execution_count": 36,
   "metadata": {
    "collapsed": false
   },
   "outputs": [
    {
     "data": {
      "text/html": [
       "<div>\n",
       "<table border=\"1\" class=\"dataframe\">\n",
       "  <thead>\n",
       "    <tr style=\"text-align: right;\">\n",
       "      <th></th>\n",
       "      <th>StampDate</th>\n",
       "      <th>FileDate_month</th>\n",
       "      <th>FileDate_year</th>\n",
       "      <th>Month</th>\n",
       "      <th>FileDate</th>\n",
       "      <th>PortFolio</th>\n",
       "      <th>BILLCycle</th>\n",
       "      <th>Range_day</th>\n",
       "      <th>Card Type New</th>\n",
       "      <th>Hours_0</th>\n",
       "      <th>...</th>\n",
       "      <th>ACTIONCOLL_398</th>\n",
       "      <th>ACTIONCOLL_399</th>\n",
       "      <th>ACTIONCOLL_400</th>\n",
       "      <th>ACTIONCOLL_401</th>\n",
       "      <th>Group_0</th>\n",
       "      <th>Group_1</th>\n",
       "      <th>Group_2</th>\n",
       "      <th>Group_3</th>\n",
       "      <th>Group_4</th>\n",
       "      <th>Days_past</th>\n",
       "    </tr>\n",
       "  </thead>\n",
       "  <tbody>\n",
       "    <tr>\n",
       "      <th>1</th>\n",
       "      <td>3</td>\n",
       "      <td>9</td>\n",
       "      <td>0</td>\n",
       "      <td>0</td>\n",
       "      <td>1</td>\n",
       "      <td>0</td>\n",
       "      <td>3</td>\n",
       "      <td>0</td>\n",
       "      <td>0</td>\n",
       "      <td>1</td>\n",
       "      <td>...</td>\n",
       "      <td>0</td>\n",
       "      <td>0</td>\n",
       "      <td>0</td>\n",
       "      <td>0</td>\n",
       "      <td>0</td>\n",
       "      <td>0</td>\n",
       "      <td>1</td>\n",
       "      <td>0</td>\n",
       "      <td>0</td>\n",
       "      <td>15.0</td>\n",
       "    </tr>\n",
       "    <tr>\n",
       "      <th>11</th>\n",
       "      <td>3</td>\n",
       "      <td>9</td>\n",
       "      <td>0</td>\n",
       "      <td>0</td>\n",
       "      <td>2</td>\n",
       "      <td>0</td>\n",
       "      <td>4</td>\n",
       "      <td>0</td>\n",
       "      <td>5</td>\n",
       "      <td>0</td>\n",
       "      <td>...</td>\n",
       "      <td>0</td>\n",
       "      <td>0</td>\n",
       "      <td>0</td>\n",
       "      <td>0</td>\n",
       "      <td>0</td>\n",
       "      <td>0</td>\n",
       "      <td>1</td>\n",
       "      <td>0</td>\n",
       "      <td>0</td>\n",
       "      <td>10.0</td>\n",
       "    </tr>\n",
       "    <tr>\n",
       "      <th>33</th>\n",
       "      <td>3</td>\n",
       "      <td>9</td>\n",
       "      <td>0</td>\n",
       "      <td>0</td>\n",
       "      <td>0</td>\n",
       "      <td>0</td>\n",
       "      <td>2</td>\n",
       "      <td>0</td>\n",
       "      <td>5</td>\n",
       "      <td>0</td>\n",
       "      <td>...</td>\n",
       "      <td>0</td>\n",
       "      <td>0</td>\n",
       "      <td>0</td>\n",
       "      <td>0</td>\n",
       "      <td>0</td>\n",
       "      <td>0</td>\n",
       "      <td>0</td>\n",
       "      <td>0</td>\n",
       "      <td>1</td>\n",
       "      <td>18.0</td>\n",
       "    </tr>\n",
       "    <tr>\n",
       "      <th>42</th>\n",
       "      <td>3</td>\n",
       "      <td>9</td>\n",
       "      <td>0</td>\n",
       "      <td>0</td>\n",
       "      <td>2</td>\n",
       "      <td>0</td>\n",
       "      <td>4</td>\n",
       "      <td>0</td>\n",
       "      <td>6</td>\n",
       "      <td>0</td>\n",
       "      <td>...</td>\n",
       "      <td>0</td>\n",
       "      <td>0</td>\n",
       "      <td>0</td>\n",
       "      <td>0</td>\n",
       "      <td>0</td>\n",
       "      <td>0</td>\n",
       "      <td>1</td>\n",
       "      <td>0</td>\n",
       "      <td>0</td>\n",
       "      <td>10.0</td>\n",
       "    </tr>\n",
       "    <tr>\n",
       "      <th>52</th>\n",
       "      <td>3</td>\n",
       "      <td>9</td>\n",
       "      <td>0</td>\n",
       "      <td>0</td>\n",
       "      <td>1</td>\n",
       "      <td>0</td>\n",
       "      <td>3</td>\n",
       "      <td>0</td>\n",
       "      <td>6</td>\n",
       "      <td>1</td>\n",
       "      <td>...</td>\n",
       "      <td>0</td>\n",
       "      <td>0</td>\n",
       "      <td>0</td>\n",
       "      <td>0</td>\n",
       "      <td>0</td>\n",
       "      <td>0</td>\n",
       "      <td>1</td>\n",
       "      <td>0</td>\n",
       "      <td>0</td>\n",
       "      <td>15.0</td>\n",
       "    </tr>\n",
       "  </tbody>\n",
       "</table>\n",
       "<p>5 rows × 430 columns</p>\n",
       "</div>"
      ],
      "text/plain": [
       "    StampDate  FileDate_month  FileDate_year  Month  FileDate  PortFolio  \\\n",
       "1           3               9              0      0         1          0   \n",
       "11          3               9              0      0         2          0   \n",
       "33          3               9              0      0         0          0   \n",
       "42          3               9              0      0         2          0   \n",
       "52          3               9              0      0         1          0   \n",
       "\n",
       "    BILLCycle  Range_day  Card Type New  Hours_0    ...      ACTIONCOLL_398  \\\n",
       "1           3          0              0        1    ...                   0   \n",
       "11          4          0              5        0    ...                   0   \n",
       "33          2          0              5        0    ...                   0   \n",
       "42          4          0              6        0    ...                   0   \n",
       "52          3          0              6        1    ...                   0   \n",
       "\n",
       "    ACTIONCOLL_399  ACTIONCOLL_400  ACTIONCOLL_401  Group_0  Group_1  Group_2  \\\n",
       "1                0               0               0        0        0        1   \n",
       "11               0               0               0        0        0        1   \n",
       "33               0               0               0        0        0        0   \n",
       "42               0               0               0        0        0        1   \n",
       "52               0               0               0        0        0        1   \n",
       "\n",
       "    Group_3  Group_4  Days_past  \n",
       "1         0        0       15.0  \n",
       "11        0        0       10.0  \n",
       "33        0        1       18.0  \n",
       "42        0        0       10.0  \n",
       "52        0        0       15.0  \n",
       "\n",
       "[5 rows x 430 columns]"
      ]
     },
     "execution_count": 36,
     "metadata": {},
     "output_type": "execute_result"
    }
   ],
   "source": [
    "x[0].head()"
   ]
  },
  {
   "cell_type": "markdown",
   "metadata": {},
   "source": [
    "delete stampdate\n",
    "time delta (stampdate - file date)\n",
    "add weekday (MTWTF)\n"
   ]
  },
  {
   "cell_type": "code",
   "execution_count": 37,
   "metadata": {
    "collapsed": false
   },
   "outputs": [
    {
     "name": "stderr",
     "output_type": "stream",
     "text": [
      "/anaconda/lib/python3.6/site-packages/sklearn/cross_validation.py:44: DeprecationWarning: This module was deprecated in version 0.18 in favor of the model_selection module into which all the refactored classes and functions are moved. Also note that the interface of the new CV iterators are different from that of this module. This module will be removed in 0.20.\n",
      "  \"This module will be removed in 0.20.\", DeprecationWarning)\n"
     ]
    },
    {
     "name": "stdout",
     "output_type": "stream",
     "text": [
      "Bucket 1\n",
      "Spliting training/testing set\n",
      "Building Model\n",
      "Testing Model for Bucket 1 using LR\n"
     ]
    },
    {
     "name": "stderr",
     "output_type": "stream",
     "text": [
      "/anaconda/lib/python3.6/site-packages/sklearn/linear_model/sag.py:286: ConvergenceWarning: The max_iter was reached which means the coef_ did not converge\n",
      "  \"the coef_ did not converge\", ConvergenceWarning)\n"
     ]
    },
    {
     "name": "stdout",
     "output_type": "stream",
     "text": [
      "             precision    recall  f1-score   support\n",
      "\n",
      "          0       0.70      0.84      0.76     99981\n",
      "          1       0.61      0.43      0.50     61220\n",
      "\n",
      "avg / total       0.67      0.68      0.67    161201\n",
      "\n",
      "Testing Model for Bucket 1 using RFC\n",
      "             precision    recall  f1-score   support\n",
      "\n",
      "          0       0.72      0.85      0.78     99981\n",
      "          1       0.65      0.45      0.53     61220\n",
      "\n",
      "avg / total       0.69      0.70      0.69    161201\n",
      "\n",
      "Bucket 2\n",
      "Spliting training/testing set\n",
      "Building Model\n",
      "Testing Model for Bucket 2 using LR\n"
     ]
    },
    {
     "name": "stderr",
     "output_type": "stream",
     "text": [
      "/anaconda/lib/python3.6/site-packages/sklearn/linear_model/sag.py:286: ConvergenceWarning: The max_iter was reached which means the coef_ did not converge\n",
      "  \"the coef_ did not converge\", ConvergenceWarning)\n"
     ]
    },
    {
     "name": "stdout",
     "output_type": "stream",
     "text": [
      "             precision    recall  f1-score   support\n",
      "\n",
      "          0       0.80      0.98      0.88     43373\n",
      "          1       0.59      0.12      0.20     12000\n",
      "\n",
      "avg / total       0.76      0.79      0.73     55373\n",
      "\n",
      "Testing Model for Bucket 2 using RFC\n",
      "             precision    recall  f1-score   support\n",
      "\n",
      "          0       0.80      0.98      0.88     43373\n",
      "          1       0.64      0.10      0.18     12000\n",
      "\n",
      "avg / total       0.76      0.79      0.73     55373\n",
      "\n",
      "Bucket 3\n",
      "Spliting training/testing set\n",
      "Building Model\n",
      "Testing Model for Bucket 3 using LR\n"
     ]
    },
    {
     "name": "stderr",
     "output_type": "stream",
     "text": [
      "/anaconda/lib/python3.6/site-packages/sklearn/linear_model/sag.py:286: ConvergenceWarning: The max_iter was reached which means the coef_ did not converge\n",
      "  \"the coef_ did not converge\", ConvergenceWarning)\n"
     ]
    },
    {
     "name": "stdout",
     "output_type": "stream",
     "text": [
      "             precision    recall  f1-score   support\n",
      "\n",
      "          0       0.87      1.00      0.93     30822\n",
      "          1       0.60      0.01      0.01      4819\n",
      "\n",
      "avg / total       0.83      0.87      0.80     35641\n",
      "\n",
      "Testing Model for Bucket 3 using RFC\n",
      "             precision    recall  f1-score   support\n",
      "\n",
      "          0       0.87      1.00      0.93     30822\n",
      "          1       0.66      0.02      0.05      4819\n",
      "\n",
      "avg / total       0.84      0.87      0.81     35641\n",
      "\n"
     ]
    }
   ],
   "source": [
    "from sklearn.ensemble import RandomForestClassifier as RFC\n",
    "from sklearn.neighbors import KNeighborsClassifier as KNC\n",
    "from sklearn.linear_model import LogisticRegression as LR\n",
    "from sklearn.cross_validation import train_test_split\n",
    "from sklearn.metrics import classification_report\n",
    "\n",
    "def test_model(model, x_train, y_train, x_test, y_test):\n",
    "    model.fit(x_train, y_train)\n",
    "    yhat = model.predict(x_test)\n",
    "    result = classification_report(y_test, yhat)\n",
    "    print(result)\n",
    "    return model\n",
    "\n",
    "mod = []\n",
    "\n",
    "\n",
    "for i in range(3):\n",
    "    \n",
    "    print (\"Bucket \" + (str)(i+1))\n",
    "    print (\"Spliting training/testing set\")\n",
    "    \n",
    "    x_train, x_test, y_train, y_test = train_test_split(x[i], y_list[i]['PTP'], test_size=0.2)\n",
    "    \n",
    "    print (\"Building Model\")\n",
    "\n",
    "    estim = {'LR': LR(solver='sag', C=0.1, random_state=42, n_jobs=-1), 'RFC': RFC(n_estimators=50, n_jobs=-1, oob_score=True, min_samples_leaf=10, random_state=42)}\n",
    "    mod1 = {}\n",
    "    for key, value in estim.items():\n",
    "        \n",
    "        print (\"Testing Model for Bucket \" + (str)(i+1) + \" using \" + key )\n",
    "        \n",
    "        mod1[key] = test_model(value, x_train, y_train, x_test, y_test)\n",
    "        \n",
    "    mod.append(mod1)"
   ]
  },
  {
   "cell_type": "markdown",
   "metadata": {},
   "source": [
    "We analyze data using 2 models: Logistic Regression, and Random Forest. The latter gives better accuracy for PTP prediction. Given the data from List Action and DB_SOC, the model can predict PTP with 74% accuracy, and predict non-PTP with 89% accuracy."
   ]
  },
  {
   "cell_type": "markdown",
   "metadata": {},
   "source": [
    "### Features' Importance"
   ]
  },
  {
   "cell_type": "code",
   "execution_count": 38,
   "metadata": {
    "collapsed": false
   },
   "outputs": [
    {
     "name": "stdout",
     "output_type": "stream",
     "text": [
      "Summary for Bucket 1\n",
      "           Features  Importance\n",
      "429       Days_past    0.103984\n",
      "428         Group_4    0.098051\n",
      "426         Group_2    0.096763\n",
      "0         StampDate    0.064583\n",
      "8     Card Type New    0.047366\n",
      "10          Hours_1    0.047221\n",
      "4          FileDate    0.043955\n",
      "9           Hours_0    0.042589\n",
      "3             Month    0.027342\n",
      "17          Hours_8    0.021533\n",
      "6         BILLCycle    0.020214\n",
      "364  ACTIONCOLL_342    0.018573\n",
      "369  ACTIONCOLL_347    0.018345\n",
      "1    FileDate_month    0.018325\n",
      "19         Hours_10    0.017487\n",
      "16          Hours_7    0.017298\n",
      "366  ACTIONCOLL_344    0.016871\n",
      "367  ACTIONCOLL_345    0.015985\n",
      "11          Hours_2    0.014488\n",
      "18          Hours_9    0.011756\n",
      "368  ACTIONCOLL_346    0.010700\n",
      "365  ACTIONCOLL_343    0.009982\n",
      "371  ACTIONCOLL_349    0.007768\n",
      "12          Hours_3    0.007683\n",
      "354  ACTIONCOLL_332    0.007634\n",
      "352  ACTIONCOLL_330    0.007586\n",
      "15          Hours_6    0.007348\n",
      "374  ACTIONCOLL_352    0.007326\n",
      "370  ACTIONCOLL_348    0.006603\n",
      "358  ACTIONCOLL_336    0.005825\n",
      "..              ...         ...\n",
      "88    ACTIONCOLL_66    0.000000\n",
      "134  ACTIONCOLL_112    0.000000\n",
      "87    ACTIONCOLL_65    0.000000\n",
      "86    ACTIONCOLL_64    0.000000\n",
      "85    ACTIONCOLL_63    0.000000\n",
      "347  ACTIONCOLL_325    0.000000\n",
      "348  ACTIONCOLL_326    0.000000\n",
      "349  ACTIONCOLL_327    0.000000\n",
      "350  ACTIONCOLL_328    0.000000\n",
      "84    ACTIONCOLL_62    0.000000\n",
      "93    ACTIONCOLL_71    0.000000\n",
      "95    ACTIONCOLL_73    0.000000\n",
      "317  ACTIONCOLL_295    0.000000\n",
      "96    ACTIONCOLL_74    0.000000\n",
      "130  ACTIONCOLL_108    0.000000\n",
      "108   ACTIONCOLL_86    0.000000\n",
      "107   ACTIONCOLL_85    0.000000\n",
      "106   ACTIONCOLL_84    0.000000\n",
      "105   ACTIONCOLL_83    0.000000\n",
      "104   ACTIONCOLL_82    0.000000\n",
      "103   ACTIONCOLL_81    0.000000\n",
      "102   ACTIONCOLL_80    0.000000\n",
      "101   ACTIONCOLL_79    0.000000\n",
      "131  ACTIONCOLL_109    0.000000\n",
      "100   ACTIONCOLL_78    0.000000\n",
      "132  ACTIONCOLL_110    0.000000\n",
      "99    ACTIONCOLL_77    0.000000\n",
      "98    ACTIONCOLL_76    0.000000\n",
      "97    ACTIONCOLL_75    0.000000\n",
      "159  ACTIONCOLL_137    0.000000\n",
      "\n",
      "[430 rows x 2 columns]\n",
      "Summary for Bucket 2\n",
      "           Features  Importance\n",
      "8           Hours_1    0.119956\n",
      "375         Group_4    0.117936\n",
      "6     Card Type New    0.086211\n",
      "373         Group_2    0.074271\n",
      "0         StampDate    0.053326\n",
      "9           Hours_2    0.050657\n",
      "3          FileDate    0.037704\n",
      "349  ACTIONCOLL_329    0.034607\n",
      "2             Month    0.024417\n",
      "1    FileDate_month    0.021449\n",
      "4         BILLCycle    0.021269\n",
      "11          Hours_4    0.020427\n",
      "343  ACTIONCOLL_323    0.019088\n",
      "344  ACTIONCOLL_324    0.014954\n",
      "49    ACTIONCOLL_29    0.014759\n",
      "347  ACTIONCOLL_327    0.013405\n",
      "18         Hours_11    0.010784\n",
      "10          Hours_3    0.010568\n",
      "16          Hours_9    0.009995\n",
      "348  ACTIONCOLL_328    0.009786\n",
      "17         Hours_10    0.009716\n",
      "322  ACTIONCOLL_302    0.008940\n",
      "345  ACTIONCOLL_325    0.007917\n",
      "371         Group_0    0.007668\n",
      "328  ACTIONCOLL_308    0.007662\n",
      "316  ACTIONCOLL_296    0.007585\n",
      "351  ACTIONCOLL_331    0.007486\n",
      "346  ACTIONCOLL_326    0.007463\n",
      "315  ACTIONCOLL_295    0.007110\n",
      "15          Hours_8    0.006794\n",
      "..              ...         ...\n",
      "88    ACTIONCOLL_68    0.000000\n",
      "87    ACTIONCOLL_67    0.000000\n",
      "293  ACTIONCOLL_273    0.000000\n",
      "216  ACTIONCOLL_196    0.000000\n",
      "103   ACTIONCOLL_83    0.000000\n",
      "296  ACTIONCOLL_276    0.000000\n",
      "297  ACTIONCOLL_277    0.000000\n",
      "86    ACTIONCOLL_66    0.000000\n",
      "85    ACTIONCOLL_65    0.000000\n",
      "84    ACTIONCOLL_64    0.000000\n",
      "83    ACTIONCOLL_63    0.000000\n",
      "102   ACTIONCOLL_82    0.000000\n",
      "104   ACTIONCOLL_84    0.000000\n",
      "166  ACTIONCOLL_146    0.000000\n",
      "141  ACTIONCOLL_121    0.000000\n",
      "262  ACTIONCOLL_242    0.000000\n",
      "263  ACTIONCOLL_243    0.000000\n",
      "165  ACTIONCOLL_145    0.000000\n",
      "164  ACTIONCOLL_144    0.000000\n",
      "143  ACTIONCOLL_123    0.000000\n",
      "142  ACTIONCOLL_122    0.000000\n",
      "140  ACTIONCOLL_120    0.000000\n",
      "105   ACTIONCOLL_85    0.000000\n",
      "139  ACTIONCOLL_119    0.000000\n",
      "138  ACTIONCOLL_118    0.000000\n",
      "133  ACTIONCOLL_113    0.000000\n",
      "115   ACTIONCOLL_95    0.000000\n",
      "111   ACTIONCOLL_91    0.000000\n",
      "106   ACTIONCOLL_86    0.000000\n",
      "5         Range_day    0.000000\n",
      "\n",
      "[376 rows x 2 columns]\n"
     ]
    },
    {
     "name": "stderr",
     "output_type": "stream",
     "text": [
      "/anaconda/lib/python3.6/site-packages/ipykernel/__main__.py:6: FutureWarning: sort(columns=....) is deprecated, use sort_values(by=.....)\n"
     ]
    },
    {
     "name": "stdout",
     "output_type": "stream",
     "text": [
      "Summary for Bucket 3\n",
      "           Features  Importance\n",
      "335         Group_4    0.162241\n",
      "333         Group_2    0.120348\n",
      "7     Card Type New    0.113158\n",
      "0         StampDate    0.048750\n",
      "336       Days_past    0.046624\n",
      "317  ACTIONCOLL_295    0.045727\n",
      "4          FileDate    0.035046\n",
      "45    ACTIONCOLL_23    0.030129\n",
      "312  ACTIONCOLL_290    0.026481\n",
      "5         BILLCycle    0.022738\n",
      "3             Month    0.022664\n",
      "1    FileDate_month    0.021644\n",
      "9           Hours_1    0.019115\n",
      "311  ACTIONCOLL_289    0.017934\n",
      "315  ACTIONCOLL_293    0.015164\n",
      "313  ACTIONCOLL_291    0.010915\n",
      "298  ACTIONCOLL_276    0.009305\n",
      "334         Group_3    0.009182\n",
      "292  ACTIONCOLL_270    0.008714\n",
      "10          Hours_2    0.007179\n",
      "12          Hours_4    0.006934\n",
      "11          Hours_3    0.006326\n",
      "89    ACTIONCOLL_67    0.005725\n",
      "296  ACTIONCOLL_274    0.005686\n",
      "316  ACTIONCOLL_294    0.005629\n",
      "300  ACTIONCOLL_278    0.005629\n",
      "303  ACTIONCOLL_281    0.005567\n",
      "293  ACTIONCOLL_271    0.005531\n",
      "297  ACTIONCOLL_275    0.005409\n",
      "17          Hours_9    0.005343\n",
      "..              ...         ...\n",
      "134  ACTIONCOLL_112    0.000000\n",
      "135  ACTIONCOLL_113    0.000000\n",
      "136  ACTIONCOLL_114    0.000000\n",
      "137  ACTIONCOLL_115    0.000000\n",
      "138  ACTIONCOLL_116    0.000000\n",
      "139  ACTIONCOLL_117    0.000000\n",
      "140  ACTIONCOLL_118    0.000000\n",
      "141  ACTIONCOLL_119    0.000000\n",
      "142  ACTIONCOLL_120    0.000000\n",
      "143  ACTIONCOLL_121    0.000000\n",
      "144  ACTIONCOLL_122    0.000000\n",
      "145  ACTIONCOLL_123    0.000000\n",
      "146  ACTIONCOLL_124    0.000000\n",
      "148  ACTIONCOLL_126    0.000000\n",
      "163  ACTIONCOLL_141    0.000000\n",
      "149  ACTIONCOLL_127    0.000000\n",
      "150  ACTIONCOLL_128    0.000000\n",
      "151  ACTIONCOLL_129    0.000000\n",
      "152  ACTIONCOLL_130    0.000000\n",
      "153  ACTIONCOLL_131    0.000000\n",
      "154  ACTIONCOLL_132    0.000000\n",
      "155  ACTIONCOLL_133    0.000000\n",
      "156  ACTIONCOLL_134    0.000000\n",
      "157  ACTIONCOLL_135    0.000000\n",
      "158  ACTIONCOLL_136    0.000000\n",
      "159  ACTIONCOLL_137    0.000000\n",
      "160  ACTIONCOLL_138    0.000000\n",
      "161  ACTIONCOLL_139    0.000000\n",
      "162  ACTIONCOLL_140    0.000000\n",
      "168  ACTIONCOLL_146    0.000000\n",
      "\n",
      "[337 rows x 2 columns]\n"
     ]
    }
   ],
   "source": [
    "for i in range(3):\n",
    "\n",
    "    summary = {'Features':x[i].columns, 'Importance':mod[i]['RFC'].feature_importances_}\n",
    "    summary = pd.DataFrame(data = summary)\n",
    "    print (\"Summary for Bucket \"+ (str)(i+1))\n",
    "    print (summary.sort('Importance', ascending = 0))"
   ]
  },
  {
   "cell_type": "markdown",
   "metadata": {},
   "source": [
    "This table shows the importance of each features. We can see that the agents affect the result more than other factors.\n",
    "\n",
    "\n",
    "For Hours features, Hour_0 = 7am, Hour_1 = 8am, Hour_2 = 9am, ..., Hour_13 = 8pm\n",
    "\n",
    "\n",
    "For Group features, Group_0 = self_cured, Group_2 = Action_Save, Group_4 = Action_Roll"
   ]
  },
  {
   "cell_type": "code",
   "execution_count": null,
   "metadata": {
    "collapsed": true
   },
   "outputs": [],
   "source": []
  }
 ],
 "metadata": {
  "anaconda-cloud": {},
  "kernelspec": {
   "display_name": "Python [default]",
   "language": "python",
   "name": "python3"
  },
  "language_info": {
   "codemirror_mode": {
    "name": "ipython",
    "version": 3
   },
   "file_extension": ".py",
   "mimetype": "text/x-python",
   "name": "python",
   "nbconvert_exporter": "python",
   "pygments_lexer": "ipython3",
   "version": "3.5.2"
  }
 },
 "nbformat": 4,
 "nbformat_minor": 2
}
