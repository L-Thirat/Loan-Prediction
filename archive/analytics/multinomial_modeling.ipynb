{
 "cells": [
  {
   "cell_type": "code",
   "execution_count": 1,
   "metadata": {
    "collapsed": false
   },
   "outputs": [
    {
     "name": "stderr",
     "output_type": "stream",
     "text": [
      "//anaconda/lib/python3.5/site-packages/sklearn/cross_validation.py:44: DeprecationWarning: This module was deprecated in version 0.18 in favor of the model_selection module into which all the refactored classes and functions are moved. Also note that the interface of the new CV iterators are different from that of this module. This module will be removed in 0.20.\n",
      "  \"This module will be removed in 0.20.\", DeprecationWarning)\n"
     ]
    }
   ],
   "source": [
    "# This chunk of code make it possible to use src functions\n",
    "import sys\n",
    "import os\n",
    "module_path = os.path.abspath(os.path.join('../src'))\n",
    "\n",
    "if module_path not in sys.path:\n",
    "    sys.path.append(module_path)\n",
    "import warnings\n",
    "warnings.filterwarnings('ignore')\n",
    "    \n",
    "from dsproject import dsproject\n",
    "import pandas as pd\n",
    "from model import *\n",
    "\n",
    "dsp = dsproject()"
   ]
  },
  {
   "cell_type": "code",
   "execution_count": 2,
   "metadata": {
    "collapsed": false
   },
   "outputs": [],
   "source": [
    "train = dsp.read_table(train_dataset + '_processed', 'feature')"
   ]
  },
  {
   "cell_type": "code",
   "execution_count": 3,
   "metadata": {
    "collapsed": false
   },
   "outputs": [],
   "source": [
    "validate = dsp.read_table(validate_dataset + '_processed', 'feature')"
   ]
  },
  {
   "cell_type": "code",
   "execution_count": 4,
   "metadata": {
    "collapsed": false
   },
   "outputs": [],
   "source": [
    "score = dsp.read_table(score_dataset + '_processed', 'feature')"
   ]
  },
  {
   "cell_type": "code",
   "execution_count": 5,
   "metadata": {
    "collapsed": false
   },
   "outputs": [
    {
     "name": "stdout",
     "output_type": "stream",
     "text": [
      "['CRN_CYC_AMT']\n",
      "['AFF_MBR_TP_ID', 'AU_ID', 'IP_LCS_TP_ID', 'NAT_ID', 'IDENTN_TP_ID', 'CARD_TP', 'RACE_ID', 'COLL_BR_NBR', 'IS_CLCB_F', 'CC_ST_ID', 'AFF_MBR_ORG_ID', 'SALUT_EN', 'NPL_F', 'MBL_PH_F']\n"
     ]
    }
   ],
   "source": [
    "x, y, col_to_drop_numeric, col_to_drop_cat = feature_selection(train, 'Group')"
   ]
  },
  {
   "cell_type": "code",
   "execution_count": 6,
   "metadata": {
    "collapsed": false
   },
   "outputs": [
    {
     "name": "stdout",
     "output_type": "stream",
     "text": [
      "             precision    recall  f1-score   support\n",
      "\n",
      "          1       0.71      0.64      0.68     15520\n",
      "          3       0.64      0.77      0.70     16501\n",
      "          5       0.64      0.09      0.16      2099\n",
      "\n",
      "avg / total       0.68      0.67      0.66     34120\n",
      "\n",
      "             precision    recall  f1-score   support\n",
      "\n",
      "          1       0.60      0.57      0.58     15520\n",
      "          3       0.57      0.68      0.62     16501\n",
      "          5       0.00      0.00      0.00      2099\n",
      "\n",
      "avg / total       0.55      0.59      0.57     34120\n",
      "\n"
     ]
    }
   ],
   "source": [
    "mod, result, (x_train, x_test, y_train, y_test) = train_classifier(x, y)"
   ]
  },
  {
   "cell_type": "code",
   "execution_count": 7,
   "metadata": {
    "collapsed": false
   },
   "outputs": [
    {
     "name": "stdout",
     "output_type": "stream",
     "text": [
      "['ACR_INT_AMT', 'NBR_DLQ_ST_30_59_P3M', 'CR_LMT_AMT', 'NBR_DYS_NOT_PY_30DYS_LAST_3MO', 'ACR_INT_RTL_AMT', 'PAST_DUE_30_AMT', 'AR_RSK_PERF_IND', 'CRN_CYC_AMT', 'OTSND_BAL_AMT']\n",
      "['AFF_MBR_TP_ID', 'AU_ID', 'IP_LCS_TP_ID', 'NAT_ID', 'IDENTN_TP_ID', 'CARD_TP', 'RACE_ID', 'COLL_BR_NBR', 'PNP_CARD_ITRV_ID', 'IS_CLCB_F', 'IS_CARD_VLD_F', 'CC_ST_ID', 'COLL_ID', 'AFF_MBR_ORG_ID', 'SALUT_EN', 'NPL_F', 'CR_LMT_AMT_RNG_ID', 'MBL_PH_F']\n"
     ]
    }
   ],
   "source": [
    "x, y, col_to_drop_numeric, col_to_drop_cat = feature_selection(train, 'group3')"
   ]
  },
  {
   "cell_type": "code",
   "execution_count": 8,
   "metadata": {
    "collapsed": false
   },
   "outputs": [
    {
     "name": "stdout",
     "output_type": "stream",
     "text": [
      "             precision    recall  f1-score   support\n",
      "\n",
      "          0       0.72      0.63      0.67     17596\n",
      "          1       0.65      0.74      0.69     16524\n",
      "\n",
      "avg / total       0.69      0.68      0.68     34120\n",
      "\n",
      "             precision    recall  f1-score   support\n",
      "\n",
      "          0       0.61      0.63      0.62     17596\n",
      "          1       0.59      0.57      0.58     16524\n",
      "\n",
      "avg / total       0.60      0.60      0.60     34120\n",
      "\n"
     ]
    }
   ],
   "source": [
    "mod, result, (x_train, x_test, y_train, y_test) = train_classifier(x, y)"
   ]
  },
  {
   "cell_type": "code",
   "execution_count": 9,
   "metadata": {
    "collapsed": false
   },
   "outputs": [
    {
     "name": "stdout",
     "output_type": "stream",
     "text": [
      "['AR_RSK_GRD', 'LAST_DLQ_MO', 'CRN_CYC_AMT']\n",
      "['E_MAIL_F', 'AFF_MBR_TP_ID', 'INCM_RNG_ID', 'AU_ID', 'IP_LCS_TP_ID', 'IS_PNP_CARD_F', 'NAT_ID', 'IDENTN_TP_ID', 'CST_TP_ID', 'PRVT_WLTH_F', 'KBNK_IDY_CL_ID', 'CARD_CGY_ID', 'IS_STFF_F', 'CST_DUAL_SEG_ID', 'CARD_TP', 'RACE_ID', 'RSPL_DEPT_ID', 'COLL_BR_NBR', 'AR_SEG_SZ', 'IS_CLCB_F', 'OCP_ID', 'CC_ST_ID', 'AFF_MBR_ORG_ID', 'CARD_LVL', 'SALUT_EN', 'CST_SEG_ID', 'NPL_F', 'MBL_PH_F', 'NBR_PNP_CARD']\n"
     ]
    }
   ],
   "source": [
    "x, y, col_to_drop_numeric, col_to_drop_cat = feature_selection(train, 'group5')"
   ]
  },
  {
   "cell_type": "code",
   "execution_count": 10,
   "metadata": {
    "collapsed": false
   },
   "outputs": [
    {
     "name": "stdout",
     "output_type": "stream",
     "text": [
      "             precision    recall  f1-score   support\n",
      "\n",
      "          0       0.94      1.00      0.97     32019\n",
      "          1       0.72      0.06      0.11      2101\n",
      "\n",
      "avg / total       0.93      0.94      0.92     34120\n",
      "\n",
      "             precision    recall  f1-score   support\n",
      "\n",
      "          0       0.94      1.00      0.97     32019\n",
      "          1       0.00      0.00      0.00      2101\n",
      "\n",
      "avg / total       0.88      0.94      0.91     34120\n",
      "\n"
     ]
    }
   ],
   "source": [
    "mod, result, (x_train, x_test, y_train, y_test) = train_classifier(x, y)"
   ]
  },
  {
   "cell_type": "code",
   "execution_count": null,
   "metadata": {
    "collapsed": true
   },
   "outputs": [],
   "source": []
  }
 ],
 "metadata": {
  "anaconda-cloud": {},
  "kernelspec": {
   "display_name": "Python [default]",
   "language": "python",
   "name": "python3"
  },
  "language_info": {
   "codemirror_mode": {
    "name": "ipython",
    "version": 3
   },
   "file_extension": ".py",
   "mimetype": "text/x-python",
   "name": "python",
   "nbconvert_exporter": "python",
   "pygments_lexer": "ipython3",
   "version": "3.5.2"
  }
 },
 "nbformat": 4,
 "nbformat_minor": 1
}
