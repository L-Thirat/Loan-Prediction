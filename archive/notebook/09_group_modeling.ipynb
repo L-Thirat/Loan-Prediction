{
 "cells": [
  {
   "cell_type": "code",
   "execution_count": 1,
   "metadata": {
    "collapsed": true
   },
   "outputs": [],
   "source": [
    "# This chunk of code make it possible to use src functions\n",
    "import sys\n",
    "import os\n",
    "module_path = os.path.abspath(os.path.join('../src'))\n",
    "\n",
    "if module_path not in sys.path:\n",
    "    sys.path.append(module_path)\n",
    "import warnings\n",
    "warnings.filterwarnings('ignore')\n",
    "\n",
    "from DSProject import DSProject\n",
    "from preprocess import *\n",
    "\n",
    "dsp = DSProject()"
   ]
  },
  {
   "cell_type": "code",
   "execution_count": 2,
   "metadata": {
    "collapsed": true
   },
   "outputs": [],
   "source": [
    "import pickle\n",
    "with open('../pkl/column_list.pickle', 'rb') as f:\n",
    "    numeric_columns, category_columns = pickle.load(f)"
   ]
  },
  {
   "cell_type": "code",
   "execution_count": 3,
   "metadata": {
    "collapsed": true
   },
   "outputs": [],
   "source": [
    "from DSProject import min_date_train, max_date_train, min_date_test, max_date_test, train_label, test_label\n",
    "\n",
    "df_train = dsp.read_table('train_' + train_label + '_processed', 'feature', index_col=0, dtype={'HASH_AR_ID': str})\n",
    "df_test = dsp.read_table('test_' + test_label + '_processed', 'feature', index_col=0, dtype={'HASH_AR_ID': str})"
   ]
  },
  {
   "cell_type": "code",
   "execution_count": 4,
   "metadata": {
    "collapsed": true
   },
   "outputs": [],
   "source": [
    "train = df_train\n",
    "validate = df_test"
   ]
  },
  {
   "cell_type": "markdown",
   "metadata": {},
   "source": [
    "### Feature Selection"
   ]
  },
  {
   "cell_type": "code",
   "execution_count": 5,
   "metadata": {
    "collapsed": true
   },
   "outputs": [],
   "source": [
    "from sklearn.feature_selection import chi2, f_classif, f_regression\n",
    "import numpy as np\n",
    "\n",
    "def test_feature(x, y, func=f_classif):\n",
    "    f = func(x, y)\n",
    "    f_table = pd.DataFrame(np.array([list(x.columns), f[0], f[1]]).T,\n",
    "                                  columns=['column_name', 'f_value', 'p_value'])\n",
    "    f_table['f_value'] = f_table['f_value'].astype(np.float64)\n",
    "    f_table['p_value'] = f_table['p_value'].astype(np.float64)\n",
    "    col_to_drop = f_table.loc[f_table['p_value'] > 0.001]['column_name'].tolist()\n",
    "    return f_table, col_to_drop\n",
    "\n",
    "def feature_selection(df, label_column, col_to_drop_numeric=None, col_to_drop_cat=None, func_numeric=f_classif, func_cat=chi2):\n",
    "    y = df[label_column]\n",
    "    df_cat = df[category_columns]\n",
    "    df_numeric = df[numeric_columns]\n",
    "    \n",
    "    if not col_to_drop_numeric:\n",
    "        result_table, col_to_drop_numeric = test_feature(df_numeric,y, func_numeric)\n",
    "        dsp.write_table(result_table.sort_values(by='p_value'),'test_feature_numeric_' + train_label, 'meta')\n",
    "        print(col_to_drop_numeric)\n",
    "    df_numeric1 = df_numeric.drop(col_to_drop_numeric, axis=1)\n",
    "    \n",
    "    if not col_to_drop_cat:\n",
    "        result_table, col_to_drop_cat = test_feature(df_cat, y, func_cat)\n",
    "        dsp.write_table(result_table.sort_values(by='p_value'),'test_feature_category_' + train_label, 'meta')\n",
    "        print(col_to_drop_cat)\n",
    "    df_cat1 = df_cat.drop(col_to_drop_cat, axis=1)\n",
    "    \n",
    "    df_cat1_dummy = pd.get_dummies(df_cat1)\n",
    "    x = pd.concat([df_numeric1, df_cat1_dummy], axis=1)\n",
    "    \n",
    "    return x, y, col_to_drop_numeric, col_to_drop_cat"
   ]
  },
  {
   "cell_type": "code",
<<<<<<< HEAD
   "execution_count": 6,
   "metadata": {},
=======
   "execution_count": 8,
   "metadata": {
    "collapsed": false
   },
>>>>>>> few2012few
   "outputs": [
    {
     "name": "stdout",
     "output_type": "stream",
     "text": [
      "['ACR_INT_RTL_AMT', 'OWN_BR']\n",
      "['SALUT_EN', 'CARD_TP', 'AFF_MBR_ORG_ID', 'IDENTN_TP_ID', 'CONSND_KL_F', 'PNP_CARD_ITRV_ID', 'MBL_PH_F', 'AU_ID', 'IP_LCS_TP_ID', 'IS_CLCB_F', 'CC_ST_ID', 'COLL_ID', 'COLL_BR_NBR', 'MAR_ST_TP_ID', 'NPL_F', 'AFF_MBR_TP_ID', 'NAT_ID', 'RACE_ID']\n"
     ]
    }
   ],
   "source": [
    "x, y, col_to_drop_numeric, col_to_drop_cat = feature_selection(train, 'group1')"
   ]
  },
  {
   "cell_type": "code",
   "execution_count": 7,
   "metadata": {
    "collapsed": true
   },
   "outputs": [],
   "source": [
    "x_validate, y_validate, _, _= feature_selection(validate, 'group1', col_to_drop_numeric, col_to_drop_cat)"
   ]
  },
  {
   "cell_type": "markdown",
   "metadata": {},
   "source": [
    "# Model 1: Predict Self-Cure People"
   ]
  },
  {
   "cell_type": "code",
<<<<<<< HEAD
   "execution_count": 8,
   "metadata": {},
=======
   "execution_count": 10,
   "metadata": {
    "collapsed": false
   },
>>>>>>> few2012few
   "outputs": [
    {
     "name": "stderr",
     "output_type": "stream",
     "text": [
      "/anaconda/lib/python3.6/site-packages/sklearn/cross_validation.py:44: DeprecationWarning: This module was deprecated in version 0.18 in favor of the model_selection module into which all the refactored classes and functions are moved. Also note that the interface of the new CV iterators are different from that of this module. This module will be removed in 0.20.\n",
      "  \"This module will be removed in 0.20.\", DeprecationWarning)\n"
     ]
    },
    {
     "name": "stdout",
     "output_type": "stream",
     "text": [
      "             precision    recall  f1-score   support\n",
      "\n",
      "          0       0.59      0.88      0.71     22385\n",
      "          1       0.47      0.14      0.22     16273\n",
      "\n",
      "avg / total       0.54      0.57      0.50     38658\n",
      "\n",
      "             precision    recall  f1-score   support\n",
      "\n",
      "          0       0.74      0.84      0.78     22385\n",
      "          1       0.72      0.59      0.65     16273\n",
      "\n",
      "avg / total       0.73      0.73      0.73     38658\n",
      "\n"
     ]
    }
   ],
   "source": [
    "from sklearn.ensemble import RandomForestClassifier as RFC\n",
    "from sklearn.neighbors import KNeighborsClassifier as KNC\n",
    "from sklearn.linear_model import LogisticRegression as LR\n",
    "from sklearn.cross_validation import train_test_split\n",
    "from sklearn.metrics import classification_report\n",
    "\n",
    "def test_model(model, x_train, x_test, y_train, y_test):\n",
    "    model.fit(x_train, y_train)\n",
    "    yhat = model.predict(x_test)\n",
    "    result = classification_report(y_test, yhat)\n",
    "    print(result)\n",
    "    return model\n",
    "\n",
    "def train_classifier(x, y):\n",
    "    estim = {'LR': LR(solver='sag', C=0.1, random_state=42, n_jobs=-1), \n",
    "             'RFC': RFC(n_estimators=50, n_jobs=-1, oob_score=True, min_samples_leaf=10, random_state=42)}\n",
    "    x_train, x_test, y_train, y_test = train_test_split(x, y, test_size=0.2)\n",
    "\n",
    "    mod = {}\n",
    "    for key, value in estim.items():\n",
    "        mod[key] = test_model(value, x_train, x_test, y_train, y_test)\n",
    "    return mod, (x_train, x_test, y_train, y_test)\n",
    "\n",
    "mod, (x_train, x_test, y_train, y_test) = train_classifier(x, y)"
   ]
  },
  {
   "cell_type": "code",
   "execution_count": 9,
   "metadata": {
    "collapsed": true
   },
   "outputs": [],
   "source": [
    "def validate_model(model, x_validate, y_validate):\n",
    "    yhat = model.predict(x_validate)\n",
    "    result = classification_report(y_validate, yhat)\n",
    "    print(result)\n",
    "    return model"
   ]
  },
  {
   "cell_type": "code",
<<<<<<< HEAD
   "execution_count": 10,
   "metadata": {},
=======
   "execution_count": 12,
   "metadata": {
    "collapsed": false
   },
>>>>>>> few2012few
   "outputs": [
    {
     "name": "stdout",
     "output_type": "stream",
     "text": [
      "             precision    recall  f1-score   support\n",
      "\n",
      "          0       0.70      0.83      0.76     32767\n",
      "          1       0.75      0.59      0.66     27681\n",
      "\n",
      "avg / total       0.72      0.72      0.71     60448\n",
      "\n"
     ]
    },
    {
     "data": {
      "text/plain": [
       "RandomForestClassifier(bootstrap=True, class_weight=None, criterion='gini',\n",
       "            max_depth=None, max_features='auto', max_leaf_nodes=None,\n",
       "            min_impurity_split=1e-07, min_samples_leaf=10,\n",
       "            min_samples_split=2, min_weight_fraction_leaf=0.0,\n",
       "            n_estimators=50, n_jobs=-1, oob_score=True, random_state=42,\n",
       "            verbose=0, warm_start=False)"
      ]
     },
     "execution_count": 10,
     "metadata": {},
     "output_type": "execute_result"
    }
   ],
   "source": [
    "validate_model(mod['RFC'], x_validate, y_validate)"
   ]
  },
  {
   "cell_type": "markdown",
   "metadata": {},
   "source": [
    "### Remove high-chance self-cure population\n",
    "\n",
    "In order to get people with higher chance of being self-cure, we should adjust our classification threshold so that we can set aside people with more than 70% self-cure probability. For this method, we want to focus on getting high precision for label=1. People who we label self-cure should be more very likely to self-cure."
   ]
  },
  {
   "cell_type": "code",
<<<<<<< HEAD
   "execution_count": 11,
   "metadata": {},
=======
   "execution_count": 14,
   "metadata": {
    "collapsed": false
   },
>>>>>>> few2012few
   "outputs": [
    {
     "name": "stdout",
     "output_type": "stream",
     "text": [
      "Group 1 prediction performance after adjusting threshold\n",
      "             precision    recall  f1-score   support\n",
      "\n",
      "          0       0.66      0.96      0.78     22385\n",
      "          1       0.84      0.33      0.47     16273\n",
      "\n",
      "avg / total       0.74      0.69      0.65     38658\n",
      "\n",
      "Self-cure confusion matrix\n",
      "         Predict 0  Predict 1\n",
      "Label 0      21384       1001\n",
      "Label 1      10946       5327\n",
      "Number of people tested\n",
      "38658\n",
      "Number of people predicted to be class 1\n",
      "6328\n",
      "Percent of people removed\n",
      "16.3691861969\n",
      "Percentage of mislabeled people\n",
      "2.58937348026\n",
      "Percent of action-roll people who got mistakenly eliminated in this step:\n",
      "0.170727921776\n"
     ]
    }
   ],
   "source": [
    "from sklearn.metrics import accuracy_score, confusion_matrix\n",
    "\n",
    "def adjusted_threshold_performance(mod, x_test, y_test, df, threshold=0.7):\n",
    "    p = mod.predict_proba(x_test)\n",
    "    y_true = np.array(y_test.tolist(), dtype=int)\n",
    "    y_pred = np.array(p[:,1]>threshold, dtype=int)\n",
    "    result = classification_report(y_true, y_pred)\n",
    "    print('Group 1 prediction performance after adjusting threshold')\n",
    "    print(result)\n",
    "    \n",
    "    # self-cure classification metrics\n",
    "    confm = confusion_matrix(y_true, y_pred)\n",
    "    total_test_pop = y_test.shape[0]\n",
    "    error = confm[0,1]*100/total_test_pop\n",
    "    print(\"Self-cure confusion matrix\")\n",
    "    confusion_table = pd.DataFrame(confm, columns=['Predict 0', 'Predict 1'], index=['Label 0', 'Label 1'])\n",
    "    print(confusion_table)\n",
    "\n",
    "    print(\"Number of people tested\")\n",
    "    print(total_test_pop)\n",
    "    print(\"Number of people predicted to be class 1\")\n",
    "    print(confm[0,1] + confm[1,1])\n",
    "    print(\"Percent of people removed\")\n",
    "    print((confm[0,1]+confm[1,1])*100/total_test_pop)\n",
    "    print(\"Percentage of mislabeled people\")\n",
    "    print(error)\n",
    "    \n",
    "    test = y_test.to_frame()\n",
    "    #test.columns = ['y_true']\n",
    "    #test['y_pred'] = y_pred\n",
    "    true_labels = train['Group'].iloc[test.loc[(y_true==0) & (y_pred==1)].index]\n",
    "    print(\"Percent of action-roll people who got mistakenly eliminated in this step:\")\n",
    "    print(true_labels.value_counts()[5]*100/total_test_pop)\n",
    "\n",
    "adjusted_threshold_performance(mod['RFC'], x_test, y_test, train)"
   ]
  },
  {
   "cell_type": "code",
<<<<<<< HEAD
   "execution_count": 12,
   "metadata": {},
=======
   "execution_count": 15,
   "metadata": {
    "collapsed": false
   },
>>>>>>> few2012few
   "outputs": [
    {
     "name": "stdout",
     "output_type": "stream",
     "text": [
      "Group 1 prediction performance after adjusting threshold\n",
      "             precision    recall  f1-score   support\n",
      "\n",
      "          0       0.61      0.96      0.75     32767\n",
      "          1       0.85      0.27      0.41     27681\n",
      "\n",
      "avg / total       0.72      0.64      0.59     60448\n",
      "\n",
      "Self-cure confusion matrix\n",
      "         Predict 0  Predict 1\n",
      "Label 0      31481       1286\n",
      "Label 1      20250       7431\n",
      "Number of people tested\n",
      "60448\n",
      "Number of people predicted to be class 1\n",
      "8717\n",
      "Percent of people removed\n",
      "14.4206590789\n",
      "Percentage of mislabeled people\n",
      "2.12744838539\n",
      "Percent of action-roll people who got mistakenly eliminated in this step:\n",
      "0.223332451032\n"
     ]
    }
   ],
   "source": [
    "adjusted_threshold_performance(mod['RFC'], x_validate, y_validate, validate)"
   ]
  },
  {
   "cell_type": "markdown",
   "metadata": {},
   "source": [
    "# Stacked Model Group 3"
   ]
  },
  {
   "cell_type": "code",
   "execution_count": 14,
   "metadata": {
    "collapsed": true
   },
   "outputs": [],
   "source": [
    "def adjusted_threshold_prediction(mod, x, y, df, threshold=0.7):\n",
    "    p = mod.predict_proba(x)\n",
    "    df['group1_prediction'] = np.array(p[:,1]>threshold, dtype=int)\n",
    "    nongroup1 = df.loc[df['group1_prediction']==0]\n",
    "    return nongroup1, df\n",
    "\n",
    "nongroup1_train, train = adjusted_threshold_prediction(mod['RFC'], x, y, train)"
   ]
  },
  {
   "cell_type": "code",
<<<<<<< HEAD
   "execution_count": 15,
   "metadata": {
    "collapsed": true
   },
   "outputs": [],
   "source": [
    "nongroup1_validate, validate = adjusted_threshold_prediction(mod['RFC'], x_validate, y_validate, validate)"
   ]
  },
  {
   "cell_type": "code",
   "execution_count": 16,
   "metadata": {},
=======
   "execution_count": 17,
   "metadata": {
    "collapsed": false
   },
>>>>>>> few2012few
   "outputs": [
    {
     "name": "stdout",
     "output_type": "stream",
     "text": [
      "['AR_RSK_GRD', 'BAL_LMT_PCT', 'TAMT_DUE', 'PYMT_PREV_BAL_AV_3MO_PCT', 'CRN_CYC_AMT', 'BAL_AV_LMT_3MO_PCT', 'ACR_INT_AMT', 'AV_LMT_USG_RTO_P6M', 'ACR_INT_RTL_YTD_AMT', 'AR_RSK_PERF_IND', 'ACR_INT_RTL_AMT', 'NON_AUTO_PYMT_AMT', 'AV_PYMT_RTO_P6M', 'OWN_BR']\n",
      "['AR_RSK_SCOR_ID', 'CARD_TP_ID', 'AMT_RNG_ID', 'SALUT_EN', 'NBR_RQS', 'OFFC_ADR_LO_ID', 'CARD_TP', 'AFF_MBR_ORG_ID', 'IDENTN_TP_ID', 'PortFolio', 'CONSND_KL_F', 'PNP_CARD_ITRV_ID', 'CARD_CGY_ID', 'CTC_ADR_LO_ID', 'MBL_PH_F', 'OFFC_ADR_RGON_ID', 'IS_INACT_ST_P8M_F', 'AU_ID', 'ALT_CST_ORG_NBR', 'IP_LCS_TP_ID', 'IDV_PROF_TP_ID', 'CARD_LVL', 'CST_SUB_SEG_ID', 'IS_CLCB_F', 'CC_ST_ID', 'COLL_BR_NBR', 'OCP_GRP_ID', 'PYMT_MTH_ID', 'MAR_ST_TP_ID', 'IS_CARD_VLD_F', 'NPL_F', 'OCP_ID', 'AFF_MBR_TP_ID', 'CR_LMT_AMT_RNG_ID', 'E_MAIL_F', 'CRN_BAL_AMT_RNG_ID', 'IS_STFF_F', 'NBR_PNP_CARD', 'PRVT_WLTH_F', 'CTC_ADR_RGON_ID', 'NAT_ID', 'RACE_ID', 'GND_ID', 'IS_PNP_CARD_F']\n"
     ]
    }
   ],
   "source": [
    "x, y, col_to_drop_numeric, col_to_drop_cat = feature_selection(nongroup1_train, 'group3')\n",
    "x_validate, y_validate, _, _= feature_selection(nongroup1_validate, 'group3', col_to_drop_numeric, col_to_drop_cat)"
   ]
  },
  {
   "cell_type": "code",
<<<<<<< HEAD
   "execution_count": 17,
   "metadata": {},
=======
   "execution_count": 18,
   "metadata": {
    "collapsed": false
   },
>>>>>>> few2012few
   "outputs": [
    {
     "name": "stdout",
     "output_type": "stream",
     "text": [
      "             precision    recall  f1-score   support\n",
      "\n",
      "          0       0.00      0.00      0.00     13792\n",
      "          1       0.57      1.00      0.72     18037\n",
      "\n",
      "avg / total       0.32      0.57      0.41     31829\n",
      "\n",
      "             precision    recall  f1-score   support\n",
      "\n",
      "          0       0.63      0.38      0.48     13792\n",
      "          1       0.64      0.83      0.72     18037\n",
      "\n",
      "avg / total       0.64      0.64      0.62     31829\n",
      "\n"
     ]
    }
   ],
   "source": [
    "mod3, (x_train, x_test, y_train, y_test) = train_classifier(x, y)"
   ]
  },
  {
   "cell_type": "code",
<<<<<<< HEAD
   "execution_count": 18,
   "metadata": {},
=======
   "execution_count": 19,
   "metadata": {
    "collapsed": false
   },
>>>>>>> few2012few
   "outputs": [
    {
     "name": "stdout",
     "output_type": "stream",
     "text": [
      "             precision    recall  f1-score   support\n",
      "\n",
      "          0       0.62      0.35      0.44     26770\n",
      "          1       0.52      0.77      0.62     24961\n",
      "\n",
      "avg / total       0.57      0.55      0.53     51731\n",
      "\n"
     ]
    },
    {
     "data": {
      "text/plain": [
       "RandomForestClassifier(bootstrap=True, class_weight=None, criterion='gini',\n",
       "            max_depth=None, max_features='auto', max_leaf_nodes=None,\n",
       "            min_impurity_split=1e-07, min_samples_leaf=10,\n",
       "            min_samples_split=2, min_weight_fraction_leaf=0.0,\n",
       "            n_estimators=50, n_jobs=-1, oob_score=True, random_state=42,\n",
       "            verbose=0, warm_start=False)"
      ]
     },
     "execution_count": 18,
     "metadata": {},
     "output_type": "execute_result"
    }
   ],
   "source": [
    "validate_model(mod3['RFC'], x_validate, y_validate)"
   ]
  },
  {
   "cell_type": "markdown",
   "metadata": {},
   "source": [
    "# Stacked Model Group 5"
   ]
  },
  {
   "cell_type": "code",
<<<<<<< HEAD
   "execution_count": 19,
   "metadata": {},
=======
   "execution_count": 20,
   "metadata": {
    "collapsed": false
   },
>>>>>>> few2012few
   "outputs": [
    {
     "name": "stdout",
     "output_type": "stream",
     "text": [
      "['AR_RSK_GRD', 'CASH_ADV_FEE_AMT', 'OWN_BR', 'RTL_AMT']\n",
      "['SALUT_EN', 'CARD_TP', 'AFF_MBR_ORG_ID', 'IDENTN_TP_ID', 'CONSND_KL_F', 'MBL_PH_F', 'IS_INACT_ST_P8M_F', 'AU_ID', 'IP_LCS_TP_ID', 'IS_CLCB_F', 'CC_ST_ID', 'COLL_BR_NBR', 'PYMT_MTH_ID', 'NPL_F', 'OCP_ID', 'AFF_MBR_TP_ID', 'E_MAIL_F', 'PRVT_WLTH_F', 'NAT_ID', 'RACE_ID', 'IS_PNP_CARD_F']\n"
     ]
    }
   ],
   "source": [
    "x, y, col_to_drop_numeric, col_to_drop_cat = feature_selection(nongroup1_train, 'group5')\n",
    "x_validate, y_validate, _, _= feature_selection(nongroup1_validate, 'group5', col_to_drop_numeric, col_to_drop_cat)"
   ]
  },
  {
   "cell_type": "code",
<<<<<<< HEAD
   "execution_count": 20,
   "metadata": {},
=======
   "execution_count": 21,
   "metadata": {
    "collapsed": false
   },
>>>>>>> few2012few
   "outputs": [
    {
     "name": "stdout",
     "output_type": "stream",
     "text": [
      "             precision    recall  f1-score   support\n",
      "\n",
      "          0       0.88      1.00      0.93     27921\n",
      "          1       0.00      0.00      0.00      3908\n",
      "\n",
      "avg / total       0.77      0.88      0.82     31829\n",
      "\n",
      "             precision    recall  f1-score   support\n",
      "\n",
      "          0       0.91      0.98      0.95     27921\n",
      "          1       0.70      0.33      0.45      3908\n",
      "\n",
      "avg / total       0.89      0.90      0.88     31829\n",
      "\n"
     ]
    }
   ],
   "source": [
    "mod5, (x_train, x_test, y_train, y_test) = train_classifier(x, y)"
   ]
  },
  {
   "cell_type": "code",
<<<<<<< HEAD
   "execution_count": 21,
   "metadata": {},
=======
   "execution_count": 22,
   "metadata": {
    "collapsed": false
   },
>>>>>>> few2012few
   "outputs": [
    {
     "name": "stdout",
     "output_type": "stream",
     "text": [
      "             precision    recall  f1-score   support\n",
      "\n",
      "          0       0.91      0.98      0.94     45211\n",
      "          1       0.72      0.29      0.41      6520\n",
      "\n",
      "avg / total       0.88      0.90      0.88     51731\n",
      "\n"
     ]
    },
    {
     "data": {
      "text/plain": [
       "RandomForestClassifier(bootstrap=True, class_weight=None, criterion='gini',\n",
       "            max_depth=None, max_features='auto', max_leaf_nodes=None,\n",
       "            min_impurity_split=1e-07, min_samples_leaf=10,\n",
       "            min_samples_split=2, min_weight_fraction_leaf=0.0,\n",
       "            n_estimators=50, n_jobs=-1, oob_score=True, random_state=42,\n",
       "            verbose=0, warm_start=False)"
      ]
     },
     "execution_count": 21,
     "metadata": {},
     "output_type": "execute_result"
    }
   ],
   "source": [
    "validate_model(mod5['RFC'], x_validate, y_validate)"
   ]
  },
  {
   "cell_type": "markdown",
   "metadata": {},
   "source": [
    "# Voting Classifier"
   ]
  },
  {
   "cell_type": "code",
   "execution_count": 22,
   "metadata": {
    "collapsed": true
   },
   "outputs": [],
   "source": [
    "import numpy as np\n",
    "\n",
    "def balanced_subsample(y, label_column, size=None):\n",
    "    # randomly pick the same amount of samples with label 0\n",
    "    #y = df[label_column]\n",
    "    subsample = []\n",
    "\n",
    "    if size is None:\n",
    "        n_smp = y.value_counts().min()\n",
    "    else:\n",
    "        n_smp = int(size / len(y.value_counts().index))\n",
    "\n",
    "    for label in y.value_counts().index:\n",
    "        samples = y[y == label].index.values\n",
    "        index_range = range(samples.shape[0])\n",
    "        indexes = np.random.choice(index_range, size=n_smp, replace=False)\n",
    "        subsample += samples[indexes].tolist()\n",
    "\n",
    "    return subsample"
   ]
  },
  {
   "cell_type": "code",
   "execution_count": 23,
   "metadata": {
    "collapsed": true
   },
   "outputs": [],
   "source": [
    "estimators = {}\n",
    "nvoters = 10\n",
    "sample = balanced_subsample(y_train, 'group5')\n",
    "for i in range(nvoters):\n",
    "    subsample = balanced_subsample(y, '5')\n",
    "    x_sub = x_train.loc[subsample]\n",
    "    y_sub = y_train.loc[subsample]\n",
    "    \n",
    "    model = RFC(n_estimators=50, n_jobs=-1, oob_score=True, min_samples_leaf=10)\n",
    "    model.fit(x_train, y_train)\n",
    "    estimators[i] = model"
   ]
  },
  {
   "cell_type": "code",
   "execution_count": 24,
   "metadata": {
    "collapsed": true
   },
   "outputs": [],
   "source": [
    "def count_votes(x, y, threshold=0.75):\n",
    "    votes = []\n",
    "    for i in range(nvoters):\n",
    "        y_hat = estimators[i].predict(x)\n",
    "        votes.append(list(y_hat))\n",
    "    votes = np.array(votes, dtype=int)\n",
    "    sum_votes = votes.sum(axis=0)/nvoters\n",
    "    total_votes = np.array(sum_votes>threshold, dtype=int)\n",
    "    accuracy_score(total_votes, y)\n",
    "\n",
    "    result = classification_report(total_votes, y)\n",
    "    print(result)"
   ]
  },
  {
   "cell_type": "code",
   "execution_count": 26,
   "metadata": {
    "collapsed": false
   },
   "outputs": [
    {
     "name": "stdout",
     "output_type": "stream",
     "text": [
      "             precision    recall  f1-score   support\n",
      "\n",
      "          0       0.99      0.93      0.96    119102\n",
      "          1       0.49      0.91      0.63      8463\n",
      "\n",
      "avg / total       0.96      0.93      0.94    127565\n",
      "\n",
      "             precision    recall  f1-score   support\n",
      "\n",
      "          0       0.98      0.91      0.94     29999\n",
      "          1       0.33      0.70      0.45      1893\n",
      "\n",
      "avg / total       0.94      0.90      0.91     31892\n",
      "\n",
      "             precision    recall  f1-score   support\n",
      "\n",
      "          0       0.99      0.92      0.95     57874\n",
      "          1       0.28      0.73      0.41      2574\n",
      "\n",
      "avg / total       0.96      0.91      0.93     60448\n",
      "\n"
     ]
    }
   ],
   "source": [
    "threshold = 0.5\n",
    "count_votes(x_train, y_train, threshold)\n",
    "count_votes(x_test, y_test, threshold)\n",
    "count_votes(x_validate, y_validate, threshold)"
   ]
  },
  {
   "cell_type": "markdown",
   "metadata": {},
   "source": [
    "# Feature Importance"
   ]
  },
  {
   "cell_type": "markdown",
   "metadata": {},
   "source": [
    "### Model 1"
   ]
  },
  {
   "cell_type": "code",
   "execution_count": 27,
   "metadata": {
    "collapsed": false
   },
   "outputs": [
    {
     "name": "stdout",
     "output_type": "stream",
     "text": [
      "['ACR_INT_RTL_AMT', 'OWN_BR']\n",
      "['SALUT_EN', 'CARD_TP', 'AFF_MBR_ORG_ID', 'IDENTN_TP_ID', 'CONSND_KL_F', 'PNP_CARD_ITRV_ID', 'MBL_PH_F', 'AU_ID', 'IP_LCS_TP_ID', 'IS_CLCB_F', 'CC_ST_ID', 'COLL_ID', 'COLL_BR_NBR', 'MAR_ST_TP_ID', 'NPL_F', 'AFF_MBR_TP_ID', 'NAT_ID', 'RACE_ID']\n"
     ]
    }
   ],
   "source": [
    "x_group1, _, _, _ = feature_selection(train, 'group1')"
   ]
  },
  {
   "cell_type": "code",
   "execution_count": 28,
   "metadata": {
    "collapsed": true
   },
   "outputs": [],
   "source": [
    "feature_importance = pd.DataFrame(np.array([list(x_group1.columns), list(mod['RFC'].feature_importances_)]).T, \n",
    "             columns=['column_name', 'feature_importance'])\n",
    "feature_importance['feature_importance'] = feature_importance['feature_importance'].astype(float)"
   ]
  },
  {
   "cell_type": "code",
   "execution_count": 29,
   "metadata": {
    "collapsed": false
   },
   "outputs": [
    {
     "data": {
      "text/html": [
       "<div>\n",
       "<style>\n",
       "    .dataframe thead tr:only-child th {\n",
       "        text-align: right;\n",
       "    }\n",
       "\n",
       "    .dataframe thead th {\n",
       "        text-align: left;\n",
       "    }\n",
       "\n",
       "    .dataframe tbody tr th {\n",
       "        vertical-align: top;\n",
       "    }\n",
       "</style>\n",
       "<table border=\"1\" class=\"dataframe\">\n",
       "  <thead>\n",
       "    <tr style=\"text-align: right;\">\n",
       "      <th></th>\n",
       "      <th>column_name</th>\n",
       "      <th>feature_importance</th>\n",
       "    </tr>\n",
       "  </thead>\n",
       "  <tbody>\n",
       "    <tr>\n",
       "      <th>26</th>\n",
       "      <td>CST_WST_RSK_IND</td>\n",
       "      <td>0.037082</td>\n",
       "    </tr>\n",
       "    <tr>\n",
       "      <th>2</th>\n",
       "      <td>AR_RSK_SCOR</td>\n",
       "      <td>0.033502</td>\n",
       "    </tr>\n",
       "    <tr>\n",
       "      <th>41</th>\n",
       "      <td>AR_RSK_PERF_IND</td>\n",
       "      <td>0.029070</td>\n",
       "    </tr>\n",
       "    <tr>\n",
       "      <th>50</th>\n",
       "      <td>Card Type New</td>\n",
       "      <td>0.026036</td>\n",
       "    </tr>\n",
       "    <tr>\n",
       "      <th>124</th>\n",
       "      <td>CR_ASES_ID</td>\n",
       "      <td>0.025283</td>\n",
       "    </tr>\n",
       "    <tr>\n",
       "      <th>121</th>\n",
       "      <td>CST_DUAL_SUB_SEG_ID</td>\n",
       "      <td>0.024934</td>\n",
       "    </tr>\n",
       "    <tr>\n",
       "      <th>48</th>\n",
       "      <td>NBR_DLQ_ST_1_29_P3M</td>\n",
       "      <td>0.022658</td>\n",
       "    </tr>\n",
       "    <tr>\n",
       "      <th>72</th>\n",
       "      <td>CC_TP_ID</td>\n",
       "      <td>0.022449</td>\n",
       "    </tr>\n",
       "    <tr>\n",
       "      <th>39</th>\n",
       "      <td>NBR_DYS_NOT_PY_8DYS_LAST_1MO</td>\n",
       "      <td>0.019924</td>\n",
       "    </tr>\n",
       "    <tr>\n",
       "      <th>44</th>\n",
       "      <td>AV_PYMT_RTO_P6M</td>\n",
       "      <td>0.019740</td>\n",
       "    </tr>\n",
       "    <tr>\n",
       "      <th>91</th>\n",
       "      <td>COLL_RSN_CODE</td>\n",
       "      <td>0.019524</td>\n",
       "    </tr>\n",
       "    <tr>\n",
       "      <th>3</th>\n",
       "      <td>AR_RSK_GRD</td>\n",
       "      <td>0.019256</td>\n",
       "    </tr>\n",
       "    <tr>\n",
       "      <th>49</th>\n",
       "      <td>CR_LMT_AMT</td>\n",
       "      <td>0.018077</td>\n",
       "    </tr>\n",
       "    <tr>\n",
       "      <th>137</th>\n",
       "      <td>MISC_CODE</td>\n",
       "      <td>0.016339</td>\n",
       "    </tr>\n",
       "    <tr>\n",
       "      <th>15</th>\n",
       "      <td>PYMT_PREV_BAL_AV_3MO_PCT</td>\n",
       "      <td>0.015774</td>\n",
       "    </tr>\n",
       "  </tbody>\n",
       "</table>\n",
       "</div>"
      ],
      "text/plain": [
       "                      column_name  feature_importance\n",
       "26                CST_WST_RSK_IND            0.037082\n",
       "2                     AR_RSK_SCOR            0.033502\n",
       "41                AR_RSK_PERF_IND            0.029070\n",
       "50                  Card Type New            0.026036\n",
       "124                    CR_ASES_ID            0.025283\n",
       "121           CST_DUAL_SUB_SEG_ID            0.024934\n",
       "48            NBR_DLQ_ST_1_29_P3M            0.022658\n",
       "72                       CC_TP_ID            0.022449\n",
       "39   NBR_DYS_NOT_PY_8DYS_LAST_1MO            0.019924\n",
       "44                AV_PYMT_RTO_P6M            0.019740\n",
       "91                  COLL_RSN_CODE            0.019524\n",
       "3                      AR_RSK_GRD            0.019256\n",
       "49                     CR_LMT_AMT            0.018077\n",
       "137                     MISC_CODE            0.016339\n",
       "15       PYMT_PREV_BAL_AV_3MO_PCT            0.015774"
      ]
     },
     "execution_count": 29,
     "metadata": {},
     "output_type": "execute_result"
    }
   ],
   "source": [
    "feature_importance.sort_values(by='feature_importance', ascending=False).head(15)"
   ]
  },
  {
   "cell_type": "markdown",
   "metadata": {},
   "source": [
    "### Model 2"
   ]
  },
  {
   "cell_type": "code",
   "execution_count": 30,
   "metadata": {
    "collapsed": false
   },
   "outputs": [
    {
     "name": "stdout",
     "output_type": "stream",
     "text": [
      "['AR_RSK_GRD', 'CASH_ADV_FEE_AMT', 'OWN_BR', 'RTL_AMT']\n",
      "['SALUT_EN', 'CARD_TP', 'AFF_MBR_ORG_ID', 'IDENTN_TP_ID', 'CONSND_KL_F', 'MBL_PH_F', 'IS_INACT_ST_P8M_F', 'AU_ID', 'IP_LCS_TP_ID', 'IS_CLCB_F', 'CC_ST_ID', 'COLL_BR_NBR', 'PYMT_MTH_ID', 'NPL_F', 'OCP_ID', 'AFF_MBR_TP_ID', 'E_MAIL_F', 'PRVT_WLTH_F', 'NAT_ID', 'RACE_ID', 'IS_PNP_CARD_F', 'MISC_CODE']\n"
     ]
    }
   ],
   "source": [
    "x_group5, _, _, _ = feature_selection(nongroup1, 'group5')"
   ]
  },
  {
   "cell_type": "code",
   "execution_count": 31,
   "metadata": {
    "collapsed": true
   },
   "outputs": [],
   "source": [
    "lis = [list(x_group5.columns)]\n",
    "col_names = []\n",
    "for j, es in estimators.items():\n",
    "    col_names.append('feature_importance_' + str(j))\n",
    "    lis.append(es.feature_importances_)\n",
    "\n",
    "feature_importance = pd.DataFrame(np.array(lis).T, columns=['column_name']+col_names)"
   ]
  },
  {
   "cell_type": "code",
   "execution_count": 32,
   "metadata": {
    "collapsed": true
   },
   "outputs": [],
   "source": [
    "feature_importance['feature_importance']=feature_importance[col_names].astype(float).sum(axis=1)\n",
    "feature_importance = feature_importance.drop(col_names, axis=1)"
   ]
  },
  {
   "cell_type": "code",
   "execution_count": 33,
   "metadata": {
    "collapsed": false
   },
   "outputs": [
    {
     "data": {
      "text/html": [
       "<div>\n",
       "<style>\n",
       "    .dataframe thead tr:only-child th {\n",
       "        text-align: right;\n",
       "    }\n",
       "\n",
       "    .dataframe thead th {\n",
       "        text-align: left;\n",
       "    }\n",
       "\n",
       "    .dataframe tbody tr th {\n",
       "        vertical-align: top;\n",
       "    }\n",
       "</style>\n",
       "<table border=\"1\" class=\"dataframe\">\n",
       "  <thead>\n",
       "    <tr style=\"text-align: right;\">\n",
       "      <th></th>\n",
       "      <th>column_name</th>\n",
       "      <th>feature_importance</th>\n",
       "    </tr>\n",
       "  </thead>\n",
       "  <tbody>\n",
       "    <tr>\n",
       "      <th>0</th>\n",
       "      <td>NBR_DLQ_ST_30_59_P3M</td>\n",
       "      <td>0.131106</td>\n",
       "    </tr>\n",
       "    <tr>\n",
       "      <th>1</th>\n",
       "      <td>OSPRINCIPLE</td>\n",
       "      <td>0.084333</td>\n",
       "    </tr>\n",
       "    <tr>\n",
       "      <th>2</th>\n",
       "      <td>AR_RSK_SCOR</td>\n",
       "      <td>0.396574</td>\n",
       "    </tr>\n",
       "    <tr>\n",
       "      <th>3</th>\n",
       "      <td>AV_CASH_ADV_AMT_P6M</td>\n",
       "      <td>0.058600</td>\n",
       "    </tr>\n",
       "    <tr>\n",
       "      <th>4</th>\n",
       "      <td>DLQ_DYS</td>\n",
       "      <td>0.304046</td>\n",
       "    </tr>\n",
       "  </tbody>\n",
       "</table>\n",
       "</div>"
      ],
      "text/plain": [
       "            column_name  feature_importance\n",
       "0  NBR_DLQ_ST_30_59_P3M            0.131106\n",
       "1           OSPRINCIPLE            0.084333\n",
       "2           AR_RSK_SCOR            0.396574\n",
       "3   AV_CASH_ADV_AMT_P6M            0.058600\n",
       "4               DLQ_DYS            0.304046"
      ]
     },
     "execution_count": 33,
     "metadata": {},
     "output_type": "execute_result"
    }
   ],
   "source": [
    "feature_importance.head()"
   ]
  },
  {
   "cell_type": "code",
   "execution_count": 34,
   "metadata": {
    "collapsed": false
   },
   "outputs": [
    {
     "data": {
      "text/html": [
       "<div>\n",
       "<style>\n",
       "    .dataframe thead tr:only-child th {\n",
       "        text-align: right;\n",
       "    }\n",
       "\n",
       "    .dataframe thead th {\n",
       "        text-align: left;\n",
       "    }\n",
       "\n",
       "    .dataframe tbody tr th {\n",
       "        vertical-align: top;\n",
       "    }\n",
       "</style>\n",
       "<table border=\"1\" class=\"dataframe\">\n",
       "  <thead>\n",
       "    <tr style=\"text-align: right;\">\n",
       "      <th></th>\n",
       "      <th>column_name</th>\n",
       "      <th>feature_importance</th>\n",
       "    </tr>\n",
       "  </thead>\n",
       "  <tbody>\n",
       "    <tr>\n",
       "      <th>121</th>\n",
       "      <td>CR_ASES_ID</td>\n",
       "      <td>1.329968</td>\n",
       "    </tr>\n",
       "    <tr>\n",
       "      <th>82</th>\n",
       "      <td>CC_STMT_RET_RSN_ID</td>\n",
       "      <td>0.484503</td>\n",
       "    </tr>\n",
       "    <tr>\n",
       "      <th>2</th>\n",
       "      <td>AR_RSK_SCOR</td>\n",
       "      <td>0.396574</td>\n",
       "    </tr>\n",
       "    <tr>\n",
       "      <th>98</th>\n",
       "      <td>Range_day</td>\n",
       "      <td>0.354883</td>\n",
       "    </tr>\n",
       "    <tr>\n",
       "      <th>4</th>\n",
       "      <td>DLQ_DYS</td>\n",
       "      <td>0.304046</td>\n",
       "    </tr>\n",
       "    <tr>\n",
       "      <th>39</th>\n",
       "      <td>AR_RSK_PERF_IND</td>\n",
       "      <td>0.223848</td>\n",
       "    </tr>\n",
       "    <tr>\n",
       "      <th>6</th>\n",
       "      <td>PAST_DUE_LT30_AMT</td>\n",
       "      <td>0.220020</td>\n",
       "    </tr>\n",
       "    <tr>\n",
       "      <th>34</th>\n",
       "      <td>PAST_DUE_AMT</td>\n",
       "      <td>0.213786</td>\n",
       "    </tr>\n",
       "    <tr>\n",
       "      <th>46</th>\n",
       "      <td>NBR_DLQ_ST_1_29_P3M</td>\n",
       "      <td>0.156894</td>\n",
       "    </tr>\n",
       "    <tr>\n",
       "      <th>60</th>\n",
       "      <td>BLC_CODE_ID</td>\n",
       "      <td>0.154003</td>\n",
       "    </tr>\n",
       "    <tr>\n",
       "      <th>37</th>\n",
       "      <td>NBR_DYS_NOT_PY_8DYS_LAST_1MO</td>\n",
       "      <td>0.146536</td>\n",
       "    </tr>\n",
       "    <tr>\n",
       "      <th>113</th>\n",
       "      <td>DLQ_DAY_ITRV_ID</td>\n",
       "      <td>0.143434</td>\n",
       "    </tr>\n",
       "    <tr>\n",
       "      <th>45</th>\n",
       "      <td>NBR_DYS_NOT_PY_30DYS_LAST_8MO</td>\n",
       "      <td>0.138685</td>\n",
       "    </tr>\n",
       "    <tr>\n",
       "      <th>14</th>\n",
       "      <td>PYMT_PREV_BAL_AV_3MO_PCT</td>\n",
       "      <td>0.132585</td>\n",
       "    </tr>\n",
       "    <tr>\n",
       "      <th>104</th>\n",
       "      <td>KBNK_EMPE_ID</td>\n",
       "      <td>0.132187</td>\n",
       "    </tr>\n",
       "  </tbody>\n",
       "</table>\n",
       "</div>"
      ],
      "text/plain": [
       "                       column_name  feature_importance\n",
       "121                     CR_ASES_ID            1.329968\n",
       "82              CC_STMT_RET_RSN_ID            0.484503\n",
       "2                      AR_RSK_SCOR            0.396574\n",
       "98                       Range_day            0.354883\n",
       "4                          DLQ_DYS            0.304046\n",
       "39                 AR_RSK_PERF_IND            0.223848\n",
       "6                PAST_DUE_LT30_AMT            0.220020\n",
       "34                    PAST_DUE_AMT            0.213786\n",
       "46             NBR_DLQ_ST_1_29_P3M            0.156894\n",
       "60                     BLC_CODE_ID            0.154003\n",
       "37    NBR_DYS_NOT_PY_8DYS_LAST_1MO            0.146536\n",
       "113                DLQ_DAY_ITRV_ID            0.143434\n",
       "45   NBR_DYS_NOT_PY_30DYS_LAST_8MO            0.138685\n",
       "14        PYMT_PREV_BAL_AV_3MO_PCT            0.132585\n",
       "104                   KBNK_EMPE_ID            0.132187"
      ]
     },
     "execution_count": 34,
     "metadata": {},
     "output_type": "execute_result"
    }
   ],
   "source": [
    "feature_importance.sort_values(by='feature_importance', ascending=False).head(15)"
   ]
  },
  {
   "cell_type": "markdown",
   "metadata": {},
   "source": [
    "# Percentage Prediction"
   ]
  },
  {
   "cell_type": "code",
   "execution_count": 37,
   "metadata": {
    "collapsed": false
   },
   "outputs": [
    {
     "name": "stdout",
     "output_type": "stream",
     "text": [
      "['CRN_CYC_AMT']\n",
      "['SALUT_EN', 'AFF_MBR_ORG_ID', 'PHOTO_F', 'MBL_PH_F', 'IP_LCS_TP_ID', 'COLL_ID', 'COLL_BR_NBR', 'MAR_ST_TP_ID', 'AFF_MBR_TP_ID', 'IS_STFF_F', 'NBR_PNP_CARD', 'GND_ID', 'KBNK_IDY_CL_ID']\n"
     ]
    }
   ],
   "source": [
    "x, y, col_to_drop_numeric, col_to_drop_cat = feature_selection(train, 'Percentage', \n",
    "                                                              func_numeric=f_regression, func_cat=f_regression)\n",
    "x_validate, y_validate, _, _= feature_selection(validate, 'Percentage', col_to_drop_numeric, col_to_drop_cat, \n",
    "                                               func_numeric=f_regression, func_cat=f_regression)"
   ]
  },
  {
   "cell_type": "code",
   "execution_count": 44,
   "metadata": {
    "collapsed": false
   },
   "outputs": [
    {
     "name": "stdout",
     "output_type": "stream",
     "text": [
      "Error of prediction : 0.293\n",
      "Error of prediction : 0.297\n"
     ]
    }
   ],
   "source": [
    "from sklearn.ensemble import RandomForestRegressor as RFR\n",
    "from sklearn.neighbors import KNeighborsRegressor as KNR\n",
    "from sklearn.linear_model import LinearRegression as LR\n",
    "from sklearn.cross_validation import train_test_split\n",
    "from sklearn.metrics import mean_squared_error\n",
    "from math import sqrt\n",
    "\n",
    "def test_model(model, x_train, x_test, y_train, y_test):\n",
    "    model.fit(x_train, y_train)\n",
    "    yhat = model.predict(x_test)\n",
    "    result = sqrt(mean_squared_error(y_test, yhat))\n",
    "    print(\"Error of prediction : %2.3f\" % result)\n",
    "    return model\n",
    "\n",
    "def train_regressor(x, y):\n",
    "    estim = {'LR': LR(n_jobs=-1), \n",
    "             'RFR': RFR(n_estimators=50, n_jobs=-1, oob_score=True, min_samples_leaf=10, random_state=42)}\n",
    "    x_train, x_test, y_train, y_test = train_test_split(x, y, test_size=0.2)\n",
    "\n",
    "    mod = {}\n",
    "    for key, value in estim.items():\n",
    "        mod[key] = test_model(value, x_train, x_test, y_train, y_test)\n",
    "    return mod, (x_train, x_test, y_train, y_test)\n",
    "\n",
    "modr1, (x_train, x_test, y_train, y_test) = train_regressor(x, y)"
   ]
  },
  {
   "cell_type": "code",
   "execution_count": 46,
   "metadata": {
    "collapsed": false
   },
   "outputs": [
    {
     "name": "stdout",
     "output_type": "stream",
     "text": [
      "['CRN_CYC_AMT']\n",
      "['CARD_TP_ID', 'SALUT_EN', 'AFF_MBR_ORG_ID', 'PHOTO_F', 'MBL_PH_F', 'IP_LCS_TP_ID', 'COLL_ID', 'COLL_BR_NBR', 'MAR_ST_TP_ID', 'AFF_MBR_TP_ID', 'IS_STFF_F', 'GND_ID', 'KBNK_IDY_CL_ID']\n"
     ]
    }
   ],
   "source": [
    "x, y, col_to_drop_numeric, col_to_drop_cat = feature_selection(nongroup1, 'Percentage',\n",
    "                                                              func_numeric=f_regression, func_cat=f_regression)\n",
    "x_validate, y_validate, _, _= feature_selection(validate, 'Percentage', col_to_drop_numeric, col_to_drop_cat, \n",
    "                                               func_numeric=f_regression, func_cat=f_regression)"
   ]
  },
  {
   "cell_type": "code",
<<<<<<< HEAD
   "execution_count": 47,
   "metadata": {},
=======
   "execution_count": null,
   "metadata": {
    "collapsed": false
   },
>>>>>>> few2012few
   "outputs": [
    {
     "name": "stdout",
     "output_type": "stream",
     "text": [
      "Error of prediction : 0.287\n",
      "Error of prediction : 0.290\n"
     ]
    }
   ],
   "source": [
    "modr2, (x_train, x_test, y_train, y_test) = train_regressor(x, y)"
   ]
  },
  {
   "cell_type": "code",
   "execution_count": null,
   "metadata": {
    "collapsed": true
   },
   "outputs": [],
   "source": []
  }
 ],
 "metadata": {
  "anaconda-cloud": {},
  "kernelspec": {
   "display_name": "Python [default]",
   "language": "python",
   "name": "python3"
  },
  "language_info": {
   "codemirror_mode": {
    "name": "ipython",
    "version": 3
   },
   "file_extension": ".py",
   "mimetype": "text/x-python",
   "name": "python",
   "nbconvert_exporter": "python",
   "pygments_lexer": "ipython3",
   "version": "3.5.2"
  }
 },
 "nbformat": 4,
 "nbformat_minor": 2
}
