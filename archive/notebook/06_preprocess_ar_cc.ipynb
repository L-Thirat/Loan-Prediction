{
 "cells": [
  {
   "cell_type": "code",
   "execution_count": 1,
   "metadata": {
    "collapsed": true
   },
   "outputs": [],
   "source": [
    "# This chunk of code make it possible to use src functions\n",
    "import sys\n",
    "import os\n",
    "module_path = os.path.abspath(os.path.join('../src'))\n",
    "\n",
    "if module_path not in sys.path:\n",
    "    sys.path.append(module_path)\n",
    "import warnings\n",
    "warnings.filterwarnings('ignore')\n",
    "\n",
    "from dsproject import dsproject\n",
    "from preprocess import *\n",
    "\n",
    "dsp = dsproject()"
   ]
  },
  {
   "cell_type": "code",
   "execution_count": 2,
   "metadata": {
    "collapsed": true
   },
   "outputs": [],
   "source": [
    "'''\n",
    "min_date_text = '20170201'\n",
    "max_date_text = '20170501'\n",
    "'''\n",
    "min_date_text = '20160401'\n",
    "max_date_text = '20160701'\n",
    "min_date = datetime.strptime(min_date_text, '%Y%m%d')\n",
    "max_date = datetime.strptime(max_date_text, '%Y%m%d')"
   ]
  },
  {
   "cell_type": "code",
   "execution_count": 3,
   "metadata": {
    "collapsed": true
   },
   "outputs": [],
   "source": [
    "df0 = dsp.read_data('EDW_SOR_CC_AR', nrows=10)"
   ]
  },
  {
   "cell_type": "code",
   "execution_count": 4,
   "metadata": {
    "collapsed": false
   },
   "outputs": [
    {
     "name": "stdout",
     "output_type": "stream",
     "text": [
      "1\n",
      "2\n",
      "found\n",
      "found\n",
      "5\n",
      "6\n",
      "7\n",
      "found\n",
      "found\n",
      "found\n",
      "found\n",
      "12\n",
      "13\n"
     ]
    }
   ],
   "source": [
    "df = pd.DataFrame()\n",
    "j=0\n",
    "for chunk in dsp.read_data('EDW_SOR_CC_AR', usecols=[3], chunksize=1000000):\n",
    "    j=j+1\n",
    "    #chunk.columns = df0.columns\n",
    "    chunk.columns = ['POSN_DT']\n",
    "    chunk['POSN_DT'] = parse_dates(chunk['POSN_DT'], '%Y-%m-%d')\n",
    "    df_train = filter_dates_1(chunk, min_date, max_date, date_column='POSN_DT')\n",
    "    if not df_train.empty:\n",
    "        if df.empty:\n",
    "            df = df_train\n",
    "        else:\n",
    "            df = pd.concat([df, df_train])\n",
    "        print('found')\n",
    "    else:\n",
    "        print(j)"
   ]
  },
  {
   "cell_type": "code",
   "execution_count": 5,
   "metadata": {
    "collapsed": false
   },
   "outputs": [
    {
     "name": "stdout",
     "output_type": "stream",
     "text": [
      "1640920\n",
      "2016-04-30 00:00:00\n",
      "2016-06-30 00:00:00\n"
     ]
    }
   ],
   "source": [
    "print (len(df.index))\n",
    "print (df['POSN_DT'].min())\n",
    "print (df['POSN_DT'].max())"
   ]
  },
  {
   "cell_type": "code",
   "execution_count": 6,
   "metadata": {
    "collapsed": true
   },
   "outputs": [],
   "source": [
    "skip=list(set(range(0, list(chunk.index)[-1]))-set(list(df.index)))"
   ]
  },
  {
   "cell_type": "code",
   "execution_count": 8,
   "metadata": {
    "collapsed": false
   },
   "outputs": [
    {
     "name": "stdout",
     "output_type": "stream",
     "text": [
      "1640921\n"
     ]
    }
   ],
   "source": [
    "prep = dsp.read_data('EDW_SOR_CC_AR', skiprows=skip)\n",
    "# print (list(prep.columns))\n",
    "# print (prep['POSN_DT'].min())\n",
    "# print (prep['POSN_DT'].max())\n",
    "print (len(prep.index))"
   ]
  },
  {
   "cell_type": "code",
   "execution_count": 10,
   "metadata": {
    "collapsed": true
   },
   "outputs": [],
   "source": [
    "dsp.write_table(prep, 'sor_cc_ar_filtered_' + min_date_text + '_' + max_date_text, 'preprocess')"
   ]
  },
  {
   "cell_type": "code",
   "execution_count": null,
   "metadata": {
    "collapsed": true
   },
   "outputs": [],
   "source": []
  }
 ],
 "metadata": {
  "anaconda-cloud": {},
  "kernelspec": {
   "display_name": "Python [default]",
   "language": "python",
   "name": "python3"
  },
  "language_info": {
   "codemirror_mode": {
    "name": "ipython",
    "version": 3
   },
   "file_extension": ".py",
   "mimetype": "text/x-python",
   "name": "python",
   "nbconvert_exporter": "python",
   "pygments_lexer": "ipython3",
   "version": "3.5.2"
  }
 },
 "nbformat": 4,
 "nbformat_minor": 2
}
