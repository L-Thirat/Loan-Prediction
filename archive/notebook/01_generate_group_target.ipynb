{
 "cells": [
  {
   "cell_type": "code",
   "execution_count": 1,
   "metadata": {
    "collapsed": true
   },
   "outputs": [],
   "source": [
    "# This chunk of code make it possible to use src functions\n",
    "import sys\n",
    "import os\n",
    "module_path = os.path.abspath(os.path.join('../src'))\n",
    "\n",
    "if module_path not in sys.path:\n",
    "    sys.path.append(module_path)\n",
    "import warnings\n",
    "warnings.filterwarnings('ignore')\n",
    "\n",
    "from dsproject import dsproject\n",
    "from preprocess import *\n",
    "\n",
    "dsp = dsproject()"
   ]
  },
  {
   "cell_type": "code",
   "execution_count": 2,
   "metadata": {
    "collapsed": true
   },
   "outputs": [],
   "source": [
    "import pandas as pd\n",
    "\n",
    "db_soc = dsp.read_table('DB_SOC', 'preprocess', index_col=0)\n",
    "db_soc = db_soc.loc[db_soc['Group'].isin([1,3,5])]\n",
    "db_soc = db_soc.loc[db_soc['OSAMT'] > 100]"
   ]
  },
  {
   "cell_type": "code",
   "execution_count": 3,
   "metadata": {
    "collapsed": true
   },
   "outputs": [],
   "source": [
    "db_soc['FileDate'] = parse_dates(db_soc['FileDate'], format='%Y%m%d')"
   ]
  },
  {
   "cell_type": "code",
   "execution_count": 4,
   "metadata": {
    "collapsed": true
   },
   "outputs": [],
   "source": [
    "#Generate unique filedate table\n",
    "unique_filedate = db_soc[['BILLCycle', 'FileDate']].drop_duplicates()\n",
    "\n",
    "unique_filedate['Next_FileDate'] = unique_filedate.groupby('BILLCycle')[['BILLCycle','FileDate']].shift(-1)\n",
    "unique_filedate['Previous_FileDate'] = unique_filedate.groupby('BILLCycle')[['BILLCycle','FileDate']].shift(1)\n",
    "db_soc = db_soc.merge(unique_filedate, on=['BILLCycle', 'FileDate'])\n",
    "\n",
    "unique_filedate = db_soc[['HASH_AR_ID', 'FileDate', 'Previous_FileDate', 'Next_FileDate']].drop_duplicates()\n",
    "dsp.write_table(unique_filedate, 'unique_filedate', 'feature')"
   ]
  },
  {
   "cell_type": "code",
   "execution_count": 5,
   "metadata": {
    "collapsed": false
   },
   "outputs": [
    {
     "name": "stdout",
     "output_type": "stream",
     "text": [
      "Merge coverage\n",
      "1.0000621329980006\n"
     ]
    }
   ],
   "source": [
    "# add HASH_IP_ID\n",
    "import numpy as np\n",
    "df_id = dsp.read_data('EDW_LPM_X_AR_X_CIS', usecols=['HASH_IP_ID','HASH_AR_ID'], dtype={'HASH_IP_ID':str,'HASH_AR_ID':np.int64})\n",
    "df = db_soc.merge(df_id, on=['HASH_AR_ID'], how ='inner')\n",
    "print(\"Merge coverage\")\n",
    "print(len(df.index)/len(db_soc.index))"
   ]
  },
  {
   "cell_type": "code",
   "execution_count": 6,
   "metadata": {
    "collapsed": true
   },
   "outputs": [],
   "source": [
    "df = df[['HASH_AR_ID', 'HASH_IP_ID', 'HASH_LPM_CST_ID', 'FileDate', 'Previous_FileDate', 'Next_FileDate', 'Group', 'OSAMT']]"
   ]
  },
  {
   "cell_type": "code",
   "execution_count": 7,
   "metadata": {
    "collapsed": true
   },
   "outputs": [],
   "source": [
    "dsp.write_table(df, 'group_target', 'feature', ds_type=['id', 'id', 'id', 'date', 'date', 'date', 'category', 'numeric'])"
   ]
  },
  {
   "cell_type": "code",
   "execution_count": 8,
   "metadata": {
    "collapsed": false
   },
   "outputs": [
    {
     "data": {
      "text/plain": [
       "1078399"
      ]
     },
     "execution_count": 8,
     "metadata": {},
     "output_type": "execute_result"
    }
   ],
   "source": [
    "len(df.index)"
   ]
  },
  {
   "cell_type": "code",
   "execution_count": null,
   "metadata": {
    "collapsed": true
   },
   "outputs": [],
   "source": []
  }
 ],
 "metadata": {
  "kernelspec": {
   "display_name": "Python [default]",
   "language": "python",
   "name": "python3"
  },
  "language_info": {
   "codemirror_mode": {
    "name": "ipython",
    "version": 3
   },
   "file_extension": ".py",
   "mimetype": "text/x-python",
   "name": "python",
   "nbconvert_exporter": "python",
   "pygments_lexer": "ipython3",
   "version": "3.5.2"
  }
 },
 "nbformat": 4,
 "nbformat_minor": 0
}
