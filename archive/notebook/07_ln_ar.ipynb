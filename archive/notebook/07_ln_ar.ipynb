{
 "cells": [
  {
   "cell_type": "code",
   "execution_count": 1,
   "metadata": {
    "collapsed": true
   },
   "outputs": [],
   "source": [
    "# This chunk of code make it possible to use src functions\n",
    "import sys\n",
    "import os\n",
    "module_path = os.path.abspath(os.path.join('../src'))\n",
    "\n",
    "if module_path not in sys.path:\n",
    "    sys.path.append(module_path)\n",
    "import warnings\n",
    "warnings.filterwarnings('ignore')\n",
    "\n",
    "from dsproject import dsproject\n",
    "from preprocess import *\n",
    "\n",
    "dsp = dsproject()"
   ]
  },
  {
   "cell_type": "code",
   "execution_count": 2,
   "metadata": {
    "collapsed": true
   },
   "outputs": [],
   "source": [
    "from dsproject import min_date_train, max_date_train, min_date_test, max_date_test, train_label, test_label"
   ]
  },
  {
   "cell_type": "code",
   "execution_count": 1,
   "metadata": {
    "collapsed": true
   },
   "outputs": [],
   "source": [
    "min_date_text = '20160801'\n",
    "max_date_text = '20160901'"
   ]
  },
  {
   "cell_type": "code",
   "execution_count": null,
   "metadata": {
    "collapsed": true
   },
   "outputs": [],
   "source": [
    "df = dsp.read_table('sor_ln_ar_filtered_' + min_date_text + '_' + max_date_text, 'preprocess', index_col=0)"
   ]
  },
  {
   "cell_type": "code",
   "execution_count": null,
   "metadata": {
    "collapsed": true
   },
   "outputs": [],
   "source": [
    "df0 = df"
   ]
  },
  {
   "cell_type": "code",
   "execution_count": 17,
   "metadata": {},
   "outputs": [
    {
     "name": "stdout",
     "output_type": "stream",
     "text": [
      "Deleted from missings list = ['CNTL_LMT_F']\n",
      "Number of column deleted = 1\n",
      "Delete single value column list\n",
      "[]\n",
      "Number of column deleted\n",
      "0\n"
     ]
    }
   ],
   "source": [
    "df = delete_missing_columns(df0)\n",
    "df = delete_single_value_columns(df)"
   ]
  },
  {
   "cell_type": "code",
   "execution_count": 18,
   "metadata": {},
   "outputs": [
    {
     "data": {
      "text/html": [
       "<div>\n",
       "<table border=\"1\" class=\"dataframe\">\n",
       "  <thead>\n",
       "    <tr style=\"text-align: right;\">\n",
       "      <th></th>\n",
       "      <th>HASH_IP_ID</th>\n",
       "      <th>HASH_AR_ID</th>\n",
       "      <th>POSN_DT</th>\n",
       "      <th>DLQ_DYS</th>\n",
       "      <th>CTR_AMT</th>\n",
       "      <th>OTSND_BAL_AMT</th>\n",
       "      <th>ACR_INT_AMT</th>\n",
       "      <th>PNP_AMT</th>\n",
       "      <th>EFF_INT_RATE</th>\n",
       "      <th>AUTO_DB_F</th>\n",
       "      <th>PRVN_CLT_AMT</th>\n",
       "      <th>INT_ARS_AMT</th>\n",
       "      <th>CST_LOAN_ST_TP1_ID</th>\n",
       "      <th>CST_LOAN_ST_TP2_ID</th>\n",
       "      <th>CLT_AMT</th>\n",
       "      <th>NPL_F</th>\n",
       "    </tr>\n",
       "  </thead>\n",
       "  <tbody>\n",
       "    <tr>\n",
       "      <th>5</th>\n",
       "      <td>-7051478829698955641</td>\n",
       "      <td>3771768480733365957</td>\n",
       "      <td>2016-08-31</td>\n",
       "      <td>0.0</td>\n",
       "      <td>3344000.0</td>\n",
       "      <td>3086536.73</td>\n",
       "      <td>13398.23</td>\n",
       "      <td>3073138.50</td>\n",
       "      <td>15.00</td>\n",
       "      <td>Y</td>\n",
       "      <td>3086536.73</td>\n",
       "      <td>13398.23</td>\n",
       "      <td>1.0</td>\n",
       "      <td>1.0</td>\n",
       "      <td>3086536.73</td>\n",
       "      <td>N</td>\n",
       "    </tr>\n",
       "    <tr>\n",
       "      <th>7</th>\n",
       "      <td>1684987596721027991</td>\n",
       "      <td>4442653007279327772</td>\n",
       "      <td>2016-07-31</td>\n",
       "      <td>366.0</td>\n",
       "      <td>1500000.0</td>\n",
       "      <td>1237430.16</td>\n",
       "      <td>0.00</td>\n",
       "      <td>1237430.16</td>\n",
       "      <td>26.00</td>\n",
       "      <td>Y</td>\n",
       "      <td>0.00</td>\n",
       "      <td>0.00</td>\n",
       "      <td>0.0</td>\n",
       "      <td>5.0</td>\n",
       "      <td>0.00</td>\n",
       "      <td>Y</td>\n",
       "    </tr>\n",
       "    <tr>\n",
       "      <th>50</th>\n",
       "      <td>840676050197110366</td>\n",
       "      <td>1409159461470913354</td>\n",
       "      <td>2016-07-31</td>\n",
       "      <td>2.0</td>\n",
       "      <td>1400000.0</td>\n",
       "      <td>1260474.94</td>\n",
       "      <td>5830.49</td>\n",
       "      <td>1254644.45</td>\n",
       "      <td>15.00</td>\n",
       "      <td>Y</td>\n",
       "      <td>1260474.94</td>\n",
       "      <td>5830.49</td>\n",
       "      <td>1.0</td>\n",
       "      <td>1.0</td>\n",
       "      <td>1260474.94</td>\n",
       "      <td>N</td>\n",
       "    </tr>\n",
       "    <tr>\n",
       "      <th>71</th>\n",
       "      <td>-5396074436523461861</td>\n",
       "      <td>3223180271671636790</td>\n",
       "      <td>2016-08-31</td>\n",
       "      <td>638.0</td>\n",
       "      <td>1000000.0</td>\n",
       "      <td>944515.31</td>\n",
       "      <td>0.00</td>\n",
       "      <td>944515.31</td>\n",
       "      <td>26.00</td>\n",
       "      <td>Y</td>\n",
       "      <td>0.00</td>\n",
       "      <td>0.00</td>\n",
       "      <td>0.0</td>\n",
       "      <td>5.0</td>\n",
       "      <td>0.00</td>\n",
       "      <td>Y</td>\n",
       "    </tr>\n",
       "    <tr>\n",
       "      <th>82</th>\n",
       "      <td>-6170639285726162801</td>\n",
       "      <td>6773333778657135714</td>\n",
       "      <td>2016-07-31</td>\n",
       "      <td>0.0</td>\n",
       "      <td>205000.0</td>\n",
       "      <td>179029.61</td>\n",
       "      <td>113.66</td>\n",
       "      <td>178915.95</td>\n",
       "      <td>7.75</td>\n",
       "      <td>Y</td>\n",
       "      <td>0.00</td>\n",
       "      <td>113.66</td>\n",
       "      <td>1.0</td>\n",
       "      <td>1.0</td>\n",
       "      <td>0.00</td>\n",
       "      <td>N</td>\n",
       "    </tr>\n",
       "  </tbody>\n",
       "</table>\n",
       "</div>"
      ],
      "text/plain": [
       "             HASH_IP_ID           HASH_AR_ID     POSN_DT  DLQ_DYS    CTR_AMT  \\\n",
       "5  -7051478829698955641  3771768480733365957  2016-08-31      0.0  3344000.0   \n",
       "7   1684987596721027991  4442653007279327772  2016-07-31    366.0  1500000.0   \n",
       "50   840676050197110366  1409159461470913354  2016-07-31      2.0  1400000.0   \n",
       "71 -5396074436523461861  3223180271671636790  2016-08-31    638.0  1000000.0   \n",
       "82 -6170639285726162801  6773333778657135714  2016-07-31      0.0   205000.0   \n",
       "\n",
       "    OTSND_BAL_AMT  ACR_INT_AMT     PNP_AMT  EFF_INT_RATE AUTO_DB_F  \\\n",
       "5      3086536.73     13398.23  3073138.50         15.00         Y   \n",
       "7      1237430.16         0.00  1237430.16         26.00         Y   \n",
       "50     1260474.94      5830.49  1254644.45         15.00         Y   \n",
       "71      944515.31         0.00   944515.31         26.00         Y   \n",
       "82      179029.61       113.66   178915.95          7.75         Y   \n",
       "\n",
       "    PRVN_CLT_AMT  INT_ARS_AMT  CST_LOAN_ST_TP1_ID  CST_LOAN_ST_TP2_ID  \\\n",
       "5     3086536.73     13398.23                 1.0                 1.0   \n",
       "7           0.00         0.00                 0.0                 5.0   \n",
       "50    1260474.94      5830.49                 1.0                 1.0   \n",
       "71          0.00         0.00                 0.0                 5.0   \n",
       "82          0.00       113.66                 1.0                 1.0   \n",
       "\n",
       "       CLT_AMT NPL_F  \n",
       "5   3086536.73     N  \n",
       "7         0.00     Y  \n",
       "50  1260474.94     N  \n",
       "71        0.00     Y  \n",
       "82        0.00     N  "
      ]
     },
     "execution_count": 18,
     "metadata": {},
     "output_type": "execute_result"
    }
   ],
   "source": [
    "df.head()"
   ]
  },
  {
   "cell_type": "code",
   "execution_count": 19,
   "metadata": {
    "collapsed": true
   },
   "outputs": [],
   "source": [
    "target = dsp.read_table('group_payment_target', 'feature', use_schema=True)"
   ]
  },
  {
   "cell_type": "code",
   "execution_count": 21,
   "metadata": {},
   "outputs": [
    {
     "name": "stdout",
     "output_type": "stream",
     "text": [
      "HASH_AR_ID                   object\n",
      "FileDate             datetime64[ns]\n",
      "Previous_FileDate    datetime64[ns]\n",
      "Next_FileDate        datetime64[ns]\n",
      "dtype: object\n",
      "HASH_AR_ID    object\n",
      "POSN_DT       object\n",
      "dtype: object\n",
      "             HASH_AR_ID   FileDate Previous_FileDate Next_FileDate  \\\n",
      "0  -5086591535661867418 2015-10-07               NaT    2015-11-05   \n",
      "1  -5086591535661867418 2015-10-07               NaT    2015-11-05   \n",
      "2  -5086591535661867418 2015-10-07               NaT    2015-11-05   \n",
      "3  -5086591535661867418 2015-11-05        2015-10-07    2015-12-08   \n",
      "4  -5086591535661867418 2015-11-05        2015-10-07    2015-12-08   \n",
      "\n",
      "            HASH_IP_ID    POSN_DT  DLQ_DYS   CTR_AMT  OTSND_BAL_AMT  \\\n",
      "0  6192662816516780923 2016-07-31     59.0  100000.0       93000.42   \n",
      "1  6192662816516780923 2016-08-31     89.0  100000.0       94526.35   \n",
      "2  6192662816516780923 2016-09-30    117.0  100000.0       89833.92   \n",
      "3  6192662816516780923 2016-07-31     59.0  100000.0       93000.42   \n",
      "4  6192662816516780923 2016-08-31     89.0  100000.0       94526.35   \n",
      "\n",
      "   ACR_INT_AMT   PNP_AMT  EFF_INT_RATE AUTO_DB_F  PRVN_CLT_AMT  INT_ARS_AMT  \\\n",
      "0      3166.50  89833.92          20.0         3           0.0      3166.50   \n",
      "1      4692.43  89833.92          20.0         3           0.0      4692.43   \n",
      "2         0.00  89833.92          20.0         3           0.0         0.00   \n",
      "3      3166.50  89833.92          20.0         3           0.0      3166.50   \n",
      "4      4692.43  89833.92          20.0         3           0.0      4692.43   \n",
      "\n",
      "   CST_LOAN_ST_TP1_ID  CST_LOAN_ST_TP2_ID  CLT_AMT NPL_F  \n",
      "0                 0.0                 2.0      0.0     N  \n",
      "1                 0.0                 2.0      0.0     N  \n",
      "2                 0.0                 3.0      0.0     Y  \n",
      "3                 0.0                 2.0      0.0     N  \n",
      "4                 0.0                 2.0      0.0     N  \n"
     ]
    }
   ],
   "source": [
    "df['HASH_AR_ID'] = df['HASH_AR_ID'].astype(str)\n",
    "df['POSN_DT'] = parse_dates(df['POSN_DT'], '%Y-%m-%d')\n",
    "prep = pd.merge(target[['HASH_AR_ID', 'FileDate', 'Previous_FileDate', 'Next_FileDate']], \n",
    "                df, on=['HASH_AR_ID'], how ='inner', suffixes=['','_y'])"
   ]
  },
  {
   "cell_type": "code",
   "execution_count": 24,
   "metadata": {
    "scrolled": true
   },
   "outputs": [
    {
     "name": "stdout",
     "output_type": "stream",
     "text": [
      "              HASH_AR_ID   FileDate Previous_FileDate Next_FileDate  \\\n",
      "30  -5086591535661867418 2016-08-04        2016-07-07    2016-09-06   \n",
      "51   -389919671788712216 2016-08-04        2016-07-07    2016-09-06   \n",
      "56   -389919671788712216 2016-10-06        2016-09-06           NaT   \n",
      "84   8810541145679989509 2016-08-04        2016-07-07    2016-09-06   \n",
      "88   8810541145679989509 2016-09-06        2016-08-04    2016-10-06   \n",
      "\n",
      "             HASH_IP_ID    POSN_DT  DLQ_DYS   CTR_AMT  OTSND_BAL_AMT  \\\n",
      "30  6192662816516780923 2016-07-31     59.0  100000.0       93000.42   \n",
      "51 -1623440567072454905 2016-07-31      0.0  200000.0      183845.75   \n",
      "56 -1623440567072454905 2016-09-30      0.0  200000.0       51723.20   \n",
      "84 -1708046059400153119 2016-07-31     29.0  120000.0       68141.75   \n",
      "88 -1708046059400153119 2016-08-31     59.0  120000.0       69313.60   \n",
      "\n",
      "    ACR_INT_AMT    PNP_AMT  EFF_INT_RATE AUTO_DB_F  PRVN_CLT_AMT  INT_ARS_AMT  \\\n",
      "30      3166.50   89833.92          20.0         3           0.0      3166.50   \n",
      "51         0.00  183845.75          20.0         3           0.0         0.00   \n",
      "56      1903.94   49819.26          20.0         3           0.0      1903.94   \n",
      "84         0.00   68141.75          20.0         3           0.0         0.00   \n",
      "88      1171.85   68141.75          20.0         3           0.0      1171.85   \n",
      "\n",
      "    CST_LOAN_ST_TP1_ID  CST_LOAN_ST_TP2_ID  CLT_AMT NPL_F  \n",
      "30                 0.0                 2.0      0.0     N  \n",
      "51                 1.0                 1.0      0.0     N  \n",
      "56                 1.0                 1.0      0.0     N  \n",
      "84                 1.0                 1.0      0.0     N  \n",
      "88                 0.0                 2.0      0.0     N  \n",
      "Merge coverage\n",
      "0.219480915691\n"
     ]
    }
   ],
   "source": [
    "df = prep.loc[(prep['POSN_DT'] < prep['FileDate']) & (prep['POSN_DT'] >= prep['Previous_FileDate'])]\n",
    "print df.head()\n",
    "print(\"Merge coverage\")\n",
    "print(1.0*len(df.index)/len(target.index))"
   ]
  },
  {
   "cell_type": "code",
   "execution_count": 25,
   "metadata": {
    "collapsed": true
   },
   "outputs": [],
   "source": [
    "### new feature ###\n",
    "df_new = pd.DataFrame({'NBR_LN_AR':df.groupby( ['HASH_IP_ID','FileDate'] )['HASH_AR_ID'].nunique(),\n",
    "                     'TOTAL_LN_AMT':df.groupby( ['HASH_IP_ID','FileDate'] )['OTSND_BAL_AMT'].sum(),\n",
    "                   'TOTAL_DLQ_DYS':df.groupby( ['HASH_IP_ID','FileDate'] )['DLQ_DYS'].sum()}\n",
    "                      ).reset_index()\n",
    "\n",
    "idx = df.groupby(['HASH_IP_ID','FileDate'])['OTSND_BAL_AMT'].transform(max) == df['OTSND_BAL_AMT']\n",
    "df = pd.merge(df[idx],df_new,on=['HASH_IP_ID','FileDate'],how='inner')\n"
   ]
  },
  {
   "cell_type": "code",
   "execution_count": 26,
   "metadata": {
    "collapsed": true
   },
   "outputs": [],
   "source": [
    "# dsp.write_table(df, 'sor_ln_ar_' + min_date_text + '_' + max_date_text, 'feature')"
   ]
  },
  {
   "cell_type": "code",
   "execution_count": null,
   "metadata": {
    "collapsed": true
   },
   "outputs": [],
   "source": [
    "# print(len(df.index))"
   ]
  },
  {
   "cell_type": "code",
   "execution_count": null,
   "metadata": {
    "collapsed": true
   },
   "outputs": [],
   "source": [
    "# dsp.data_directory"
   ]
  },
  {
   "cell_type": "code",
   "execution_count": null,
   "metadata": {
    "collapsed": true
   },
   "outputs": [],
   "source": [
    "df_train, df_test = filter_dates(df, min_date_train, max_date_train, min_date_test, max_date_test)"
   ]
  },
  {
   "cell_type": "code",
   "execution_count": null,
   "metadata": {
    "collapsed": true
   },
   "outputs": [],
   "source": [
    "len(df_train.index)"
   ]
  },
  {
   "cell_type": "code",
   "execution_count": null,
   "metadata": {
    "collapsed": true
   },
   "outputs": [],
   "source": [
    "len(df_test.index)"
   ]
  },
  {
   "cell_type": "code",
   "execution_count": null,
   "metadata": {
    "collapsed": true
   },
   "outputs": [],
   "source": [
    "dsp.write_table(pd.concat([df_train, df_test]), 'sor_ln_ar_' + min_date_text + '_' + max_date_text, 'feature')"
   ]
  }
 ],
 "metadata": {
  "kernelspec": {
   "display_name": "Python 3",
   "language": "python",
   "name": "python3"
  },
  "language_info": {
   "codemirror_mode": {
    "name": "ipython",
    "version": 3
   },
   "file_extension": ".py",
   "mimetype": "text/x-python",
   "name": "python",
   "nbconvert_exporter": "python",
   "pygments_lexer": "ipython3",
   "version": "3.6.1"
  }
 },
 "nbformat": 4,
 "nbformat_minor": 1
}
