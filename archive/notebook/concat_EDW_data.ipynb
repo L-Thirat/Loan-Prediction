{
 "cells": [
  {
   "cell_type": "code",
   "execution_count": 1,
   "metadata": {
    "collapsed": true
   },
   "outputs": [],
   "source": [
    "# This chunk of code make it possible to use src functions\n",
    "import sys\n",
    "import os\n",
    "module_path = os.path.abspath(os.path.join('../src'))\n",
    "\n",
    "if module_path not in sys.path:\n",
    "    sys.path.append(module_path)\n",
    "import warnings\n",
    "warnings.filterwarnings('ignore')\n",
    "\n",
    "from dsproject import dsproject\n",
    "from preprocess import *\n",
    "\n",
    "dsp = dsproject()"
   ]
  },
  {
   "cell_type": "code",
   "execution_count": 2,
   "metadata": {
    "collapsed": true
   },
   "outputs": [],
   "source": [
    "EDW = ['EDW_LPM_X_AR_X_CIS.txt','EDW_SOR_TXN_CC.txt','CST_DIM.txt',\n",
    "       'EDW_SUM_CC_AR_BHVR_SCOR.txt','EDW_SOR_CC_AR.txt','EDW_SOR_LN_AR.txt']"
   ]
  },
  {
   "cell_type": "code",
   "execution_count": 3,
   "metadata": {},
   "outputs": [
    {
     "name": "stdout",
     "output_type": "stream",
     "text": [
      "D:\\kbank_collection_ds\\data\n"
     ]
    }
   ],
   "source": [
    "path_data = os.path.join(os.path.dirname(dsp.class_directory), 'data')\n",
    "print path_data"
   ]
  },
  {
   "cell_type": "code",
   "execution_count": null,
   "metadata": {},
   "outputs": [
    {
     "name": "stdout",
     "output_type": "stream",
     "text": [
      "EDW_LPM_X_AR_X_CIS.txt\n",
      "EDW_SOR_TXN_CC.txt"
     ]
    }
   ],
   "source": [
    "fol1 = '201701_origin'\n",
    "fol2 = '201702_201706_origin'\n",
    "for files in EDW:\n",
    "    print files\n",
    "    if files not in ['EDW_SOR_TXN_CC.txt', 'EDW_SUM_CC_AR_BHVR_SCOR_N.txt', 'EDW_SOR_CC_AR.txt','CST_DIM.txt']:\n",
    "        df_fol1 = pd.read_csv((path_data+'\\\\%s\\\\%s'%(fol1,files)), delimiter=\"|\", encoding = \"ISO-8859-1\")\n",
    "        df_fol2 = pd.read_csv((path_data+'\\\\%s\\\\%s'%(fol2,files)), delimiter=\"|\", encoding = \"ISO-8859-1\")\n",
    "    else:\n",
    "        df_fol1 = pd.read_csv((path_data+'\\\\%s\\\\%s'%(fol1,files)), delimiter=\"|\")\n",
    "        df_fol2 = pd.read_csv((path_data+'\\\\%s\\\\%s'%(fol2,files)), delimiter=\"|\")\n",
    "    df_out = pd.concat([df_fol1,df_fol2])\n",
    "    df_out = df_out.reset_index(drop = True)\n",
    "    file_path = os.path.join(dsp.data_directory, files)\n",
    "    df_out.to_csv(file_path, sep='|')"
   ]
  },
  {
   "cell_type": "code",
   "execution_count": null,
   "metadata": {
    "collapsed": true
   },
   "outputs": [],
   "source": []
  }
 ],
 "metadata": {
  "kernelspec": {
   "display_name": "Python 3",
   "language": "python",
   "name": "python3"
  },
  "language_info": {
   "codemirror_mode": {
    "name": "ipython",
    "version": 3
   },
   "file_extension": ".py",
   "mimetype": "text/x-python",
   "name": "python",
   "nbconvert_exporter": "python",
   "pygments_lexer": "ipython3",
   "version": "3.6.1"
  }
 },
 "nbformat": 4,
 "nbformat_minor": 1
}
