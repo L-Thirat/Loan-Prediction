{
 "cells": [
  {
   "cell_type": "code",
   "execution_count": 1,
   "metadata": {
    "collapsed": true
   },
   "outputs": [],
   "source": [
    "# This chunk of code make it possible to use src functions\n",
    "import sys\n",
    "import os\n",
    "module_path = os.path.abspath(os.path.join('../src'))\n",
    "\n",
    "if module_path not in sys.path:\n",
    "    sys.path.append(module_path)\n",
    "import warnings\n",
    "warnings.filterwarnings('ignore')\n",
    "\n",
    "from DSProject import DSProject\n",
    "from preprocess import *\n",
    "\n",
    "dsp = DSProject()"
   ]
  },
  {
   "cell_type": "code",
   "execution_count": null,
   "metadata": {},
   "outputs": [],
   "source": [
    "# load txn_cc\n",
    "j=0\n",
    "for chunk in pd.read_csv(os.path.join(dsp.data_directory, 'EDW_SOR_TXN_CC.txt'), delimiter='|', header=None, usecols=[0,1,9,13,18], chunksize=1000000):\n",
    "    j = j+1\n",
    "    chunk.columns = ['HASH_IP_ID','HASH_AR_ID','TXN_CODE','TXN_VAL_DT','NET_CASH_FLOW_AMT']\n",
    "    txn_cc = chunk.loc[chunk['TXN_CODE'].isin([19,20])]\n",
    "    dsp.write_table(txn_cc, 'SOR_TXN_CC_filtered_' + str(j), 'preprocess', gen_schema=False)"
   ]
  },
  {
   "cell_type": "code",
   "execution_count": 2,
   "metadata": {
    "collapsed": true
   },
   "outputs": [],
   "source": [
    "chunks = []\n",
    "for i in range(0, 55):\n",
    "    chunk = dsp.read_table('SOR_TXN_CC_filtered_' + str(i), 'preprocess', index_col=0)\n",
    "    chunks.append(chunk)\n",
    "df = pd.concat(chunks)"
   ]
  },
  {
   "cell_type": "code",
   "execution_count": 3,
   "metadata": {
    "collapsed": true
   },
   "outputs": [],
   "source": [
    "df['TXN_VAL_DT'] = parse_dates(df['TXN_VAL_DT'])\n",
    "unique_filedate = dsp.read_table('unique_filedate', 'feature', index_col=0, parse_dates=['FileDate', 'Next_FileDate', 'Previous_FileDate'])\n",
    "df = df.merge(unique_filedate, on=['HASH_AR_ID'])"
   ]
  },
  {
   "cell_type": "code",
   "execution_count": 4,
   "metadata": {
    "collapsed": true
   },
   "outputs": [],
   "source": [
    "df = df.loc[(df['TXN_VAL_DT'] >= df['FileDate']) & (df['TXN_VAL_DT'] < df['Next_FileDate'])]"
   ]
  },
  {
   "cell_type": "code",
   "execution_count": 5,
   "metadata": {
    "collapsed": true
   },
   "outputs": [],
   "source": [
    "payment = df.groupby(['HASH_AR_ID', 'FileDate'])['NET_CASH_FLOW_AMT'].sum().reset_index()\n",
    "payment.columns = ['HASH_AR_ID', 'FileDate', 'Payment']"
   ]
  },
  {
   "cell_type": "code",
   "execution_count": 6,
   "metadata": {
    "collapsed": true
   },
   "outputs": [],
   "source": [
    "payment['HASH_AR_ID'] = payment['HASH_AR_ID'].astype(str)"
   ]
  },
  {
   "cell_type": "code",
   "execution_count": 7,
   "metadata": {
    "collapsed": true
   },
   "outputs": [],
   "source": [
    "dsp.write_table(payment, 'payment', 'feature')"
   ]
  },
  {
   "cell_type": "code",
   "execution_count": 8,
   "metadata": {
    "collapsed": true
   },
   "outputs": [],
   "source": [
    "# generate payment percentage\n",
    "# load group_target and merge\n",
    "\n",
    "group_target = dsp.read_table('group_target', 'feature', index_col=0, use_schema=True)\n",
    "df = pd.merge(group_target, payment, on=['HASH_AR_ID', 'FileDate'], how ='left')"
   ]
  },
  {
   "cell_type": "code",
   "execution_count": 9,
   "metadata": {},
   "outputs": [
    {
     "name": "stdout",
     "output_type": "stream",
     "text": [
      "Merge coverage\n",
      "1.0\n"
     ]
    }
   ],
   "source": [
    "print(\"Merge coverage\")\n",
    "print(len(df.index)/len(group_target.index))"
   ]
  },
  {
   "cell_type": "code",
   "execution_count": 10,
   "metadata": {
    "collapsed": true
   },
   "outputs": [],
   "source": [
    "df['Payment'] = df['Payment'].fillna(0)"
   ]
  },
  {
   "cell_type": "code",
   "execution_count": 11,
   "metadata": {
    "collapsed": true
   },
   "outputs": [],
   "source": [
    "df['Percentage'] = df['Payment']/df['OSAMT']"
   ]
  },
  {
   "cell_type": "code",
   "execution_count": 12,
   "metadata": {
    "collapsed": true
   },
   "outputs": [],
   "source": [
    "df['Percentage'].loc[df['Percentage']>1.0] = 1.0"
   ]
  },
  {
   "cell_type": "code",
   "execution_count": 13,
   "metadata": {
    "collapsed": true
   },
   "outputs": [],
   "source": [
    "df = df[['HASH_AR_ID', 'HASH_IP_ID', 'HASH_LPM_CST_ID', \n",
    "         'FileDate', 'Previous_FileDate', 'Next_FileDate', \n",
    "         'Group', 'OSAMT', 'Payment', 'Percentage']]"
   ]
  },
  {
   "cell_type": "code",
   "execution_count": 14,
   "metadata": {
    "collapsed": true
   },
   "outputs": [],
   "source": [
    "dsp.write_table(df, 'group_payment_target', 'feature', \n",
    "                ds_type=['id', 'id', 'id', 'date', 'date', 'date', \n",
    "                         'category', 'numeric', 'numeric', 'numeric'])"
   ]
  },
  {
   "cell_type": "code",
   "execution_count": 15,
   "metadata": {},
   "outputs": [
    {
     "name": "stdout",
     "output_type": "stream",
     "text": [
      "1078399\n"
     ]
    }
   ],
   "source": [
    "print(len(df.index))"
   ]
  },
  {
   "cell_type": "code",
   "execution_count": null,
   "metadata": {
    "collapsed": true
   },
   "outputs": [],
   "source": []
  }
 ],
 "metadata": {
  "kernelspec": {
   "display_name": "Python 3",
   "language": "python",
   "name": "python3"
  },
  "language_info": {
   "codemirror_mode": {
    "name": "ipython",
    "version": 3
   },
   "file_extension": ".py",
   "mimetype": "text/x-python",
   "name": "python",
   "nbconvert_exporter": "python",
   "pygments_lexer": "ipython3",
   "version": "3.6.1"
  }
 },
 "nbformat": 4,
 "nbformat_minor": 2
}
