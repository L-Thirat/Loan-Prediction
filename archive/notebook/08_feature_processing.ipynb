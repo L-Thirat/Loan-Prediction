{
 "cells": [
  {
   "cell_type": "code",
   "execution_count": 1,
   "metadata": {
    "collapsed": true
   },
   "outputs": [],
   "source": [
    "# This chunk of code make it possible to use src functions\n",
    "import sys\n",
    "import os\n",
    "module_path = os.path.abspath(os.path.join('../src'))\n",
    "\n",
    "if module_path not in sys.path:\n",
    "    sys.path.append(module_path)\n",
    "import warnings\n",
    "warnings.filterwarnings('ignore')\n",
    "\n",
    "from dsproject import dsproject\n",
    "from preprocess import *\n",
    "\n",
    "dsp = dsproject()"
   ]
  },
  {
   "cell_type": "code",
   "execution_count": 2,
   "metadata": {
    "collapsed": true
   },
   "outputs": [],
   "source": [
    "numeric_columns = ['NBR_DLQ_ST_30_59_P3M', 'OSPRINCIPLE', 'AR_RSK_SCOR', 'AR_RSK_GRD', 'AV_CASH_ADV_AMT_P6M',\n",
    "                       'DLQ_DYS', 'OTSND_BAL_AMT', 'PAST_DUE_LT30_AMT', 'BAL_LMT_PCT', 'CST_WST_SCOR', 'LAST_DLQ_MO',\n",
    "                       'NBR_DYS_NOT_PY_3DYS_LAST_1MO', 'CST_BAL_AV_LMT_3MO_PCT', 'TAMT_DUE', 'CASH_ADV_AV_LMT_3MO_PCT',\n",
    "                       'PYMT_PREV_BAL_AV_3MO_PCT', 'CASH_ADV_FEE_AMT', 'CRN_CYC_AMT', 'AR_GOOD_BAD_SCOR',\n",
    "                       'NBR_DYS_NOT_PY_30DYS_LAST_3MO', 'ACR_INT_CASH_ADV_YTD_AMT', 'NBR_PART_PYMT_P6M',\n",
    "                       'BAL_AV_LMT_3MO_PCT', 'AR_AGE_MO', 'ACR_INT_AMT', 'II_AMT', 'CST_WST_RSK_IND', 'LAST_PRCH_DYS',\n",
    "                       'AV_LMT_USG_RTO_P6M', 'ACR_INT_CASH_ADV_AMT', 'NBR_MO_SNC_LAST_PYMT', 'NBR_OLMT_ST_P6M',\n",
    "                       'ACR_INT_RTL_YTD_AMT', 'OSAMT', 'CRN_STMT_BAL', 'PAST_DUE_30_AMT', 'PAST_DUE_AMT',\n",
    "                       'NBR_FULL_PYMT_P6M', 'NBR_OLMT_ST_P3M', 'NBR_DYS_NOT_PY_8DYS_LAST_1MO', 'PREV_STMT_BAL',\n",
    "                       'AR_RSK_PERF_IND', 'CASH_ADV_AMT', 'ACR_INT_RTL_AMT', 'NON_AUTO_PYMT_AMT', 'AV_PYMT_RTO_P6M',\n",
    "                       'OWN_BR', 'INT_BILL_NOT_PAID_AMT', 'NBR_DYS_NOT_PY_30DYS_LAST_8MO', 'RTL_AMT',\n",
    "                       'NBR_DLQ_ST_1_29_P3M', 'CR_LMT_AMT']"
   ]
  },
  {
   "cell_type": "code",
   "execution_count": 3,
   "metadata": {
    "collapsed": true
   },
   "outputs": [],
   "source": [
    "min_max_columns = ['NBR_DLQ_ST_1_29_P3M', 'NBR_OLMT_ST_P6M', 'NBR_DYS_NOT_PY_30DYS_LAST_3MO', 'NBR_PART_PYMT_P6M',\n",
    "                       'NBR_DYS_NOT_PY_30DYS_LAST_8MO', 'NBR_DYS_NOT_PY_3DYS_LAST_1MO', 'NBR_OLMT_ST_P3M',\n",
    "                       'NBR_DYS_NOT_PY_8DYS_LAST_1MO', 'NBR_DLQ_ST_30_59_P3M', 'NBR_FULL_PYMT_P6M', 'AR_GOOD_BAD_SCOR',\n",
    "                       'AR_RSK_GRD', 'AR_RSK_PERF_IND', 'CST_WST_RSK_GRD_IND', 'CST_WST_RSK_IND']"
   ]
  },
  {
   "cell_type": "code",
   "execution_count": 4,
   "metadata": {
    "collapsed": true
   },
   "outputs": [],
   "source": [
    "log1p_columns = ['OSPRINCIPLE', 'PAST_DUE_LT30_AMT', 'AV_CASH_ADV_AMT_P6M', 'DLQ_DYS', 'LAST_DLQ_MO', 'TAMT_DUE',\n",
    "                     'CASH_ADV_FEE_AMT', 'AR_AGE_MO', 'II_AMT', 'LAST_PRCH_DYS', 'NBR_MO_SNC_LAST_PYMT', 'OSAMT',\n",
    "                     'PAST_DUE_30_AMT', 'PAST_DUE_AMT', 'RTL_AMT', 'CR_LMT_AMT']"
   ]
  },
  {
   "cell_type": "code",
   "execution_count": 5,
   "metadata": {
    "collapsed": true
   },
   "outputs": [],
   "source": [
    "category_columns = ['Card Type New', 'PortFolio', 'BILLCycle', 'ProductName', 'Range_day',\n",
    "                        'BOT_IDY_CL_ID', 'ORIG_BR_NBR', 'KBNK_EMPE_ID', 'CTC_ADR_RGON_ID',\n",
    "                        'CC_STMT_RET_RSN_ID', 'SALUT_EN', 'CR_ASES_ID', 'E_MAIL_F',\n",
    "                        'OFFC_ADR_LO_ID', 'CST_TP_ID', 'OCP_ID', 'IDV_PROF_TP_ID',\n",
    "                        'ED_LVL_ID', 'MAR_ST_TP_ID', 'KBNK_STFF_F', 'CST_DUAL_SEG_ID',\n",
    "                        'CTC_ADR_LO_ID', 'IDENTN_TP_ID', 'CST_DUAL_SUB_SEG_ID', 'GND_ID', 'CONSND_KL_F',\n",
    "                        'OFFC_ADR_RGON_ID', 'RACE_ID', 'MBL_PH_F', 'KBNK_IDY_CL_ID',\n",
    "                        'OCP_GRP_ID', 'CST_SEG_ID', 'IP_LCS_TP_ID', 'INCM_RNG_ID', 'CST_SUB_SEG_ID',\n",
    "                        'PRVT_WLTH_F', 'NAT_ID', 'BILL_CYC_ID', 'CARD_LVL', 'AR_RSK_SCOR_ID',\n",
    "                        'AR_GOOD_BAD_CODE', 'CC_TP_ID', 'CRN_DLQ_ST', 'IS_INACT_ST_P8M_F',\n",
    "                        'CST_WRST_DLQ_ST', 'CARD_TP', 'PRJ_ID', 'AFF_MBR_ORG_ID', 'DLQ_DAY_ITRV_ID',\n",
    "                        'AFF_CODE', 'DLQ_ST_ID2', 'PAST_DUE_AMT_RNG_ID', 'DLQ_ST_ID7', 'FSVC_PDA_SEG_ID',\n",
    "                        'DLQ_ST_ID15', 'IS_PNP_CARD_F', 'NBR_RQS', 'DLQ_ST_ID4', 'DLQ_ST_ID18', 'DLQ_ST_ID5',\n",
    "                        'PHOTO_F', 'COLL_RSN_CODE', 'IS_GOOD_PYMT_F', 'DLQ_ST_ID6', 'COLL_BR_NBR',\n",
    "                        'CR_LMT_AMT_RNG_ID', 'LAST_PYMT_ITRV_ID', 'NPL_F', 'DLQ_ST_ID24', 'MISC_CODE',\n",
    "                        'DLQ_ST_ID17', 'IS_CARD_VLD_F', 'CC_ST_ID', 'CST_TP_ID', 'DLQ_ST_ID19', 'MN_PYMT_F',\n",
    "                        'NBR_PNP_CARD', 'CARD_TP', 'AMT_RNG_ID', 'DLQ_ST_ID20', 'ACT_PYMT_ITRV_ID', 'DLQ_ST_ID3',\n",
    "                        'IS_CLCB_F', 'AR_SEG_SZ', 'COLL_ID', 'AU_ID', 'ALT_BLC_CODE_ID', 'DLQ_ST_ID11',\n",
    "                        'DLQ_ST_ID16', 'DLQ_ST_ID10', 'DLQ_ST_ID23', 'DLQ_ST_ID14', 'ALT_CST_ORG_NBR',\n",
    "                        'CRN_BAL_AMT_RNG_ID', 'PNP_CARD_ITRV_ID', 'BILL_CYC_ID', 'PYMT_MTH_ID', 'DLQ_ST_ID',\n",
    "                        'DLQ_ST_ID21', 'DLQ_ST_ID9', 'DLQ_ST_ID1', 'AC_GRP_ID', 'CARD_TP_ID', 'IS_STFF_F',\n",
    "                        'DLQ_ST_ID12', 'CC_TP_ID', 'DLQ_ST_ID13', 'RSPL_DEPT_ID', 'DLQ_ST_ID8', 'DLQ_ST_ID22',\n",
    "                        'BLC_CODE_ID', 'AFF_MBR_TP_ID', 'CARD_CGY_ID']"
   ]
  },
  {
   "cell_type": "code",
   "execution_count": 6,
   "metadata": {
    "collapsed": true
   },
   "outputs": [],
   "source": [
    "min_max_columns = list(set(min_max_columns))\n",
    "log1p_columns = list(set(log1p_columns))\n",
    "category_columns = list(set(category_columns))"
   ]
  },
  {
   "cell_type": "code",
   "execution_count": 7,
   "metadata": {
    "collapsed": true
   },
   "outputs": [],
   "source": [
    "from dsproject import min_date_train, max_date_train, min_date_test, max_date_test, train_label, test_label\n",
    "\n",
    "df_train = dsp.read_table('train_' + train_label, 'feature', index_col=0)"
   ]
  },
  {
   "cell_type": "code",
   "execution_count": 8,
   "metadata": {
    "collapsed": true
   },
   "outputs": [],
   "source": [
    "df_test = dsp.read_table('test_' + test_label, 'feature', index_col=0)"
   ]
  },
  {
   "cell_type": "code",
   "execution_count": 9,
   "metadata": {},
   "outputs": [
    {
     "name": "stdout",
     "output_type": "stream",
     "text": [
      "('ORIG_BR_NBR', 900)\n",
      "('PRJ_ID', 432)\n",
      "('BOT_IDY_CL_ID', 930)\n"
     ]
    }
   ],
   "source": [
    "col_to_drop = []\n",
    "for column in category_columns:\n",
    "    n_unique = len(df_train[column].unique().tolist())\n",
    "    if n_unique>200:\n",
    "        print((column, len(df_train[column].unique().tolist())))\n",
    "        col_to_drop.append(column)\n",
    "df_train = df_train.drop(col_to_drop, axis=1)\n",
    "df_test = df_test.drop(col_to_drop, axis=1)\n",
    "category_columns = list(set(category_columns) - set(col_to_drop))"
   ]
  },
  {
   "cell_type": "code",
   "execution_count": 10,
   "metadata": {},
   "outputs": [],
   "source": [
    "total = len(df_train.index)\n",
    "col_to_drop = []\n",
    "for column in df_train.columns:\n",
    "    if df_train[column].isnull().sum()/total > 0.95:\n",
    "        col_to_drop.append(column)\n",
    "df_train = df_train.drop(col_to_drop, axis=1)\n",
    "df_test = df_test.drop(col_to_drop, axis=1)"
   ]
  },
  {
   "cell_type": "code",
   "execution_count": 11,
   "metadata": {
    "collapsed": true
   },
   "outputs": [],
   "source": [
    "from sklearn import preprocessing\n",
    "from sklearn.preprocessing import StandardScaler\n",
    "import numpy as np\n",
    "\n",
    "def feature_processing(df):\n",
    "    # numeric columns\n",
    "    for column in log1p_columns:\n",
    "        df[column] = np.log(df[column]+1)\n",
    "    for column in min_max_columns:\n",
    "        df[column] = df[column]/df[column].unique().max()\n",
    "    for column in numeric_columns:\n",
    "        df[column] = df[column].fillna(df[column].dropna().mean())\n",
    "    \n",
    "    scaler = StandardScaler().fit(df[numeric_columns])\n",
    "    df[numeric_columns] = scaler.transform(df[numeric_columns])\n",
    "    \n",
    "    # categorical columns\n",
    "    labenc = preprocessing.LabelEncoder()\n",
    "    for column in category_columns:\n",
    "        df[column] = labenc.fit_transform(df[column].tolist())\n",
    "    return df"
   ]
  },
  {
   "cell_type": "code",
   "execution_count": 12,
   "metadata": {},
   "outputs": [
    {
     "data": {
      "text/html": [
       "<div>\n",
       "<style>\n",
       "    .dataframe thead tr:only-child th {\n",
       "        text-align: right;\n",
       "    }\n",
       "\n",
       "    .dataframe thead th {\n",
       "        text-align: left;\n",
       "    }\n",
       "\n",
       "    .dataframe tbody tr th {\n",
       "        vertical-align: top;\n",
       "    }\n",
       "</style>\n",
       "<table border=\"1\" class=\"dataframe\">\n",
       "  <thead>\n",
       "    <tr style=\"text-align: right;\">\n",
       "      <th></th>\n",
       "      <th>HASH_AR_ID</th>\n",
       "      <th>HASH_IP_ID</th>\n",
       "      <th>HASH_LPM_CST_ID</th>\n",
       "      <th>FileDate</th>\n",
       "      <th>Previous_FileDate</th>\n",
       "      <th>Next_FileDate</th>\n",
       "      <th>Group</th>\n",
       "      <th>OSAMT</th>\n",
       "      <th>Payment</th>\n",
       "      <th>Percentage</th>\n",
       "      <th>...</th>\n",
       "      <th>PAST_DUE_60_AMT</th>\n",
       "      <th>PAST_DUE_90_AMT</th>\n",
       "      <th>PAST_DUE_120_AMT</th>\n",
       "      <th>PAST_DUE_150_AMT</th>\n",
       "      <th>PAST_DUE_180_AMT</th>\n",
       "      <th>PAST_DUE_210_AMT</th>\n",
       "      <th>CASH_ADV_FEE_AMT</th>\n",
       "      <th>IS_GOOD_PYMT_F</th>\n",
       "      <th>DLQ_ST_ID</th>\n",
       "      <th>AR_SEG_SZ</th>\n",
       "    </tr>\n",
       "  </thead>\n",
       "  <tbody>\n",
       "    <tr>\n",
       "      <th>0</th>\n",
       "      <td>-5086591535661867418</td>\n",
       "      <td>6192662816516780923</td>\n",
       "      <td>1938015529308416590</td>\n",
       "      <td>2016-05-10</td>\n",
       "      <td>2016-04-07</td>\n",
       "      <td>2016-06-06</td>\n",
       "      <td>3</td>\n",
       "      <td>99182.38</td>\n",
       "      <td>11000.0</td>\n",
       "      <td>0.110907</td>\n",
       "      <td>...</td>\n",
       "      <td>0.0</td>\n",
       "      <td>0.0</td>\n",
       "      <td>0.0</td>\n",
       "      <td>0.0</td>\n",
       "      <td>0.0</td>\n",
       "      <td>0.0</td>\n",
       "      <td>0.0</td>\n",
       "      <td>Y</td>\n",
       "      <td>0</td>\n",
       "      <td>MI</td>\n",
       "    </tr>\n",
       "    <tr>\n",
       "      <th>1</th>\n",
       "      <td>-5086591535661867418</td>\n",
       "      <td>6192662816516780923</td>\n",
       "      <td>1938015529308416590</td>\n",
       "      <td>2016-06-06</td>\n",
       "      <td>2016-05-10</td>\n",
       "      <td>2016-07-07</td>\n",
       "      <td>5</td>\n",
       "      <td>89833.92</td>\n",
       "      <td>0.0</td>\n",
       "      <td>0.000000</td>\n",
       "      <td>...</td>\n",
       "      <td>0.0</td>\n",
       "      <td>0.0</td>\n",
       "      <td>0.0</td>\n",
       "      <td>0.0</td>\n",
       "      <td>0.0</td>\n",
       "      <td>0.0</td>\n",
       "      <td>0.0</td>\n",
       "      <td>N</td>\n",
       "      <td>0</td>\n",
       "      <td>MI</td>\n",
       "    </tr>\n",
       "    <tr>\n",
       "      <th>2</th>\n",
       "      <td>-5086591535661867418</td>\n",
       "      <td>6192662816516780923</td>\n",
       "      <td>1938015529308416590</td>\n",
       "      <td>2016-07-07</td>\n",
       "      <td>2016-06-06</td>\n",
       "      <td>2016-08-04</td>\n",
       "      <td>5</td>\n",
       "      <td>91523.71</td>\n",
       "      <td>0.0</td>\n",
       "      <td>0.000000</td>\n",
       "      <td>...</td>\n",
       "      <td>0.0</td>\n",
       "      <td>0.0</td>\n",
       "      <td>0.0</td>\n",
       "      <td>0.0</td>\n",
       "      <td>0.0</td>\n",
       "      <td>0.0</td>\n",
       "      <td>0.0</td>\n",
       "      <td>N</td>\n",
       "      <td>0</td>\n",
       "      <td>MI</td>\n",
       "    </tr>\n",
       "    <tr>\n",
       "      <th>3</th>\n",
       "      <td>-389919671788712216</td>\n",
       "      <td>-1623440567072454905</td>\n",
       "      <td>1241489026333454768</td>\n",
       "      <td>2016-07-07</td>\n",
       "      <td>2016-06-06</td>\n",
       "      <td>2016-08-04</td>\n",
       "      <td>1</td>\n",
       "      <td>195704.49</td>\n",
       "      <td>84567.0</td>\n",
       "      <td>0.432116</td>\n",
       "      <td>...</td>\n",
       "      <td>0.0</td>\n",
       "      <td>0.0</td>\n",
       "      <td>0.0</td>\n",
       "      <td>0.0</td>\n",
       "      <td>0.0</td>\n",
       "      <td>0.0</td>\n",
       "      <td>0.0</td>\n",
       "      <td>Y</td>\n",
       "      <td>0</td>\n",
       "      <td>MI</td>\n",
       "    </tr>\n",
       "    <tr>\n",
       "      <th>4</th>\n",
       "      <td>8810541145679989509</td>\n",
       "      <td>-1708046059400153119</td>\n",
       "      <td>-3367137367668657800</td>\n",
       "      <td>2016-05-10</td>\n",
       "      <td>2016-04-07</td>\n",
       "      <td>2016-06-06</td>\n",
       "      <td>3</td>\n",
       "      <td>87155.91</td>\n",
       "      <td>10000.0</td>\n",
       "      <td>0.114737</td>\n",
       "      <td>...</td>\n",
       "      <td>0.0</td>\n",
       "      <td>0.0</td>\n",
       "      <td>0.0</td>\n",
       "      <td>0.0</td>\n",
       "      <td>0.0</td>\n",
       "      <td>0.0</td>\n",
       "      <td>0.0</td>\n",
       "      <td>Y</td>\n",
       "      <td>0</td>\n",
       "      <td>MI</td>\n",
       "    </tr>\n",
       "  </tbody>\n",
       "</table>\n",
       "<p>5 rows × 227 columns</p>\n",
       "</div>"
      ],
      "text/plain": [
       "            HASH_AR_ID           HASH_IP_ID      HASH_LPM_CST_ID    FileDate  \\\n",
       "0 -5086591535661867418  6192662816516780923  1938015529308416590  2016-05-10   \n",
       "1 -5086591535661867418  6192662816516780923  1938015529308416590  2016-06-06   \n",
       "2 -5086591535661867418  6192662816516780923  1938015529308416590  2016-07-07   \n",
       "3  -389919671788712216 -1623440567072454905  1241489026333454768  2016-07-07   \n",
       "4  8810541145679989509 -1708046059400153119 -3367137367668657800  2016-05-10   \n",
       "\n",
       "  Previous_FileDate Next_FileDate  Group      OSAMT  Payment  Percentage  \\\n",
       "0        2016-04-07    2016-06-06      3   99182.38  11000.0    0.110907   \n",
       "1        2016-05-10    2016-07-07      5   89833.92      0.0    0.000000   \n",
       "2        2016-06-06    2016-08-04      5   91523.71      0.0    0.000000   \n",
       "3        2016-06-06    2016-08-04      1  195704.49  84567.0    0.432116   \n",
       "4        2016-04-07    2016-06-06      3   87155.91  10000.0    0.114737   \n",
       "\n",
       "     ...     PAST_DUE_60_AMT PAST_DUE_90_AMT  PAST_DUE_120_AMT  \\\n",
       "0    ...                 0.0             0.0               0.0   \n",
       "1    ...                 0.0             0.0               0.0   \n",
       "2    ...                 0.0             0.0               0.0   \n",
       "3    ...                 0.0             0.0               0.0   \n",
       "4    ...                 0.0             0.0               0.0   \n",
       "\n",
       "   PAST_DUE_150_AMT  PAST_DUE_180_AMT PAST_DUE_210_AMT CASH_ADV_FEE_AMT  \\\n",
       "0               0.0               0.0              0.0              0.0   \n",
       "1               0.0               0.0              0.0              0.0   \n",
       "2               0.0               0.0              0.0              0.0   \n",
       "3               0.0               0.0              0.0              0.0   \n",
       "4               0.0               0.0              0.0              0.0   \n",
       "\n",
       "  IS_GOOD_PYMT_F DLQ_ST_ID AR_SEG_SZ  \n",
       "0              Y         0        MI  \n",
       "1              N         0        MI  \n",
       "2              N         0        MI  \n",
       "3              Y         0        MI  \n",
       "4              Y         0        MI  \n",
       "\n",
       "[5 rows x 227 columns]"
      ]
     },
     "execution_count": 12,
     "metadata": {},
     "output_type": "execute_result"
    }
   ],
   "source": [
    "df_train.head()"
   ]
  },
  {
   "cell_type": "code",
   "execution_count": 13,
   "metadata": {},
   "outputs": [],
   "source": [
    "df_train = feature_processing(df_train)"
   ]
  },
  {
   "cell_type": "code",
   "execution_count": 14,
   "metadata": {},
   "outputs": [],
   "source": [
    "df_test = feature_processing(df_test)"
   ]
  },
  {
   "cell_type": "code",
   "execution_count": 15,
   "metadata": {
    "collapsed": true
   },
   "outputs": [],
   "source": [
    "target = dsp.read_table('group_payment_target', 'feature', use_schema=True)"
   ]
  },
  {
   "cell_type": "code",
   "execution_count": 16,
   "metadata": {
    "collapsed": true
   },
   "outputs": [],
   "source": [
    "target['FileDate'] = target['FileDate'].astype(str)\n",
    "df_train['HASH_AR_ID'] = df_train['HASH_AR_ID'].astype(str)\n",
    "df_test['HASH_AR_ID'] = df_test['HASH_AR_ID'].astype(str)"
   ]
  },
  {
   "cell_type": "code",
   "execution_count": 17,
   "metadata": {
    "collapsed": true
   },
   "outputs": [],
   "source": [
    "def create_dataset(df):\n",
    "    \n",
    "    merged = df.merge(target, on=['HASH_AR_ID', 'FileDate'], suffixes=['', '_y'])\n",
    "    merged[['group1', 'group3', 'group5']] = pd.get_dummies(merged['Group'])\n",
    "    return merged\n",
    "\n",
    "train = create_dataset(df_train)\n",
    "validate = create_dataset(df_test)"
   ]
  },
  {
   "cell_type": "code",
   "execution_count": 18,
   "metadata": {
    "collapsed": true
   },
   "outputs": [],
   "source": [
    "dsp.write_table(train, 'train_' + train_label + '_processed', 'feature')\n",
    "dsp.write_table(validate, 'test_' + test_label + '_processed', 'feature')"
   ]
  },
  {
   "cell_type": "code",
   "execution_count": 19,
   "metadata": {
    "collapsed": true
   },
   "outputs": [],
   "source": [
    "import pickle\n",
    "\n",
    "with open('../pkl/column_list.pickle', 'wb') as f:\n",
    "    pickle.dump([numeric_columns, category_columns], f)"
   ]
  },
  {
   "cell_type": "code",
   "execution_count": 20,
   "metadata": {},
   "outputs": [
    {
     "data": {
      "text/plain": [
       "193289"
      ]
     },
     "execution_count": 20,
     "metadata": {},
     "output_type": "execute_result"
    }
   ],
   "source": [
    "len(train.index)"
   ]
  },
  {
   "cell_type": "code",
   "execution_count": 21,
   "metadata": {},
   "outputs": [
    {
     "data": {
      "text/plain": [
       "60448"
      ]
     },
     "execution_count": 21,
     "metadata": {},
     "output_type": "execute_result"
    }
   ],
   "source": [
    "len(validate.index)"
   ]
  },
  {
   "cell_type": "code",
   "execution_count": null,
   "metadata": {
    "collapsed": true
   },
   "outputs": [],
   "source": []
  }
 ],
 "metadata": {
  "kernelspec": {
   "display_name": "Python 3",
   "language": "python",
   "name": "python3"
  },
  "language_info": {
   "codemirror_mode": {
    "name": "ipython",
    "version": 3
   },
   "file_extension": ".py",
   "mimetype": "text/x-python",
   "name": "python",
   "nbconvert_exporter": "python",
   "pygments_lexer": "ipython3",
   "version": "3.6.1"
  }
 },
 "nbformat": 4,
 "nbformat_minor": 2
}
