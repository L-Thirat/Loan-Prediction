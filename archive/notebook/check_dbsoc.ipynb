{
 "cells": [
  {
   "cell_type": "code",
   "execution_count": 8,
   "metadata": {
    "collapsed": true
   },
   "outputs": [],
   "source": [
    "# This chunk of code make it possible to use src functions\n",
    "import sys\n",
    "import os\n",
    "module_path = os.path.abspath(os.path.join('../src'))\n",
    "\n",
    "if module_path not in sys.path:\n",
    "    sys.path.append(module_path)\n",
    "    \n",
    "from DSProject import DSProject\n",
    "from preprocess import *\n",
    "\n",
    "dsp = DSProject()"
   ]
  },
  {
   "cell_type": "code",
   "execution_count": 9,
   "metadata": {},
   "outputs": [
    {
     "name": "stderr",
     "output_type": "stream",
     "text": [
      "/Users/jah/anaconda/lib/python3.6/site-packages/IPython/core/interactiveshell.py:2821: DtypeWarning: Columns (9) have mixed types. Specify dtype option on import or set low_memory=False.\n",
      "  if self.run_code(code, result):\n"
     ]
    }
   ],
   "source": [
    "raw_db_soc = dsp.read_data('DB_SOC')"
   ]
  },
  {
   "cell_type": "code",
   "execution_count": 10,
   "metadata": {},
   "outputs": [
    {
     "data": {
      "text/html": [
       "<div>\n",
       "<style>\n",
       "    .dataframe thead tr:only-child th {\n",
       "        text-align: right;\n",
       "    }\n",
       "\n",
       "    .dataframe thead th {\n",
       "        text-align: left;\n",
       "    }\n",
       "\n",
       "    .dataframe tbody tr th {\n",
       "        vertical-align: top;\n",
       "    }\n",
       "</style>\n",
       "<table border=\"1\" class=\"dataframe\">\n",
       "  <thead>\n",
       "    <tr style=\"text-align: right;\">\n",
       "      <th></th>\n",
       "      <th>Month</th>\n",
       "      <th>FileDate</th>\n",
       "      <th>PortFolio</th>\n",
       "      <th>ProductName</th>\n",
       "      <th>OSPRINCIPLE</th>\n",
       "      <th>OSAMT</th>\n",
       "      <th>BILLCycle</th>\n",
       "      <th>Group</th>\n",
       "      <th>Range_day</th>\n",
       "      <th>Card Type New</th>\n",
       "      <th>New_Handle</th>\n",
       "      <th>HASH_LPM_CST_ID</th>\n",
       "      <th>HASH_AR_ID</th>\n",
       "    </tr>\n",
       "  </thead>\n",
       "  <tbody>\n",
       "    <tr>\n",
       "      <th>0</th>\n",
       "      <td>201510</td>\n",
       "      <td>20151007</td>\n",
       "      <td>2</td>\n",
       "      <td>Card</td>\n",
       "      <td>0.03</td>\n",
       "      <td>0.03</td>\n",
       "      <td>17</td>\n",
       "      <td>1. Selfcured</td>\n",
       "      <td>2) 1-30</td>\n",
       "      <td>CLASSIC</td>\n",
       "      <td>INH</td>\n",
       "      <td>-8592574521115328978</td>\n",
       "      <td>2992378591959938108</td>\n",
       "    </tr>\n",
       "    <tr>\n",
       "      <th>1</th>\n",
       "      <td>201510</td>\n",
       "      <td>20151007</td>\n",
       "      <td>2</td>\n",
       "      <td>Card</td>\n",
       "      <td>99129.22</td>\n",
       "      <td>100804.75</td>\n",
       "      <td>17</td>\n",
       "      <td>3. Action - Save</td>\n",
       "      <td>2) 1-30</td>\n",
       "      <td>CLASSIC</td>\n",
       "      <td>INH</td>\n",
       "      <td>1938015529308416590</td>\n",
       "      <td>-5086591535661867418</td>\n",
       "    </tr>\n",
       "    <tr>\n",
       "      <th>2</th>\n",
       "      <td>201510</td>\n",
       "      <td>20151007</td>\n",
       "      <td>2</td>\n",
       "      <td>Card</td>\n",
       "      <td>146593.17</td>\n",
       "      <td>146593.17</td>\n",
       "      <td>17</td>\n",
       "      <td>1. Selfcured</td>\n",
       "      <td>2) 1-30</td>\n",
       "      <td>CLASSIC</td>\n",
       "      <td>INH</td>\n",
       "      <td>1241489026333454768</td>\n",
       "      <td>-389919671788712216</td>\n",
       "    </tr>\n",
       "    <tr>\n",
       "      <th>3</th>\n",
       "      <td>201510</td>\n",
       "      <td>20151007</td>\n",
       "      <td>2</td>\n",
       "      <td>Card</td>\n",
       "      <td>67656.51</td>\n",
       "      <td>67656.51</td>\n",
       "      <td>17</td>\n",
       "      <td>3. Action - Save</td>\n",
       "      <td>2) 1-30</td>\n",
       "      <td>CLASSIC</td>\n",
       "      <td>INH</td>\n",
       "      <td>-3367137367668657800</td>\n",
       "      <td>8810541145679989509</td>\n",
       "    </tr>\n",
       "    <tr>\n",
       "      <th>4</th>\n",
       "      <td>201510</td>\n",
       "      <td>20151007</td>\n",
       "      <td>2</td>\n",
       "      <td>Card</td>\n",
       "      <td>49970.00</td>\n",
       "      <td>49970.00</td>\n",
       "      <td>17</td>\n",
       "      <td>3. Action - Save</td>\n",
       "      <td>2) 1-30</td>\n",
       "      <td>CLASSIC</td>\n",
       "      <td>INH</td>\n",
       "      <td>-7320427568045644183</td>\n",
       "      <td>408072121760122008</td>\n",
       "    </tr>\n",
       "  </tbody>\n",
       "</table>\n",
       "</div>"
      ],
      "text/plain": [
       "    Month  FileDate  PortFolio ProductName  OSPRINCIPLE      OSAMT  BILLCycle  \\\n",
       "0  201510  20151007          2        Card         0.03       0.03         17   \n",
       "1  201510  20151007          2        Card     99129.22  100804.75         17   \n",
       "2  201510  20151007          2        Card    146593.17  146593.17         17   \n",
       "3  201510  20151007          2        Card     67656.51   67656.51         17   \n",
       "4  201510  20151007          2        Card     49970.00   49970.00         17   \n",
       "\n",
       "              Group Range_day Card Type New New_Handle      HASH_LPM_CST_ID  \\\n",
       "0      1. Selfcured   2) 1-30       CLASSIC        INH -8592574521115328978   \n",
       "1  3. Action - Save   2) 1-30       CLASSIC        INH  1938015529308416590   \n",
       "2      1. Selfcured   2) 1-30       CLASSIC        INH  1241489026333454768   \n",
       "3  3. Action - Save   2) 1-30       CLASSIC        INH -3367137367668657800   \n",
       "4  3. Action - Save   2) 1-30       CLASSIC        INH -7320427568045644183   \n",
       "\n",
       "            HASH_AR_ID  \n",
       "0  2992378591959938108  \n",
       "1 -5086591535661867418  \n",
       "2  -389919671788712216  \n",
       "3  8810541145679989509  \n",
       "4   408072121760122008  "
      ]
     },
     "execution_count": 10,
     "metadata": {},
     "output_type": "execute_result"
    }
   ],
   "source": [
    "raw_db_soc.head()"
   ]
  },
  {
   "cell_type": "code",
   "execution_count": 11,
   "metadata": {},
   "outputs": [
    {
     "name": "stderr",
     "output_type": "stream",
     "text": [
      "/Users/jah/anaconda/lib/python3.6/site-packages/IPython/core/interactiveshell.py:2821: DtypeWarning: Columns (10) have mixed types. Specify dtype option on import or set low_memory=False.\n",
      "  if self.run_code(code, result):\n",
      "/Users/jah/anaconda/lib/python3.6/site-packages/numpy/lib/arraysetops.py:395: FutureWarning: elementwise comparison failed; returning scalar instead, but in the future will perform elementwise comparison\n",
      "  mask |= (ar1 == a)\n"
     ]
    }
   ],
   "source": [
    "db_soc = dsp.read_table('DB_SOC', 'preprocess', index_col=0, dtype={'HASH_IP_ID':str,'HASH_AR_ID':str} )"
   ]
  },
  {
   "cell_type": "markdown",
   "metadata": {},
   "source": [
    "# Group and Range_Day Statistics"
   ]
  },
  {
   "cell_type": "code",
   "execution_count": 19,
   "metadata": {},
   "outputs": [],
   "source": [
    "group_count = db_soc['Group'].value_counts().to_frame().reset_index()\n",
    "group_count.columns = ['group_label', 'count']\n",
    "group_count['percentage'] = group_count['count']/group_count['count'].sum()"
   ]
  },
  {
   "cell_type": "code",
   "execution_count": 20,
   "metadata": {},
   "outputs": [
    {
     "data": {
      "text/html": [
       "<div>\n",
       "<style>\n",
       "    .dataframe thead tr:only-child th {\n",
       "        text-align: right;\n",
       "    }\n",
       "\n",
       "    .dataframe thead th {\n",
       "        text-align: left;\n",
       "    }\n",
       "\n",
       "    .dataframe tbody tr th {\n",
       "        vertical-align: top;\n",
       "    }\n",
       "</style>\n",
       "<table border=\"1\" class=\"dataframe\">\n",
       "  <thead>\n",
       "    <tr style=\"text-align: right;\">\n",
       "      <th></th>\n",
       "      <th>group_label</th>\n",
       "      <th>count</th>\n",
       "      <th>percentage</th>\n",
       "    </tr>\n",
       "  </thead>\n",
       "  <tbody>\n",
       "    <tr>\n",
       "      <th>0</th>\n",
       "      <td>3</td>\n",
       "      <td>559098</td>\n",
       "      <td>0.462300</td>\n",
       "    </tr>\n",
       "    <tr>\n",
       "      <th>1</th>\n",
       "      <td>1</td>\n",
       "      <td>513932</td>\n",
       "      <td>0.424954</td>\n",
       "    </tr>\n",
       "    <tr>\n",
       "      <th>2</th>\n",
       "      <td>5</td>\n",
       "      <td>118606</td>\n",
       "      <td>0.098071</td>\n",
       "    </tr>\n",
       "    <tr>\n",
       "      <th>3</th>\n",
       "      <td>4</td>\n",
       "      <td>12676</td>\n",
       "      <td>0.010481</td>\n",
       "    </tr>\n",
       "    <tr>\n",
       "      <th>4</th>\n",
       "      <td>2</td>\n",
       "      <td>5071</td>\n",
       "      <td>0.004193</td>\n",
       "    </tr>\n",
       "  </tbody>\n",
       "</table>\n",
       "</div>"
      ],
      "text/plain": [
       "   group_label   count  percentage\n",
       "0            3  559098    0.462300\n",
       "1            1  513932    0.424954\n",
       "2            5  118606    0.098071\n",
       "3            4   12676    0.010481\n",
       "4            2    5071    0.004193"
      ]
     },
     "execution_count": 20,
     "metadata": {},
     "output_type": "execute_result"
    }
   ],
   "source": [
    "group_count"
   ]
  },
  {
   "cell_type": "code",
   "execution_count": 21,
   "metadata": {},
   "outputs": [],
   "source": [
    "rd_count = db_soc['Range_day'].value_counts().to_frame().reset_index()\n",
    "rd_count.columns = ['range_day_label', 'count']\n",
    "rd_count['percentage'] = rd_count['count']/rd_count['count'].sum()"
   ]
  },
  {
   "cell_type": "code",
   "execution_count": 22,
   "metadata": {},
   "outputs": [
    {
     "data": {
      "text/html": [
       "<div>\n",
       "<style>\n",
       "    .dataframe thead tr:only-child th {\n",
       "        text-align: right;\n",
       "    }\n",
       "\n",
       "    .dataframe thead th {\n",
       "        text-align: left;\n",
       "    }\n",
       "\n",
       "    .dataframe tbody tr th {\n",
       "        vertical-align: top;\n",
       "    }\n",
       "</style>\n",
       "<table border=\"1\" class=\"dataframe\">\n",
       "  <thead>\n",
       "    <tr style=\"text-align: right;\">\n",
       "      <th></th>\n",
       "      <th>range_day_label</th>\n",
       "      <th>count</th>\n",
       "      <th>percentage</th>\n",
       "    </tr>\n",
       "  </thead>\n",
       "  <tbody>\n",
       "    <tr>\n",
       "      <th>0</th>\n",
       "      <td>1</td>\n",
       "      <td>1077876</td>\n",
       "      <td>0.891261</td>\n",
       "    </tr>\n",
       "    <tr>\n",
       "      <th>1</th>\n",
       "      <td>2</td>\n",
       "      <td>85888</td>\n",
       "      <td>0.071018</td>\n",
       "    </tr>\n",
       "    <tr>\n",
       "      <th>2</th>\n",
       "      <td>3</td>\n",
       "      <td>45619</td>\n",
       "      <td>0.037721</td>\n",
       "    </tr>\n",
       "  </tbody>\n",
       "</table>\n",
       "</div>"
      ],
      "text/plain": [
       "   range_day_label    count  percentage\n",
       "0                1  1077876    0.891261\n",
       "1                2    85888    0.071018\n",
       "2                3    45619    0.037721"
      ]
     },
     "execution_count": 22,
     "metadata": {},
     "output_type": "execute_result"
    }
   ],
   "source": [
    "rd_count"
   ]
  },
  {
   "cell_type": "code",
   "execution_count": null,
   "metadata": {
    "collapsed": true
   },
   "outputs": [],
   "source": []
  }
 ],
 "metadata": {
  "kernelspec": {
   "display_name": "Python 3",
   "language": "python",
   "name": "python3"
  },
  "language_info": {
   "codemirror_mode": {
    "name": "ipython",
    "version": 3
   },
   "file_extension": ".py",
   "mimetype": "text/x-python",
   "name": "python",
   "nbconvert_exporter": "python",
   "pygments_lexer": "ipython3",
   "version": "3.6.1"
  }
 },
 "nbformat": 4,
 "nbformat_minor": 2
}
