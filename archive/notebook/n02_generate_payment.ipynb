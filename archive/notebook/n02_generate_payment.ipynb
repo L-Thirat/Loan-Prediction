{
 "cells": [
  {
   "cell_type": "code",
   "execution_count": 1,
   "metadata": {
    "collapsed": true
   },
   "outputs": [],
   "source": [
    "# This chunk of code make it possible to use src functions\n",
    "import sys\n",
    "import os\n",
    "module_path = os.path.abspath(os.path.join('../src'))\n",
    "\n",
    "if module_path not in sys.path:\n",
    "    sys.path.append(module_path)\n",
    "import warnings\n",
    "warnings.filterwarnings('ignore')\n",
    "\n",
    "from DSProject import DSProject\n",
    "from preprocess import *\n",
    "\n",
    "dsp = DSProject()"
   ]
  },
  {
   "cell_type": "code",
   "execution_count": 2,
   "metadata": {
    "collapsed": true
   },
   "outputs": [],
   "source": [
    "db_soc = dsp.read_data('DB_SOC')"
   ]
  },
  {
   "cell_type": "code",
   "execution_count": 3,
   "metadata": {
    "collapsed": true
   },
   "outputs": [],
   "source": [
    "chunks = []\n",
    "for i in range(0, 55):\n",
    "    chunk = dsp.read_table('SOR_TXN_CC_filtered_' + str(i), 'preprocess', index_col=0)\n",
    "    chunks.append(chunk)\n",
    "df = pd.concat(chunks)"
   ]
  },
  {
   "cell_type": "code",
   "execution_count": 4,
   "metadata": {},
   "outputs": [
    {
     "data": {
      "text/html": [
       "<div>\n",
       "<style>\n",
       "    .dataframe thead tr:only-child th {\n",
       "        text-align: right;\n",
       "    }\n",
       "\n",
       "    .dataframe thead th {\n",
       "        text-align: left;\n",
       "    }\n",
       "\n",
       "    .dataframe tbody tr th {\n",
       "        vertical-align: top;\n",
       "    }\n",
       "</style>\n",
       "<table border=\"1\" class=\"dataframe\">\n",
       "  <thead>\n",
       "    <tr style=\"text-align: right;\">\n",
       "      <th></th>\n",
       "      <th>HASH_IP_ID</th>\n",
       "      <th>HASH_AR_ID</th>\n",
       "      <th>TXN_CODE</th>\n",
       "      <th>TXN_VAL_DT</th>\n",
       "      <th>NET_CASH_FLOW_AMT</th>\n",
       "    </tr>\n",
       "  </thead>\n",
       "  <tbody>\n",
       "    <tr>\n",
       "      <th>2</th>\n",
       "      <td>8.193164e+18</td>\n",
       "      <td>5251357515355065947</td>\n",
       "      <td>20.0</td>\n",
       "      <td>2015-02-20</td>\n",
       "      <td>50226.72</td>\n",
       "    </tr>\n",
       "    <tr>\n",
       "      <th>3</th>\n",
       "      <td>8.400234e+18</td>\n",
       "      <td>6609937234984855640</td>\n",
       "      <td>20.0</td>\n",
       "      <td>2015-02-12</td>\n",
       "      <td>15300.00</td>\n",
       "    </tr>\n",
       "    <tr>\n",
       "      <th>4</th>\n",
       "      <td>9.003813e+18</td>\n",
       "      <td>4781614506735449952</td>\n",
       "      <td>20.0</td>\n",
       "      <td>2015-02-16</td>\n",
       "      <td>5000.00</td>\n",
       "    </tr>\n",
       "    <tr>\n",
       "      <th>12</th>\n",
       "      <td>-3.745464e+18</td>\n",
       "      <td>-1966564067668799184</td>\n",
       "      <td>20.0</td>\n",
       "      <td>2015-02-02</td>\n",
       "      <td>977.00</td>\n",
       "    </tr>\n",
       "    <tr>\n",
       "      <th>20</th>\n",
       "      <td>5.000254e+18</td>\n",
       "      <td>6127627837799209610</td>\n",
       "      <td>20.0</td>\n",
       "      <td>2015-02-20</td>\n",
       "      <td>2000.00</td>\n",
       "    </tr>\n",
       "  </tbody>\n",
       "</table>\n",
       "</div>"
      ],
      "text/plain": [
       "      HASH_IP_ID           HASH_AR_ID  TXN_CODE  TXN_VAL_DT  NET_CASH_FLOW_AMT\n",
       "2   8.193164e+18  5251357515355065947      20.0  2015-02-20           50226.72\n",
       "3   8.400234e+18  6609937234984855640      20.0  2015-02-12           15300.00\n",
       "4   9.003813e+18  4781614506735449952      20.0  2015-02-16            5000.00\n",
       "12 -3.745464e+18 -1966564067668799184      20.0  2015-02-02             977.00\n",
       "20  5.000254e+18  6127627837799209610      20.0  2015-02-20            2000.00"
      ]
     },
     "execution_count": 4,
     "metadata": {},
     "output_type": "execute_result"
    }
   ],
   "source": [
    "df.head()"
   ]
  },
  {
   "cell_type": "code",
   "execution_count": 5,
   "metadata": {},
   "outputs": [
    {
     "name": "stdout",
     "output_type": "stream",
     "text": [
      "Max-Min TXN_VAL_DT\n",
      "2016-12-31 00:00:00\n",
      "2015-02-01 00:00:00\n"
     ]
    }
   ],
   "source": [
    "# find the best filedate for each payment\n",
    "df['TXN_VAL_DT'] = parse_dates(df['TXN_VAL_DT'])\n",
    "print(\"Max-Min TXN_VAL_DT\")\n",
    "print(df['TXN_VAL_DT'].max())\n",
    "print(df['TXN_VAL_DT'].min())"
   ]
  },
  {
   "cell_type": "code",
   "execution_count": 6,
   "metadata": {},
   "outputs": [
    {
     "name": "stdout",
     "output_type": "stream",
     "text": [
      "Max-Min FileDate after merging\n",
      "2016-05-04 00:00:00\n",
      "2016-09-29 00:00:00\n"
     ]
    }
   ],
   "source": [
    "unique_filedate = dsp.read_table('unique_filedate', 'feature', index_col=0, parse_dates=['FileDate', 'Next_FileDate', 'Previous_FileDate'])\n",
    "df = df.merge(unique_filedate, on=['HASH_AR_ID'])\n",
    "df0 = df.copy()\n",
    "df = df.loc[((df['TXN_VAL_DT'] >= df['FileDate']) & (df['TXN_VAL_DT'] < df['Next_FileDate'])) | ((df['TXN_VAL_DT'] >= df['FileDate']) & (df['Next_FileDate'].isnull())) ]\n",
    "\n",
    "print(\"Max-Min FileDate after merging\")\n",
    "print(df['FileDate'].min())\n",
    "print(df['FileDate'].max())"
   ]
  },
  {
   "cell_type": "code",
   "execution_count": 7,
   "metadata": {},
   "outputs": [
    {
     "data": {
      "text/html": [
       "<div>\n",
       "<style>\n",
       "    .dataframe thead tr:only-child th {\n",
       "        text-align: right;\n",
       "    }\n",
       "\n",
       "    .dataframe thead th {\n",
       "        text-align: left;\n",
       "    }\n",
       "\n",
       "    .dataframe tbody tr th {\n",
       "        vertical-align: top;\n",
       "    }\n",
       "</style>\n",
       "<table border=\"1\" class=\"dataframe\">\n",
       "  <thead>\n",
       "    <tr style=\"text-align: right;\">\n",
       "      <th></th>\n",
       "      <th>HASH_IP_ID</th>\n",
       "      <th>HASH_AR_ID</th>\n",
       "      <th>TXN_CODE</th>\n",
       "      <th>TXN_VAL_DT</th>\n",
       "      <th>NET_CASH_FLOW_AMT</th>\n",
       "      <th>FileDate</th>\n",
       "      <th>Previous_FileDate</th>\n",
       "      <th>Next_FileDate</th>\n",
       "    </tr>\n",
       "  </thead>\n",
       "  <tbody>\n",
       "    <tr>\n",
       "      <th>2</th>\n",
       "      <td>-3.745464e+18</td>\n",
       "      <td>-1966564067668799184</td>\n",
       "      <td>20.0</td>\n",
       "      <td>2016-12-06</td>\n",
       "      <td>1497.0</td>\n",
       "      <td>2016-09-07</td>\n",
       "      <td>2016-08-05</td>\n",
       "      <td>NaT</td>\n",
       "    </tr>\n",
       "    <tr>\n",
       "      <th>3</th>\n",
       "      <td>-3.745464e+18</td>\n",
       "      <td>-1966564067668799184</td>\n",
       "      <td>20.0</td>\n",
       "      <td>2016-11-02</td>\n",
       "      <td>1497.0</td>\n",
       "      <td>2016-09-07</td>\n",
       "      <td>2016-08-05</td>\n",
       "      <td>NaT</td>\n",
       "    </tr>\n",
       "    <tr>\n",
       "      <th>21</th>\n",
       "      <td>-3.745464e+18</td>\n",
       "      <td>-1966564067668799184</td>\n",
       "      <td>20.0</td>\n",
       "      <td>2016-09-07</td>\n",
       "      <td>1480.0</td>\n",
       "      <td>2016-09-07</td>\n",
       "      <td>2016-08-05</td>\n",
       "      <td>NaT</td>\n",
       "    </tr>\n",
       "    <tr>\n",
       "      <th>22</th>\n",
       "      <td>-3.745464e+18</td>\n",
       "      <td>-1966564067668799184</td>\n",
       "      <td>20.0</td>\n",
       "      <td>2016-10-03</td>\n",
       "      <td>1450.0</td>\n",
       "      <td>2016-09-07</td>\n",
       "      <td>2016-08-05</td>\n",
       "      <td>NaT</td>\n",
       "    </tr>\n",
       "    <tr>\n",
       "      <th>31</th>\n",
       "      <td>5.000254e+18</td>\n",
       "      <td>6127627837799209610</td>\n",
       "      <td>20.0</td>\n",
       "      <td>2016-05-27</td>\n",
       "      <td>2000.0</td>\n",
       "      <td>2016-05-23</td>\n",
       "      <td>NaT</td>\n",
       "      <td>2016-06-22</td>\n",
       "    </tr>\n",
       "  </tbody>\n",
       "</table>\n",
       "</div>"
      ],
      "text/plain": [
       "      HASH_IP_ID           HASH_AR_ID  TXN_CODE TXN_VAL_DT  NET_CASH_FLOW_AMT  \\\n",
       "2  -3.745464e+18 -1966564067668799184      20.0 2016-12-06             1497.0   \n",
       "3  -3.745464e+18 -1966564067668799184      20.0 2016-11-02             1497.0   \n",
       "21 -3.745464e+18 -1966564067668799184      20.0 2016-09-07             1480.0   \n",
       "22 -3.745464e+18 -1966564067668799184      20.0 2016-10-03             1450.0   \n",
       "31  5.000254e+18  6127627837799209610      20.0 2016-05-27             2000.0   \n",
       "\n",
       "     FileDate Previous_FileDate Next_FileDate  \n",
       "2  2016-09-07        2016-08-05           NaT  \n",
       "3  2016-09-07        2016-08-05           NaT  \n",
       "21 2016-09-07        2016-08-05           NaT  \n",
       "22 2016-09-07        2016-08-05           NaT  \n",
       "31 2016-05-23               NaT    2016-06-22  "
      ]
     },
     "execution_count": 7,
     "metadata": {},
     "output_type": "execute_result"
    }
   ],
   "source": [
    "df.head()"
   ]
  },
  {
   "cell_type": "code",
   "execution_count": 8,
   "metadata": {},
   "outputs": [
    {
     "data": {
      "text/html": [
       "<div>\n",
       "<style>\n",
       "    .dataframe thead tr:only-child th {\n",
       "        text-align: right;\n",
       "    }\n",
       "\n",
       "    .dataframe thead th {\n",
       "        text-align: left;\n",
       "    }\n",
       "\n",
       "    .dataframe tbody tr th {\n",
       "        vertical-align: top;\n",
       "    }\n",
       "</style>\n",
       "<table border=\"1\" class=\"dataframe\">\n",
       "  <thead>\n",
       "    <tr style=\"text-align: right;\">\n",
       "      <th></th>\n",
       "      <th>HASH_IP_ID</th>\n",
       "      <th>HASH_AR_ID</th>\n",
       "      <th>TXN_CODE</th>\n",
       "      <th>TXN_VAL_DT</th>\n",
       "      <th>NET_CASH_FLOW_AMT</th>\n",
       "      <th>FileDate</th>\n",
       "      <th>Previous_FileDate</th>\n",
       "      <th>Next_FileDate</th>\n",
       "    </tr>\n",
       "  </thead>\n",
       "  <tbody>\n",
       "    <tr>\n",
       "      <th>2</th>\n",
       "      <td>-3.745464e+18</td>\n",
       "      <td>-1966564067668799184</td>\n",
       "      <td>20.0</td>\n",
       "      <td>2016-12-06</td>\n",
       "      <td>1497.0</td>\n",
       "      <td>2016-09-07</td>\n",
       "      <td>2016-08-05</td>\n",
       "      <td>NaT</td>\n",
       "    </tr>\n",
       "    <tr>\n",
       "      <th>3</th>\n",
       "      <td>-3.745464e+18</td>\n",
       "      <td>-1966564067668799184</td>\n",
       "      <td>20.0</td>\n",
       "      <td>2016-11-02</td>\n",
       "      <td>1497.0</td>\n",
       "      <td>2016-09-07</td>\n",
       "      <td>2016-08-05</td>\n",
       "      <td>NaT</td>\n",
       "    </tr>\n",
       "    <tr>\n",
       "      <th>21</th>\n",
       "      <td>-3.745464e+18</td>\n",
       "      <td>-1966564067668799184</td>\n",
       "      <td>20.0</td>\n",
       "      <td>2016-09-07</td>\n",
       "      <td>1480.0</td>\n",
       "      <td>2016-09-07</td>\n",
       "      <td>2016-08-05</td>\n",
       "      <td>NaT</td>\n",
       "    </tr>\n",
       "    <tr>\n",
       "      <th>22</th>\n",
       "      <td>-3.745464e+18</td>\n",
       "      <td>-1966564067668799184</td>\n",
       "      <td>20.0</td>\n",
       "      <td>2016-10-03</td>\n",
       "      <td>1450.0</td>\n",
       "      <td>2016-09-07</td>\n",
       "      <td>2016-08-05</td>\n",
       "      <td>NaT</td>\n",
       "    </tr>\n",
       "    <tr>\n",
       "      <th>31</th>\n",
       "      <td>5.000254e+18</td>\n",
       "      <td>6127627837799209610</td>\n",
       "      <td>20.0</td>\n",
       "      <td>2016-05-27</td>\n",
       "      <td>2000.0</td>\n",
       "      <td>2016-05-23</td>\n",
       "      <td>NaT</td>\n",
       "      <td>2016-06-22</td>\n",
       "    </tr>\n",
       "  </tbody>\n",
       "</table>\n",
       "</div>"
      ],
      "text/plain": [
       "      HASH_IP_ID           HASH_AR_ID  TXN_CODE TXN_VAL_DT  NET_CASH_FLOW_AMT  \\\n",
       "2  -3.745464e+18 -1966564067668799184      20.0 2016-12-06             1497.0   \n",
       "3  -3.745464e+18 -1966564067668799184      20.0 2016-11-02             1497.0   \n",
       "21 -3.745464e+18 -1966564067668799184      20.0 2016-09-07             1480.0   \n",
       "22 -3.745464e+18 -1966564067668799184      20.0 2016-10-03             1450.0   \n",
       "31  5.000254e+18  6127627837799209610      20.0 2016-05-27             2000.0   \n",
       "\n",
       "     FileDate Previous_FileDate Next_FileDate  \n",
       "2  2016-09-07        2016-08-05           NaT  \n",
       "3  2016-09-07        2016-08-05           NaT  \n",
       "21 2016-09-07        2016-08-05           NaT  \n",
       "22 2016-09-07        2016-08-05           NaT  \n",
       "31 2016-05-23               NaT    2016-06-22  "
      ]
     },
     "execution_count": 8,
     "metadata": {},
     "output_type": "execute_result"
    }
   ],
   "source": [
    "df.head()"
   ]
  },
  {
   "cell_type": "code",
   "execution_count": null,
   "metadata": {
    "collapsed": true
   },
   "outputs": [],
   "source": []
  }
 ],
 "metadata": {
  "kernelspec": {
   "display_name": "Python 3",
   "language": "python",
   "name": "python3"
  },
  "language_info": {
   "codemirror_mode": {
    "name": "ipython",
    "version": 3
   },
   "file_extension": ".py",
   "mimetype": "text/x-python",
   "name": "python",
   "nbconvert_exporter": "python",
   "pygments_lexer": "ipython3",
   "version": "3.6.1"
  }
 },
 "nbformat": 4,
 "nbformat_minor": 2
}
