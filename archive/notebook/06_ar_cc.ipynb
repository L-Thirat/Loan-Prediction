{
 "cells": [
  {
   "cell_type": "code",
   "execution_count": 1,
   "metadata": {
    "collapsed": true
   },
   "outputs": [],
   "source": [
    "# This chunk of code make it possible to use src functions\n",
    "import sys\n",
    "import os\n",
    "module_path = os.path.abspath(os.path.join('../src'))\n",
    "\n",
    "if module_path not in sys.path:\n",
    "    sys.path.append(module_path)\n",
    "import warnings\n",
    "warnings.filterwarnings('ignore')\n",
    "\n",
    "from DSProject import DSProject\n",
    "from preprocess import *\n",
    "\n",
    "dsp = DSProject()"
   ]
  },
  {
   "cell_type": "code",
   "execution_count": 2,
   "metadata": {
    "collapsed": true
   },
   "outputs": [],
   "source": [
    "from DSProject import min_date_train, max_date_train, min_date_test, max_date_test, train_label, test_label"
   ]
  },
  {
   "cell_type": "code",
   "execution_count": 3,
   "metadata": {
    "collapsed": true
   },
   "outputs": [],
   "source": [
    "min_date_text = '20160401'\n",
    "max_date_text = '20161001'"
   ]
  },
  {
   "cell_type": "code",
   "execution_count": 5,
   "metadata": {
    "collapsed": true
   },
   "outputs": [],
   "source": [
    "df = dsp.read_table('sor_cc_ar_filtered_' + min_date_text + '_' + max_date_text, 'preprocess', index_col=0)"
   ]
  },
  {
   "cell_type": "code",
   "execution_count": null,
   "metadata": {
    "collapsed": true
   },
   "outputs": [],
   "source": [
    "df.head()"
   ]
  },
  {
   "cell_type": "code",
   "execution_count": null,
   "metadata": {
    "collapsed": true
   },
   "outputs": [],
   "source": [
    "df = dsp.read_data('EDW_SOR_CC_AR')"
   ]
  },
  {
   "cell_type": "code",
   "execution_count": 6,
   "metadata": {
    "collapsed": true
   },
   "outputs": [],
   "source": [
    "df0 = df"
   ]
  },
  {
   "cell_type": "code",
   "execution_count": 7,
   "metadata": {
    "collapsed": false
   },
   "outputs": [
    {
     "name": "stdout",
     "output_type": "stream",
     "text": [
      "Deleted from missings list = ['FSVC_TMT_OUTC_TP_ID', 'RSTC_DFCLT_LVL_ID', 'FSVC_UTLZ_SEG_ID', 'FSVC_UTLZ_RNG_ID', 'PTNL_ESR_RNG_ID', 'PD_ID', 'ALT_CST_EXP_DT', 'CLT_TP_ID', 'CLOSE_DT', 'CRT_DT', 'AFF_MBR_TP_REL_YR', 'AFF_MBR_ORG_GRP_ID', 'CR_LMT_TEMP_EFF_DT', 'CR_LMT_TEMP_END_DT']\n",
      "Number of column deleted = 14\n",
      "Delete single value column list\n",
      "['AR_LVL_IND', 'AR_SCR_TP_ID', 'FSVC_LMT_TP_ID', 'FSVC_RPYMT_TP_ID', 'CST_ORG_NBR', 'ORIG_CCY_ID', 'ACR_MISC_MEMO_AMT', 'BNS_BUCK_BAL', 'BNS_BUCK_USED', 'BNS_BUCK_RNG_ID']\n",
      "Number of column deleted\n",
      "10\n"
     ]
    }
   ],
   "source": [
    "df = df0\n",
    "df = delete_missing_columns(df0)\n",
    "df = delete_single_value_columns(df)"
   ]
  },
  {
   "cell_type": "code",
   "execution_count": 8,
   "metadata": {
    "collapsed": true
   },
   "outputs": [],
   "source": [
    "df['HASH_AR_ID'] = df['HASH_AR_ID'].astype(str)\n",
    "df['POSN_DT'] = parse_dates(df['POSN_DT'], '%Y-%m-%d')"
   ]
  },
  {
   "cell_type": "code",
   "execution_count": 9,
   "metadata": {
    "collapsed": true
   },
   "outputs": [],
   "source": [
    "target = dsp.read_table('group_payment_target', 'feature', use_schema=True)"
   ]
  },
  {
   "cell_type": "code",
   "execution_count": 10,
   "metadata": {
    "collapsed": true
   },
   "outputs": [],
   "source": [
    "prep = pd.merge(target[['HASH_AR_ID', 'FileDate', 'Previous_FileDate', 'Next_FileDate']], \n",
    "                df, on=['HASH_AR_ID'], how ='inner', suffixes=['','_y'])"
   ]
  },
  {
   "cell_type": "code",
   "execution_count": 11,
   "metadata": {
    "collapsed": false
   },
   "outputs": [
    {
     "name": "stdout",
     "output_type": "stream",
     "text": [
      "Merge coverage\n",
      "0.36107692978201944\n"
     ]
    }
   ],
   "source": [
    "df = prep.loc[(prep['POSN_DT'] < prep['FileDate']) & (prep['POSN_DT'] >= prep['Previous_FileDate'])]\n",
    "print(\"Merge coverage\")\n",
    "print(len(df.index)/len(target.index))"
   ]
  },
  {
   "cell_type": "code",
   "execution_count": 12,
   "metadata": {
    "collapsed": true
   },
   "outputs": [],
   "source": [
    "dsp.write_table(df, 'sor_cc_ar_' + min_date_text + '_' + max_date_text, 'feature')"
   ]
  },
  {
   "cell_type": "code",
   "execution_count": 13,
   "metadata": {
    "collapsed": false
   },
   "outputs": [
    {
     "name": "stdout",
     "output_type": "stream",
     "text": [
      "389385\n"
     ]
    }
   ],
   "source": [
    "print(len(df.index))"
   ]
  },
  {
   "cell_type": "code",
   "execution_count": 14,
   "metadata": {
    "collapsed": false
   },
   "outputs": [
    {
     "data": {
      "text/plain": [
       "'/Users/jah/jah/work/consulting/kbank/code/data/201510_201610'"
      ]
     },
     "execution_count": 14,
     "metadata": {},
     "output_type": "execute_result"
    }
   ],
   "source": [
    "dsp.data_directory"
   ]
  },
  {
   "cell_type": "code",
   "execution_count": 15,
   "metadata": {
    "collapsed": true
   },
   "outputs": [],
   "source": [
    "df_train, df_test = filter_dates(df, min_date_train, max_date_train, min_date_test, max_date_test)"
   ]
  },
  {
   "cell_type": "code",
   "execution_count": 16,
   "metadata": {
    "collapsed": false
   },
   "outputs": [
    {
     "data": {
      "text/plain": [
       "199082"
      ]
     },
     "execution_count": 16,
     "metadata": {},
     "output_type": "execute_result"
    }
   ],
   "source": [
    "len(df_train.index)"
   ]
  },
  {
   "cell_type": "code",
   "execution_count": 17,
   "metadata": {
    "collapsed": false
   },
   "outputs": [
    {
     "data": {
      "text/plain": [
       "62276"
      ]
     },
     "execution_count": 17,
     "metadata": {},
     "output_type": "execute_result"
    }
   ],
   "source": [
    "len(df_test.index)"
   ]
  },
  {
   "cell_type": "code",
   "execution_count": 18,
   "metadata": {
    "collapsed": true
   },
   "outputs": [],
   "source": [
    "dsp.write_table(pd.concat([df_train, df_test]), 'sor_cc_ar_' + min_date_text + '_' + max_date_text, 'feature')"
   ]
  },
  {
   "cell_type": "code",
   "execution_count": null,
   "metadata": {
    "collapsed": true
   },
   "outputs": [],
   "source": []
  }
 ],
 "metadata": {
  "anaconda-cloud": {},
  "kernelspec": {
   "display_name": "Python [default]",
   "language": "python",
   "name": "python3"
  },
  "language_info": {
   "codemirror_mode": {
    "name": "ipython",
    "version": 3
   },
   "file_extension": ".py",
   "mimetype": "text/x-python",
   "name": "python",
   "nbconvert_exporter": "python",
   "pygments_lexer": "ipython3",
   "version": "3.5.2"
  }
 },
 "nbformat": 4,
 "nbformat_minor": 0
}
