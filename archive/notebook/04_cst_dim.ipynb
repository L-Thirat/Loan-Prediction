{
 "cells": [
  {
   "cell_type": "code",
   "execution_count": 17,
   "metadata": {
    "collapsed": true
   },
   "outputs": [],
   "source": [
    "# This chunk of code make it possible to use src functions\n",
    "import sys\n",
    "import os\n",
    "module_path = os.path.abspath(os.path.join('../src'))\n",
    "\n",
    "if module_path not in sys.path:\n",
    "    sys.path.append(module_path)\n",
    "import warnings\n",
    "warnings.filterwarnings('ignore')\n",
    "\n",
    "from dsproject import dsproject\n",
    "from preprocess import *\n",
    "\n",
    "dsp = dsproject()"
   ]
  },
  {
   "cell_type": "code",
   "execution_count": 18,
   "metadata": {
    "collapsed": true
   },
   "outputs": [],
   "source": [
    "df = dsp.read_data('CST_DIM', dtype={'HASH_IP_ID': str})"
   ]
  },
  {
   "cell_type": "code",
   "execution_count": 19,
   "metadata": {},
   "outputs": [
    {
     "name": "stdout",
     "output_type": "stream",
     "text": [
      "Deleted from missings list = ['DEATH_DT', 'IP_LCS_EFF_DT', 'CST_LCS_EFF_DT', 'IDV_LCS_TP_ID', 'IDV_LCS_SHRT_DSC', 'IDV_LCS_EFF_DT', 'IP_MRG_ST_TP_ID', 'IP_MRG_ST_SHRT_DSC', 'IP_MRG_DT', 'CST_SUB_SEG_SHRT_DSC', 'CST_DUAL_SUB_SEG_SHRT_DSC', 'RLG_ID', 'RLG_SHRT_DSC', 'CST_SPRS_F', 'CST_SPRS_SHRT_DSC', 'HM_PH_SPRS_F', 'HM_PH_SPRS_SHRT_DSC', 'OFFC_PH_SPRS_F', 'OFFC_PH_SPRS_SHRT_DSC', 'MBL_PH_SPRS_F', 'MBL_PH_SPRS_SHRT_DSC', 'EMAIL_SPRS_F', 'EMAIL_SPRS_SHRT_DSC', 'DRC_MAIL_SPRS_F', 'DRC_MAIL_SPRS_SHRT_DSC', 'TELE_MKT_SPRS_F', 'TELE_MKT_SPRS_SHRT_DSC', 'SMS_SPRS_F', 'SMS_SPRS_SHRT_DSC', 'OFFC_ADR_UNCTC_F', 'OFFC_ADR_UNCTC_RSN_ID', 'OFFC_ADR_UNCTC_RSN_SHRT_DSC', 'OFFC_ADR_UNCTC_STMP_DT', 'WRK_ADR_UNCTC_F', 'WRK_ADR_UNCTC_RSN_ID', 'WRK_ADR_UNCTC_RSN_SHRT_DSC', 'WRK_ADR_UNCTC_STMP_DT', 'CTC_ADR_UNCTC_F', 'CTC_ADR_UNCTC_RSN_ID', 'CTC_ADR_UNCTC_RSN_SHRT_DSC', 'CTC_ADR_UNCTC_STMP_DT', 'HM_PH_UNCTC_F', 'HM_PH_UNCTC_RSN_ID', 'HM_PH_UNCTC_RSN_SHRT_DSC', 'HM_PH_UNCTC_STMP_DT', 'WRK_PH_UNCTC_F', 'WRK_PH_UNCTC_RSN_ID', 'WRK_PH_UNCTC_RSN_SHRT_DSC', 'WRK_PH_UNCTC_STMP_DT', 'MBL_PH_UNCTC_F', 'MBL_PH_UNCTC_RSN_ID', 'MBL_PH_UNCTC_RSN_SHRT_DSC', 'MBL_PH_UNCTC_STMP_DT', 'FAX_UNCTC_F', 'FAX_UNCTC_RSN_ID', 'FAX_UNCTC_RSN_SHRT_DSC', 'FAX_UNCTC_STMP_DT', 'PSN_E_MAIL_UNCTC_F', 'PSN_E_MAIL_UNCTC_RSN_ID', 'PSN_E_MAIL_UNCTC_RSN_SHRT_DSC', 'PSN_E_MAIL_UNCTC_STMP_DT', 'WRK_E_MAIL_UNCTC_F', 'WRK_E_MAIL_UNCTC_RSN_ID', 'WRK_E_MAIL_UNCTC_RSN_SHRT_DSC', 'WRK_E_MAIL_UNCTC_STMP_DT', 'CONSND_KA_F', 'CONSND_KF_F', 'CONSND_KS_F', 'HSHOLD_NBR_DPND_CHL', 'CC_STMT_RET_RSN_SHRT_DSC', 'END_CST_DT']\n",
      "Number of column deleted = 71\n",
      "Delete single value column list\n",
      "['END_DT', 'CST_LCS_TP_ID', 'CST_LCS_SHRT_DSC', 'IP_TP_ID', 'IP_TP_SHRT_DSC', 'ORG_REV_AMT']\n",
      "Number of column deleted\n",
      "6\n"
     ]
    }
   ],
   "source": [
    "df = delete_missing_columns(df)  \n",
    "df = delete_single_value_columns(df)"
   ]
  },
  {
   "cell_type": "code",
   "execution_count": 20,
   "metadata": {
    "collapsed": true
   },
   "outputs": [],
   "source": [
    "df = df.drop(['CTC_ADR_PROV_TX', 'CTC_ADR_PROV_TX', 'SALUT_TH', 'OFFC_ADR_PROV_TX'], axis=1)"
   ]
  },
  {
   "cell_type": "code",
   "execution_count": 21,
   "metadata": {
    "collapsed": true
   },
   "outputs": [],
   "source": [
    "df = df.drop_duplicates(subset='HASH_IP_ID')"
   ]
  },
  {
   "cell_type": "code",
   "execution_count": 22,
   "metadata": {
    "collapsed": true
   },
   "outputs": [],
   "source": [
    "target = dsp.read_table('group_payment_target', 'feature', use_schema=True)"
   ]
  },
  {
   "cell_type": "code",
   "execution_count": 23,
   "metadata": {},
   "outputs": [
    {
     "name": "stdout",
     "output_type": "stream",
     "text": [
      "Merge coverage\n",
      "1.0\n"
     ]
    }
   ],
   "source": [
    "prep = target[['HASH_IP_ID', 'HASH_AR_ID', 'FileDate']].merge(df, on=['HASH_IP_ID'], how ='inner' )\n",
    "print(\"Merge coverage\")\n",
    "print(len(prep.index)/len(target.index))"
   ]
  },
  {
   "cell_type": "code",
   "execution_count": 25,
   "metadata": {},
   "outputs": [],
   "source": [
    "prep = prep.drop_duplicates(subset='HASH_AR_ID')"
   ]
  },
  {
   "cell_type": "code",
   "execution_count": 27,
   "metadata": {
    "collapsed": true
   },
   "outputs": [],
   "source": [
    "dsp.write_table(prep, 'cst_dim', 'feature')"
   ]
  },
  {
   "cell_type": "code",
   "execution_count": null,
   "metadata": {
    "collapsed": true
   },
   "outputs": [],
   "source": []
  }
 ],
 "metadata": {
  "kernelspec": {
   "display_name": "Python 3",
   "language": "python",
   "name": "python3"
  },
  "language_info": {
   "codemirror_mode": {
    "name": "ipython",
    "version": 3
   },
   "file_extension": ".py",
   "mimetype": "text/x-python",
   "name": "python",
   "nbconvert_exporter": "python",
   "pygments_lexer": "ipython3",
   "version": "3.6.1"
  }
 },
 "nbformat": 4,
 "nbformat_minor": 2
}
